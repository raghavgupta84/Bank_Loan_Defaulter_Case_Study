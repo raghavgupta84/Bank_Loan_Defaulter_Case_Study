{
 "cells": [
  {
   "cell_type": "code",
   "execution_count": 1,
   "metadata": {
    "executionInfo": {
     "elapsed": 5680,
     "status": "ok",
     "timestamp": 1617214602757,
     "user": {
      "displayName": "Raghav Gupta",
      "photoUrl": "https://lh3.googleusercontent.com/a-/AOh14GgorRHrSE1zI37pb0V-75_DSV7fl1tftsSDhWzRKw=s64",
      "userId": "06994152693423055583"
     },
     "user_tz": -330
    },
    "id": "yxHzXil6OT7X"
   },
   "outputs": [],
   "source": [
    "import numpy as np\n",
    "import pandas as pd\n",
    "import matplotlib.pyplot as plt \n",
    "%matplotlib inline\n",
    "import seaborn as sns\n",
    "import scipy.stats as stats\n",
    "from scipy.stats import variation\n"
   ]
  },
  {
   "cell_type": "code",
   "execution_count": 2,
   "metadata": {
    "executionInfo": {
     "elapsed": 5384,
     "status": "ok",
     "timestamp": 1617214602760,
     "user": {
      "displayName": "Raghav Gupta",
      "photoUrl": "https://lh3.googleusercontent.com/a-/AOh14GgorRHrSE1zI37pb0V-75_DSV7fl1tftsSDhWzRKw=s64",
      "userId": "06994152693423055583"
     },
     "user_tz": -330
    },
    "id": "WEAHY9zvOT7h"
   },
   "outputs": [],
   "source": [
    "# creating a function to return CV array\n",
    "def CV_row(df):   \n",
    "    i=0;\n",
    "    CV=[]\n",
    "    numeric_col_names=numeric_datatype_df(df)\n",
    "\n",
    "    for i in df.columns:\n",
    "        if (i in numeric_col_names):\n",
    "            CV_val=  round(variation(df[i]),2)\n",
    "            CV.append(CV_val)\n",
    "\n",
    "    return CV    "
   ]
  },
  {
   "cell_type": "code",
   "execution_count": 3,
   "metadata": {
    "executionInfo": {
     "elapsed": 5164,
     "status": "ok",
     "timestamp": 1617214602762,
     "user": {
      "displayName": "Raghav Gupta",
      "photoUrl": "https://lh3.googleusercontent.com/a-/AOh14GgorRHrSE1zI37pb0V-75_DSV7fl1tftsSDhWzRKw=s64",
      "userId": "06994152693423055583"
     },
     "user_tz": -330
    },
    "id": "dnTWuGqFOT7i"
   },
   "outputs": [],
   "source": [
    "# creating a function to return skew array\n",
    "def Skew_row(df):   \n",
    "    i=0;\n",
    "    Skew=[]\n",
    "    numeric_col_names=numeric_datatype_df(df)\n",
    "    for i in df.columns:\n",
    "        if (i in numeric_col_names):\n",
    "            Skew_val=  round(df[i].skew(),2)\n",
    "            Skew.append(Skew_val)\n",
    "    return Skew   "
   ]
  },
  {
   "cell_type": "code",
   "execution_count": 4,
   "metadata": {
    "executionInfo": {
     "elapsed": 4928,
     "status": "ok",
     "timestamp": 1617214602763,
     "user": {
      "displayName": "Raghav Gupta",
      "photoUrl": "https://lh3.googleusercontent.com/a-/AOh14GgorRHrSE1zI37pb0V-75_DSV7fl1tftsSDhWzRKw=s64",
      "userId": "06994152693423055583"
     },
     "user_tz": -330
    },
    "id": "XvdwD4XXOT7i"
   },
   "outputs": [],
   "source": [
    "# creating a function to return CV, skew, IQR, Upper range, lower range of dataframe\n",
    "def CV_row(df):   \n",
    "    i=0;\n",
    "    CV=[]\n",
    "    Skew=[]\n",
    "    IQR=[]\n",
    "    UR=[]\n",
    "    LR=[]\n",
    "    numeric_col_names=numeric_datatype_df(df)\n",
    "    for i in df.columns:\n",
    "        if (i in numeric_col_names):\n",
    "            CV.append(round(variation(df[i]),2))\n",
    "            Skew.append(round(df[i].skew(),2))\n",
    "            IQR_val, lower_range, upper_range = return_IQR_LR_UR(df[i])\n",
    "            IQR.append(round(IQR_val,2))\n",
    "            UR.append(round(upper_range,2))\n",
    "            LR.append(round(lower_range,2))\n",
    "\n",
    "    return CV, Skew, IQR,  UR, LR    \n"
   ]
  },
  {
   "cell_type": "code",
   "execution_count": 5,
   "metadata": {
    "executionInfo": {
     "elapsed": 4687,
     "status": "ok",
     "timestamp": 1617214602763,
     "user": {
      "displayName": "Raghav Gupta",
      "photoUrl": "https://lh3.googleusercontent.com/a-/AOh14GgorRHrSE1zI37pb0V-75_DSV7fl1tftsSDhWzRKw=s64",
      "userId": "06994152693423055583"
     },
     "user_tz": -330
    },
    "id": "i9iZJScVOT7j"
   },
   "outputs": [],
   "source": [
    "# creating a function which will return the array of column names for integers/float data type only\n",
    "def numeric_datatype_df(df):  \n",
    "    df_dtype=pd.DataFrame(df.dtypes)\n",
    "    df_dtype.reset_index(inplace =True)\n",
    "    df_dtype.rename(columns ={'index':'Col_names', 0:'dtype'}, inplace =True)\n",
    "    df1_dtype_numeric=df_dtype[(df_dtype['dtype']=='float64') | (df_dtype['dtype']=='int64') | (df_dtype['dtype']=='int8')]\n",
    "    return np.array(df1_dtype_numeric.Col_names)"
   ]
  },
  {
   "cell_type": "code",
   "execution_count": 6,
   "metadata": {
    "executionInfo": {
     "elapsed": 4447,
     "status": "ok",
     "timestamp": 1617214602764,
     "user": {
      "displayName": "Raghav Gupta",
      "photoUrl": "https://lh3.googleusercontent.com/a-/AOh14GgorRHrSE1zI37pb0V-75_DSV7fl1tftsSDhWzRKw=s64",
      "userId": "06994152693423055583"
     },
     "user_tz": -330
    },
    "id": "x_D1L1RHOT7k"
   },
   "outputs": [],
   "source": [
    "def calc_rows(Col_list,no_of_graph_row):  \n",
    "    if (len(Col_list) % no_of_graph_row == 0):\n",
    "        rows= len(Col_list) / no_of_graph_row\n",
    "    else:\n",
    "        rows= len(Col_list) / no_of_graph_row + 1\n",
    "    return rows"
   ]
  },
  {
   "cell_type": "code",
   "execution_count": 7,
   "metadata": {
    "executionInfo": {
     "elapsed": 7767,
     "status": "ok",
     "timestamp": 1617214606315,
     "user": {
      "displayName": "Raghav Gupta",
      "photoUrl": "https://lh3.googleusercontent.com/a-/AOh14GgorRHrSE1zI37pb0V-75_DSV7fl1tftsSDhWzRKw=s64",
      "userId": "06994152693423055583"
     },
     "user_tz": -330
    },
    "id": "98fdSkNeOT7k"
   },
   "outputs": [],
   "source": [
    "## Using User definition to return IQR, LR, UR for a column\n",
    "def return_IQR_LR_UR(col):\n",
    "    sorted(col)\n",
    "    Q1,Q3=col.quantile([0.25,0.75])\n",
    "    IQR=Q3-Q1\n",
    "    lower_range= Q1-(1.5 * IQR)\n",
    "    upper_range= Q3+(1.5 * IQR)\n",
    "    return IQR, lower_range, upper_range"
   ]
  },
  {
   "cell_type": "code",
   "execution_count": 8,
   "metadata": {
    "executionInfo": {
     "elapsed": 7545,
     "status": "ok",
     "timestamp": 1617214606319,
     "user": {
      "displayName": "Raghav Gupta",
      "photoUrl": "https://lh3.googleusercontent.com/a-/AOh14GgorRHrSE1zI37pb0V-75_DSV7fl1tftsSDhWzRKw=s64",
      "userId": "06994152693423055583"
     },
     "user_tz": -330
    },
    "id": "_dvSR6j4OT7l"
   },
   "outputs": [],
   "source": [
    "# Check for missing value in any colum\n",
    "def missing_check(df):\n",
    "    total = df.isnull().sum().sort_values(ascending=False)   # total number of null values\n",
    "    percent = (df.isnull().sum() * 100/df.isnull().count()).sort_values(ascending=False)  # percentage of values that are null\n",
    "    missing_data = pd.concat([total, percent], axis=1, keys=['Total', 'Percent'])  # putting the above two together\n",
    "    return missing_data # return the dataframe\n"
   ]
  },
  {
   "cell_type": "markdown",
   "metadata": {
    "id": "Q7z5qd28OT7l"
   },
   "source": [
    "# 2.1 Read the data, do the necessary initial steps, and exploratory data analysis (Univariate, Bi-variate, and multivariate analysis)."
   ]
  },
  {
   "cell_type": "markdown",
   "metadata": {
    "id": "RMCehTMiOT7m"
   },
   "source": [
    "## Read the data into the notebook\n"
   ]
  },
  {
   "cell_type": "code",
   "execution_count": 1,
   "metadata": {
    "colab": {
     "base_uri": "https://localhost:8080/",
     "height": 72,
     "resources": {
      "http://localhost:8080/nbextensions/google.colab/files.js": {
       "data": "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",
       "headers": [
        [
         "content-type",
         "application/javascript"
        ]
       ],
       "ok": true,
       "status": 200,
       "status_text": ""
      }
     }
    },
    "executionInfo": {
     "elapsed": 189676,
     "status": "ok",
     "timestamp": 1617214789192,
     "user": {
      "displayName": "Raghav Gupta",
      "photoUrl": "https://lh3.googleusercontent.com/a-/AOh14GgorRHrSE1zI37pb0V-75_DSV7fl1tftsSDhWzRKw=s64",
      "userId": "06994152693423055583"
     },
     "user_tz": -330
    },
    "id": "jEpBxaHXQV6G",
    "outputId": "458e4a0b-a748-48ff-f577-4e19bf7ab512"
   },
   "outputs": [],
   "source": [
    "# from google.colab import files\n",
    "# data_to_upload = files.upload()"
   ]
  },
  {
   "cell_type": "code",
   "execution_count": null,
   "metadata": {
    "executionInfo": {
     "elapsed": 189461,
     "status": "ok",
     "timestamp": 1617214789201,
     "user": {
      "displayName": "Raghav Gupta",
      "photoUrl": "https://lh3.googleusercontent.com/a-/AOh14GgorRHrSE1zI37pb0V-75_DSV7fl1tftsSDhWzRKw=s64",
      "userId": "06994152693423055583"
     },
     "user_tz": -330
    },
    "id": "_oy65C21QWkH"
   },
   "outputs": [],
   "source": [
    "import io\n"
   ]
  },
  {
   "cell_type": "code",
   "execution_count": 11,
   "metadata": {
    "executionInfo": {
     "elapsed": 189139,
     "status": "ok",
     "timestamp": 1617214789203,
     "user": {
      "displayName": "Raghav Gupta",
      "photoUrl": "https://lh3.googleusercontent.com/a-/AOh14GgorRHrSE1zI37pb0V-75_DSV7fl1tftsSDhWzRKw=s64",
      "userId": "06994152693423055583"
     },
     "user_tz": -330
    },
    "id": "EgqIUaQnQwZg"
   },
   "outputs": [],
   "source": [
    "# df_train = pd.read_csv(io.BytesIO(data_to_upload['train_ctrUa4K.csv']))"
   ]
  },
  {
   "cell_type": "code",
   "execution_count": null,
   "metadata": {
    "colab": {
     "base_uri": "https://localhost:8080/",
     "height": 72,
     "resources": {
      "http://localhost:8080/nbextensions/google.colab/files.js": {
       "data": "Ly8gQ29weXJpZ2h0IDIwMTcgR29vZ2xlIExMQwovLwovLyBMaWNlbnNlZCB1bmRlciB0aGUgQXBhY2hlIExpY2Vuc2UsIFZlcnNpb24gMi4wICh0aGUgIkxpY2Vuc2UiKTsKLy8geW91IG1heSBub3QgdXNlIHRoaXMgZmlsZSBleGNlcHQgaW4gY29tcGxpYW5jZSB3aXRoIHRoZSBMaWNlbnNlLgovLyBZb3UgbWF5IG9idGFpbiBhIGNvcHkgb2YgdGhlIExpY2Vuc2UgYXQKLy8KLy8gICAgICBodHRwOi8vd3d3LmFwYWNoZS5vcmcvbGljZW5zZXMvTElDRU5TRS0yLjAKLy8KLy8gVW5sZXNzIHJlcXVpcmVkIGJ5IGFwcGxpY2FibGUgbGF3IG9yIGFncmVlZCB0byBpbiB3cml0aW5nLCBzb2Z0d2FyZQovLyBkaXN0cmlidXRlZCB1bmRlciB0aGUgTGljZW5zZSBpcyBkaXN0cmlidXRlZCBvbiBhbiAiQVMgSVMiIEJBU0lTLAovLyBXSVRIT1VUIFdBUlJBTlRJRVMgT1IgQ09ORElUSU9OUyBPRiBBTlkgS0lORCwgZWl0aGVyIGV4cHJlc3Mgb3IgaW1wbGllZC4KLy8gU2VlIHRoZSBMaWNlbnNlIGZvciB0aGUgc3BlY2lmaWMgbGFuZ3VhZ2UgZ292ZXJuaW5nIHBlcm1pc3Npb25zIGFuZAovLyBsaW1pdGF0aW9ucyB1bmRlciB0aGUgTGljZW5zZS4KCi8qKgogKiBAZmlsZW92ZXJ2aWV3IEhlbHBlcnMgZm9yIGdvb2dsZS5jb2xhYiBQeXRob24gbW9kdWxlLgogKi8KKGZ1bmN0aW9uKHNjb3BlKSB7CmZ1bmN0aW9uIHNwYW4odGV4dCwgc3R5bGVBdHRyaWJ1dGVzID0ge30pIHsKICBjb25zdCBlbGVtZW50ID0gZG9jdW1lbnQuY3JlYXRlRWxlbWVudCgnc3BhbicpOwogIGVsZW1lbnQudGV4dENvbnRlbnQgPSB0ZXh0OwogIGZvciAoY29uc3Qga2V5IG9mIE9iamVjdC5rZXlzKHN0eWxlQXR0cmlidXRlcykpIHsKICAgIGVsZW1lbnQuc3R5bGVba2V5XSA9IHN0eWxlQXR0cmlidXRlc1trZXldOwogIH0KICByZXR1cm4gZWxlbWVudDsKfQoKLy8gTWF4IG51bWJlciBvZiBieXRlcyB3aGljaCB3aWxsIGJlIHVwbG9hZGVkIGF0IGEgdGltZS4KY29uc3QgTUFYX1BBWUxPQURfU0laRSA9IDEwMCAqIDEwMjQ7CgpmdW5jdGlvbiBfdXBsb2FkRmlsZXMoaW5wdXRJZCwgb3V0cHV0SWQpIHsKICBjb25zdCBzdGVwcyA9IHVwbG9hZEZpbGVzU3RlcChpbnB1dElkLCBvdXRwdXRJZCk7CiAgY29uc3Qgb3V0cHV0RWxlbWVudCA9IGRvY3VtZW50LmdldEVsZW1lbnRCeUlkKG91dHB1dElkKTsKICAvLyBDYWNoZSBzdGVwcyBvbiB0aGUgb3V0cHV0RWxlbWVudCB0byBtYWtlIGl0IGF2YWlsYWJsZSBmb3IgdGhlIG5leHQgY2FsbAogIC8vIHRvIHVwbG9hZEZpbGVzQ29udGludWUgZnJvbSBQeXRob24uCiAgb3V0cHV0RWxlbWVudC5zdGVwcyA9IHN0ZXBzOwoKICByZXR1cm4gX3VwbG9hZEZpbGVzQ29udGludWUob3V0cHV0SWQpOwp9CgovLyBUaGlzIGlzIHJvdWdobHkgYW4gYXN5bmMgZ2VuZXJhdG9yIChub3Qgc3VwcG9ydGVkIGluIHRoZSBicm93c2VyIHlldCksCi8vIHdoZXJlIHRoZXJlIGFyZSBtdWx0aXBsZSBhc3luY2hyb25vdXMgc3RlcHMgYW5kIHRoZSBQeXRob24gc2lkZSBpcyBnb2luZwovLyB0byBwb2xsIGZvciBjb21wbGV0aW9uIG9mIGVhY2ggc3RlcC4KLy8gVGhpcyB1c2VzIGEgUHJvbWlzZSB0byBibG9jayB0aGUgcHl0aG9uIHNpZGUgb24gY29tcGxldGlvbiBvZiBlYWNoIHN0ZXAsCi8vIHRoZW4gcGFzc2VzIHRoZSByZXN1bHQgb2YgdGhlIHByZXZpb3VzIHN0ZXAgYXMgdGhlIGlucHV0IHRvIHRoZSBuZXh0IHN0ZXAuCmZ1bmN0aW9uIF91cGxvYWRGaWxlc0NvbnRpbnVlKG91dHB1dElkKSB7CiAgY29uc3Qgb3V0cHV0RWxlbWVudCA9IGRvY3VtZW50LmdldEVsZW1lbnRCeUlkKG91dHB1dElkKTsKICBjb25zdCBzdGVwcyA9IG91dHB1dEVsZW1lbnQuc3RlcHM7CgogIGNvbnN0IG5leHQgPSBzdGVwcy5uZXh0KG91dHB1dEVsZW1lbnQubGFzdFByb21pc2VWYWx1ZSk7CiAgcmV0dXJuIFByb21pc2UucmVzb2x2ZShuZXh0LnZhbHVlLnByb21pc2UpLnRoZW4oKHZhbHVlKSA9PiB7CiAgICAvLyBDYWNoZSB0aGUgbGFzdCBwcm9taXNlIHZhbHVlIHRvIG1ha2UgaXQgYXZhaWxhYmxlIHRvIHRoZSBuZXh0CiAgICAvLyBzdGVwIG9mIHRoZSBnZW5lcmF0b3IuCiAgICBvdXRwdXRFbGVtZW50Lmxhc3RQcm9taXNlVmFsdWUgPSB2YWx1ZTsKICAgIHJldHVybiBuZXh0LnZhbHVlLnJlc3BvbnNlOwogIH0pOwp9CgovKioKICogR2VuZXJhdG9yIGZ1bmN0aW9uIHdoaWNoIGlzIGNhbGxlZCBiZXR3ZWVuIGVhY2ggYXN5bmMgc3RlcCBvZiB0aGUgdXBsb2FkCiAqIHByb2Nlc3MuCiAqIEBwYXJhbSB7c3RyaW5nfSBpbnB1dElkIEVsZW1lbnQgSUQgb2YgdGhlIGlucHV0IGZpbGUgcGlja2VyIGVsZW1lbnQuCiAqIEBwYXJhbSB7c3RyaW5nfSBvdXRwdXRJZCBFbGVtZW50IElEIG9mIHRoZSBvdXRwdXQgZGlzcGxheS4KICogQHJldHVybiB7IUl0ZXJhYmxlPCFPYmplY3Q+fSBJdGVyYWJsZSBvZiBuZXh0IHN0ZXBzLgogKi8KZnVuY3Rpb24qIHVwbG9hZEZpbGVzU3RlcChpbnB1dElkLCBvdXRwdXRJZCkgewogIGNvbnN0IGlucHV0RWxlbWVudCA9IGRvY3VtZW50LmdldEVsZW1lbnRCeUlkKGlucHV0SWQpOwogIGlucHV0RWxlbWVudC5kaXNhYmxlZCA9IGZhbHNlOwoKICBjb25zdCBvdXRwdXRFbGVtZW50ID0gZG9jdW1lbnQuZ2V0RWxlbWVudEJ5SWQob3V0cHV0SWQpOwogIG91dHB1dEVsZW1lbnQuaW5uZXJIVE1MID0gJyc7CgogIGNvbnN0IHBpY2tlZFByb21pc2UgPSBuZXcgUHJvbWlzZSgocmVzb2x2ZSkgPT4gewogICAgaW5wdXRFbGVtZW50LmFkZEV2ZW50TGlzdGVuZXIoJ2NoYW5nZScsIChlKSA9PiB7CiAgICAgIHJlc29sdmUoZS50YXJnZXQuZmlsZXMpOwogICAgfSk7CiAgfSk7CgogIGNvbnN0IGNhbmNlbCA9IGRvY3VtZW50LmNyZWF0ZUVsZW1lbnQoJ2J1dHRvbicpOwogIGlucHV0RWxlbWVudC5wYXJlbnRFbGVtZW50LmFwcGVuZENoaWxkKGNhbmNlbCk7CiAgY2FuY2VsLnRleHRDb250ZW50ID0gJ0NhbmNlbCB1cGxvYWQnOwogIGNvbnN0IGNhbmNlbFByb21pc2UgPSBuZXcgUHJvbWlzZSgocmVzb2x2ZSkgPT4gewogICAgY2FuY2VsLm9uY2xpY2sgPSAoKSA9PiB7CiAgICAgIHJlc29sdmUobnVsbCk7CiAgICB9OwogIH0pOwoKICAvLyBXYWl0IGZvciB0aGUgdXNlciB0byBwaWNrIHRoZSBmaWxlcy4KICBjb25zdCBmaWxlcyA9IHlpZWxkIHsKICAgIHByb21pc2U6IFByb21pc2UucmFjZShbcGlja2VkUHJvbWlzZSwgY2FuY2VsUHJvbWlzZV0pLAogICAgcmVzcG9uc2U6IHsKICAgICAgYWN0aW9uOiAnc3RhcnRpbmcnLAogICAgfQogIH07CgogIGNhbmNlbC5yZW1vdmUoKTsKCiAgLy8gRGlzYWJsZSB0aGUgaW5wdXQgZWxlbWVudCBzaW5jZSBmdXJ0aGVyIHBpY2tzIGFyZSBub3QgYWxsb3dlZC4KICBpbnB1dEVsZW1lbnQuZGlzYWJsZWQgPSB0cnVlOwoKICBpZiAoIWZpbGVzKSB7CiAgICByZXR1cm4gewogICAgICByZXNwb25zZTogewogICAgICAgIGFjdGlvbjogJ2NvbXBsZXRlJywKICAgICAgfQogICAgfTsKICB9CgogIGZvciAoY29uc3QgZmlsZSBvZiBmaWxlcykgewogICAgY29uc3QgbGkgPSBkb2N1bWVudC5jcmVhdGVFbGVtZW50KCdsaScpOwogICAgbGkuYXBwZW5kKHNwYW4oZmlsZS5uYW1lLCB7Zm9udFdlaWdodDogJ2JvbGQnfSkpOwogICAgbGkuYXBwZW5kKHNwYW4oCiAgICAgICAgYCgke2ZpbGUudHlwZSB8fCAnbi9hJ30pIC0gJHtmaWxlLnNpemV9IGJ5dGVzLCBgICsKICAgICAgICBgbGFzdCBtb2RpZmllZDogJHsKICAgICAgICAgICAgZmlsZS5sYXN0TW9kaWZpZWREYXRlID8gZmlsZS5sYXN0TW9kaWZpZWREYXRlLnRvTG9jYWxlRGF0ZVN0cmluZygpIDoKICAgICAgICAgICAgICAgICAgICAgICAgICAgICAgICAgICAgJ24vYSd9IC0gYCkpOwogICAgY29uc3QgcGVyY2VudCA9IHNwYW4oJzAlIGRvbmUnKTsKICAgIGxpLmFwcGVuZENoaWxkKHBlcmNlbnQpOwoKICAgIG91dHB1dEVsZW1lbnQuYXBwZW5kQ2hpbGQobGkpOwoKICAgIGNvbnN0IGZpbGVEYXRhUHJvbWlzZSA9IG5ldyBQcm9taXNlKChyZXNvbHZlKSA9PiB7CiAgICAgIGNvbnN0IHJlYWRlciA9IG5ldyBGaWxlUmVhZGVyKCk7CiAgICAgIHJlYWRlci5vbmxvYWQgPSAoZSkgPT4gewogICAgICAgIHJlc29sdmUoZS50YXJnZXQucmVzdWx0KTsKICAgICAgfTsKICAgICAgcmVhZGVyLnJlYWRBc0FycmF5QnVmZmVyKGZpbGUpOwogICAgfSk7CiAgICAvLyBXYWl0IGZvciB0aGUgZGF0YSB0byBiZSByZWFkeS4KICAgIGxldCBmaWxlRGF0YSA9IHlpZWxkIHsKICAgICAgcHJvbWlzZTogZmlsZURhdGFQcm9taXNlLAogICAgICByZXNwb25zZTogewogICAgICAgIGFjdGlvbjogJ2NvbnRpbnVlJywKICAgICAgfQogICAgfTsKCiAgICAvLyBVc2UgYSBjaHVua2VkIHNlbmRpbmcgdG8gYXZvaWQgbWVzc2FnZSBzaXplIGxpbWl0cy4gU2VlIGIvNjIxMTU2NjAuCiAgICBsZXQgcG9zaXRpb24gPSAwOwogICAgd2hpbGUgKHBvc2l0aW9uIDwgZmlsZURhdGEuYnl0ZUxlbmd0aCkgewogICAgICBjb25zdCBsZW5ndGggPSBNYXRoLm1pbihmaWxlRGF0YS5ieXRlTGVuZ3RoIC0gcG9zaXRpb24sIE1BWF9QQVlMT0FEX1NJWkUpOwogICAgICBjb25zdCBjaHVuayA9IG5ldyBVaW50OEFycmF5KGZpbGVEYXRhLCBwb3NpdGlvbiwgbGVuZ3RoKTsKICAgICAgcG9zaXRpb24gKz0gbGVuZ3RoOwoKICAgICAgY29uc3QgYmFzZTY0ID0gYnRvYShTdHJpbmcuZnJvbUNoYXJDb2RlLmFwcGx5KG51bGwsIGNodW5rKSk7CiAgICAgIHlpZWxkIHsKICAgICAgICByZXNwb25zZTogewogICAgICAgICAgYWN0aW9uOiAnYXBwZW5kJywKICAgICAgICAgIGZpbGU6IGZpbGUubmFtZSwKICAgICAgICAgIGRhdGE6IGJhc2U2NCwKICAgICAgICB9LAogICAgICB9OwogICAgICBwZXJjZW50LnRleHRDb250ZW50ID0KICAgICAgICAgIGAke01hdGgucm91bmQoKHBvc2l0aW9uIC8gZmlsZURhdGEuYnl0ZUxlbmd0aCkgKiAxMDApfSUgZG9uZWA7CiAgICB9CiAgfQoKICAvLyBBbGwgZG9uZS4KICB5aWVsZCB7CiAgICByZXNwb25zZTogewogICAgICBhY3Rpb246ICdjb21wbGV0ZScsCiAgICB9CiAgfTsKfQoKc2NvcGUuZ29vZ2xlID0gc2NvcGUuZ29vZ2xlIHx8IHt9OwpzY29wZS5nb29nbGUuY29sYWIgPSBzY29wZS5nb29nbGUuY29sYWIgfHwge307CnNjb3BlLmdvb2dsZS5jb2xhYi5fZmlsZXMgPSB7CiAgX3VwbG9hZEZpbGVzLAogIF91cGxvYWRGaWxlc0NvbnRpbnVlLAp9Owp9KShzZWxmKTsK",
       "headers": [
        [
         "content-type",
         "application/javascript"
        ]
       ],
       "ok": true,
       "status": 200,
       "status_text": ""
      }
     }
    },
    "executionInfo": {
     "elapsed": 205759,
     "status": "ok",
     "timestamp": 1617214806011,
     "user": {
      "displayName": "Raghav Gupta",
      "photoUrl": "https://lh3.googleusercontent.com/a-/AOh14GgorRHrSE1zI37pb0V-75_DSV7fl1tftsSDhWzRKw=s64",
      "userId": "06994152693423055583"
     },
     "user_tz": -330
    },
    "id": "w8i8PtxAQtbA",
    "outputId": "430bab09-b7c6-4fcd-fb93-4c4dc558dfdd"
   },
   "outputs": [],
   "source": [
    "# data_to_upload = files.upload()"
   ]
  },
  {
   "cell_type": "code",
   "execution_count": 13,
   "metadata": {
    "executionInfo": {
     "elapsed": 205500,
     "status": "ok",
     "timestamp": 1617214806014,
     "user": {
      "displayName": "Raghav Gupta",
      "photoUrl": "https://lh3.googleusercontent.com/a-/AOh14GgorRHrSE1zI37pb0V-75_DSV7fl1tftsSDhWzRKw=s64",
      "userId": "06994152693423055583"
     },
     "user_tz": -330
    },
    "id": "loEdTV_DRHQ_"
   },
   "outputs": [],
   "source": [
    "# df_test = pd.read_csv(io.BytesIO(data_to_upload['test_lAUu6dG.csv']))"
   ]
  },
  {
   "cell_type": "code",
   "execution_count": 10,
   "metadata": {
    "executionInfo": {
     "elapsed": 205273,
     "status": "ok",
     "timestamp": 1617214806020,
     "user": {
      "displayName": "Raghav Gupta",
      "photoUrl": "https://lh3.googleusercontent.com/a-/AOh14GgorRHrSE1zI37pb0V-75_DSV7fl1tftsSDhWzRKw=s64",
      "userId": "06994152693423055583"
     },
     "user_tz": -330
    },
    "id": "M-Ff8megOT7m"
   },
   "outputs": [],
   "source": [
    "df_train= pd.read_csv('train_ctrUa4K.csv')\n",
    "df_test= pd.read_csv('test_lAUu6dG.csv')"
   ]
  },
  {
   "cell_type": "code",
   "execution_count": 11,
   "metadata": {
    "colab": {
     "base_uri": "https://localhost:8080/",
     "height": 241
    },
    "executionInfo": {
     "elapsed": 205145,
     "status": "ok",
     "timestamp": 1617214806025,
     "user": {
      "displayName": "Raghav Gupta",
      "photoUrl": "https://lh3.googleusercontent.com/a-/AOh14GgorRHrSE1zI37pb0V-75_DSV7fl1tftsSDhWzRKw=s64",
      "userId": "06994152693423055583"
     },
     "user_tz": -330
    },
    "id": "fA5kM8ccOT7n",
    "outputId": "684a9e27-2245-4812-d0d3-41b1e4433606"
   },
   "outputs": [
    {
     "data": {
      "text/html": [
       "<div>\n",
       "<style scoped>\n",
       "    .dataframe tbody tr th:only-of-type {\n",
       "        vertical-align: middle;\n",
       "    }\n",
       "\n",
       "    .dataframe tbody tr th {\n",
       "        vertical-align: top;\n",
       "    }\n",
       "\n",
       "    .dataframe thead th {\n",
       "        text-align: right;\n",
       "    }\n",
       "</style>\n",
       "<table border=\"1\" class=\"dataframe\">\n",
       "  <thead>\n",
       "    <tr style=\"text-align: right;\">\n",
       "      <th></th>\n",
       "      <th>Loan_ID</th>\n",
       "      <th>Gender</th>\n",
       "      <th>Married</th>\n",
       "      <th>Dependents</th>\n",
       "      <th>Education</th>\n",
       "      <th>Self_Employed</th>\n",
       "      <th>ApplicantIncome</th>\n",
       "      <th>CoapplicantIncome</th>\n",
       "      <th>LoanAmount</th>\n",
       "      <th>Loan_Amount_Term</th>\n",
       "      <th>Credit_History</th>\n",
       "      <th>Property_Area</th>\n",
       "      <th>Loan_Status</th>\n",
       "    </tr>\n",
       "  </thead>\n",
       "  <tbody>\n",
       "    <tr>\n",
       "      <th>0</th>\n",
       "      <td>LP001002</td>\n",
       "      <td>Male</td>\n",
       "      <td>No</td>\n",
       "      <td>0</td>\n",
       "      <td>Graduate</td>\n",
       "      <td>No</td>\n",
       "      <td>5849</td>\n",
       "      <td>0.0</td>\n",
       "      <td>NaN</td>\n",
       "      <td>360.0</td>\n",
       "      <td>1.0</td>\n",
       "      <td>Urban</td>\n",
       "      <td>Y</td>\n",
       "    </tr>\n",
       "    <tr>\n",
       "      <th>1</th>\n",
       "      <td>LP001003</td>\n",
       "      <td>Male</td>\n",
       "      <td>Yes</td>\n",
       "      <td>1</td>\n",
       "      <td>Graduate</td>\n",
       "      <td>No</td>\n",
       "      <td>4583</td>\n",
       "      <td>1508.0</td>\n",
       "      <td>128.0</td>\n",
       "      <td>360.0</td>\n",
       "      <td>1.0</td>\n",
       "      <td>Rural</td>\n",
       "      <td>N</td>\n",
       "    </tr>\n",
       "    <tr>\n",
       "      <th>2</th>\n",
       "      <td>LP001005</td>\n",
       "      <td>Male</td>\n",
       "      <td>Yes</td>\n",
       "      <td>0</td>\n",
       "      <td>Graduate</td>\n",
       "      <td>Yes</td>\n",
       "      <td>3000</td>\n",
       "      <td>0.0</td>\n",
       "      <td>66.0</td>\n",
       "      <td>360.0</td>\n",
       "      <td>1.0</td>\n",
       "      <td>Urban</td>\n",
       "      <td>Y</td>\n",
       "    </tr>\n",
       "    <tr>\n",
       "      <th>3</th>\n",
       "      <td>LP001006</td>\n",
       "      <td>Male</td>\n",
       "      <td>Yes</td>\n",
       "      <td>0</td>\n",
       "      <td>Not Graduate</td>\n",
       "      <td>No</td>\n",
       "      <td>2583</td>\n",
       "      <td>2358.0</td>\n",
       "      <td>120.0</td>\n",
       "      <td>360.0</td>\n",
       "      <td>1.0</td>\n",
       "      <td>Urban</td>\n",
       "      <td>Y</td>\n",
       "    </tr>\n",
       "    <tr>\n",
       "      <th>4</th>\n",
       "      <td>LP001008</td>\n",
       "      <td>Male</td>\n",
       "      <td>No</td>\n",
       "      <td>0</td>\n",
       "      <td>Graduate</td>\n",
       "      <td>No</td>\n",
       "      <td>6000</td>\n",
       "      <td>0.0</td>\n",
       "      <td>141.0</td>\n",
       "      <td>360.0</td>\n",
       "      <td>1.0</td>\n",
       "      <td>Urban</td>\n",
       "      <td>Y</td>\n",
       "    </tr>\n",
       "  </tbody>\n",
       "</table>\n",
       "</div>"
      ],
      "text/plain": [
       "    Loan_ID Gender Married Dependents     Education Self_Employed  \\\n",
       "0  LP001002   Male      No          0      Graduate            No   \n",
       "1  LP001003   Male     Yes          1      Graduate            No   \n",
       "2  LP001005   Male     Yes          0      Graduate           Yes   \n",
       "3  LP001006   Male     Yes          0  Not Graduate            No   \n",
       "4  LP001008   Male      No          0      Graduate            No   \n",
       "\n",
       "   ApplicantIncome  CoapplicantIncome  LoanAmount  Loan_Amount_Term  \\\n",
       "0             5849                0.0         NaN             360.0   \n",
       "1             4583             1508.0       128.0             360.0   \n",
       "2             3000                0.0        66.0             360.0   \n",
       "3             2583             2358.0       120.0             360.0   \n",
       "4             6000                0.0       141.0             360.0   \n",
       "\n",
       "   Credit_History Property_Area Loan_Status  \n",
       "0             1.0         Urban           Y  \n",
       "1             1.0         Rural           N  \n",
       "2             1.0         Urban           Y  \n",
       "3             1.0         Urban           Y  \n",
       "4             1.0         Urban           Y  "
      ]
     },
     "execution_count": 11,
     "metadata": {},
     "output_type": "execute_result"
    }
   ],
   "source": [
    "df_train.head()"
   ]
  },
  {
   "cell_type": "code",
   "execution_count": 12,
   "metadata": {
    "colab": {
     "base_uri": "https://localhost:8080/",
     "height": 224
    },
    "executionInfo": {
     "elapsed": 204852,
     "status": "ok",
     "timestamp": 1617214806030,
     "user": {
      "displayName": "Raghav Gupta",
      "photoUrl": "https://lh3.googleusercontent.com/a-/AOh14GgorRHrSE1zI37pb0V-75_DSV7fl1tftsSDhWzRKw=s64",
      "userId": "06994152693423055583"
     },
     "user_tz": -330
    },
    "id": "7nDa-FuzOT7r",
    "outputId": "39d1817b-6569-4d4b-af52-3e83c4998ebb"
   },
   "outputs": [
    {
     "data": {
      "text/html": [
       "<div>\n",
       "<style scoped>\n",
       "    .dataframe tbody tr th:only-of-type {\n",
       "        vertical-align: middle;\n",
       "    }\n",
       "\n",
       "    .dataframe tbody tr th {\n",
       "        vertical-align: top;\n",
       "    }\n",
       "\n",
       "    .dataframe thead th {\n",
       "        text-align: right;\n",
       "    }\n",
       "</style>\n",
       "<table border=\"1\" class=\"dataframe\">\n",
       "  <thead>\n",
       "    <tr style=\"text-align: right;\">\n",
       "      <th></th>\n",
       "      <th>Loan_ID</th>\n",
       "      <th>Gender</th>\n",
       "      <th>Married</th>\n",
       "      <th>Dependents</th>\n",
       "      <th>Education</th>\n",
       "      <th>Self_Employed</th>\n",
       "      <th>ApplicantIncome</th>\n",
       "      <th>CoapplicantIncome</th>\n",
       "      <th>LoanAmount</th>\n",
       "      <th>Loan_Amount_Term</th>\n",
       "      <th>Credit_History</th>\n",
       "      <th>Property_Area</th>\n",
       "      <th>Loan_Status</th>\n",
       "    </tr>\n",
       "  </thead>\n",
       "  <tbody>\n",
       "    <tr>\n",
       "      <th>609</th>\n",
       "      <td>LP002978</td>\n",
       "      <td>Female</td>\n",
       "      <td>No</td>\n",
       "      <td>0</td>\n",
       "      <td>Graduate</td>\n",
       "      <td>No</td>\n",
       "      <td>2900</td>\n",
       "      <td>0.0</td>\n",
       "      <td>71.0</td>\n",
       "      <td>360.0</td>\n",
       "      <td>1.0</td>\n",
       "      <td>Rural</td>\n",
       "      <td>Y</td>\n",
       "    </tr>\n",
       "    <tr>\n",
       "      <th>610</th>\n",
       "      <td>LP002979</td>\n",
       "      <td>Male</td>\n",
       "      <td>Yes</td>\n",
       "      <td>3+</td>\n",
       "      <td>Graduate</td>\n",
       "      <td>No</td>\n",
       "      <td>4106</td>\n",
       "      <td>0.0</td>\n",
       "      <td>40.0</td>\n",
       "      <td>180.0</td>\n",
       "      <td>1.0</td>\n",
       "      <td>Rural</td>\n",
       "      <td>Y</td>\n",
       "    </tr>\n",
       "    <tr>\n",
       "      <th>611</th>\n",
       "      <td>LP002983</td>\n",
       "      <td>Male</td>\n",
       "      <td>Yes</td>\n",
       "      <td>1</td>\n",
       "      <td>Graduate</td>\n",
       "      <td>No</td>\n",
       "      <td>8072</td>\n",
       "      <td>240.0</td>\n",
       "      <td>253.0</td>\n",
       "      <td>360.0</td>\n",
       "      <td>1.0</td>\n",
       "      <td>Urban</td>\n",
       "      <td>Y</td>\n",
       "    </tr>\n",
       "    <tr>\n",
       "      <th>612</th>\n",
       "      <td>LP002984</td>\n",
       "      <td>Male</td>\n",
       "      <td>Yes</td>\n",
       "      <td>2</td>\n",
       "      <td>Graduate</td>\n",
       "      <td>No</td>\n",
       "      <td>7583</td>\n",
       "      <td>0.0</td>\n",
       "      <td>187.0</td>\n",
       "      <td>360.0</td>\n",
       "      <td>1.0</td>\n",
       "      <td>Urban</td>\n",
       "      <td>Y</td>\n",
       "    </tr>\n",
       "    <tr>\n",
       "      <th>613</th>\n",
       "      <td>LP002990</td>\n",
       "      <td>Female</td>\n",
       "      <td>No</td>\n",
       "      <td>0</td>\n",
       "      <td>Graduate</td>\n",
       "      <td>Yes</td>\n",
       "      <td>4583</td>\n",
       "      <td>0.0</td>\n",
       "      <td>133.0</td>\n",
       "      <td>360.0</td>\n",
       "      <td>0.0</td>\n",
       "      <td>Semiurban</td>\n",
       "      <td>N</td>\n",
       "    </tr>\n",
       "  </tbody>\n",
       "</table>\n",
       "</div>"
      ],
      "text/plain": [
       "      Loan_ID  Gender Married Dependents Education Self_Employed  \\\n",
       "609  LP002978  Female      No          0  Graduate            No   \n",
       "610  LP002979    Male     Yes         3+  Graduate            No   \n",
       "611  LP002983    Male     Yes          1  Graduate            No   \n",
       "612  LP002984    Male     Yes          2  Graduate            No   \n",
       "613  LP002990  Female      No          0  Graduate           Yes   \n",
       "\n",
       "     ApplicantIncome  CoapplicantIncome  LoanAmount  Loan_Amount_Term  \\\n",
       "609             2900                0.0        71.0             360.0   \n",
       "610             4106                0.0        40.0             180.0   \n",
       "611             8072              240.0       253.0             360.0   \n",
       "612             7583                0.0       187.0             360.0   \n",
       "613             4583                0.0       133.0             360.0   \n",
       "\n",
       "     Credit_History Property_Area Loan_Status  \n",
       "609             1.0         Rural           Y  \n",
       "610             1.0         Rural           Y  \n",
       "611             1.0         Urban           Y  \n",
       "612             1.0         Urban           Y  \n",
       "613             0.0     Semiurban           N  "
      ]
     },
     "execution_count": 12,
     "metadata": {},
     "output_type": "execute_result"
    }
   ],
   "source": [
    "df_train.tail()"
   ]
  },
  {
   "cell_type": "code",
   "execution_count": 13,
   "metadata": {
    "colab": {
     "base_uri": "https://localhost:8080/",
     "height": 241
    },
    "executionInfo": {
     "elapsed": 204626,
     "status": "ok",
     "timestamp": 1617214806033,
     "user": {
      "displayName": "Raghav Gupta",
      "photoUrl": "https://lh3.googleusercontent.com/a-/AOh14GgorRHrSE1zI37pb0V-75_DSV7fl1tftsSDhWzRKw=s64",
      "userId": "06994152693423055583"
     },
     "user_tz": -330
    },
    "id": "Im-kqEtbOT7s",
    "outputId": "5e2cf833-43b5-4bb3-8fda-facf02e4fdca"
   },
   "outputs": [
    {
     "data": {
      "text/html": [
       "<div>\n",
       "<style scoped>\n",
       "    .dataframe tbody tr th:only-of-type {\n",
       "        vertical-align: middle;\n",
       "    }\n",
       "\n",
       "    .dataframe tbody tr th {\n",
       "        vertical-align: top;\n",
       "    }\n",
       "\n",
       "    .dataframe thead th {\n",
       "        text-align: right;\n",
       "    }\n",
       "</style>\n",
       "<table border=\"1\" class=\"dataframe\">\n",
       "  <thead>\n",
       "    <tr style=\"text-align: right;\">\n",
       "      <th></th>\n",
       "      <th>Loan_ID</th>\n",
       "      <th>Gender</th>\n",
       "      <th>Married</th>\n",
       "      <th>Dependents</th>\n",
       "      <th>Education</th>\n",
       "      <th>Self_Employed</th>\n",
       "      <th>ApplicantIncome</th>\n",
       "      <th>CoapplicantIncome</th>\n",
       "      <th>LoanAmount</th>\n",
       "      <th>Loan_Amount_Term</th>\n",
       "      <th>Credit_History</th>\n",
       "      <th>Property_Area</th>\n",
       "    </tr>\n",
       "  </thead>\n",
       "  <tbody>\n",
       "    <tr>\n",
       "      <th>0</th>\n",
       "      <td>LP001015</td>\n",
       "      <td>Male</td>\n",
       "      <td>Yes</td>\n",
       "      <td>0</td>\n",
       "      <td>Graduate</td>\n",
       "      <td>No</td>\n",
       "      <td>5720</td>\n",
       "      <td>0</td>\n",
       "      <td>110.0</td>\n",
       "      <td>360.0</td>\n",
       "      <td>1.0</td>\n",
       "      <td>Urban</td>\n",
       "    </tr>\n",
       "    <tr>\n",
       "      <th>1</th>\n",
       "      <td>LP001022</td>\n",
       "      <td>Male</td>\n",
       "      <td>Yes</td>\n",
       "      <td>1</td>\n",
       "      <td>Graduate</td>\n",
       "      <td>No</td>\n",
       "      <td>3076</td>\n",
       "      <td>1500</td>\n",
       "      <td>126.0</td>\n",
       "      <td>360.0</td>\n",
       "      <td>1.0</td>\n",
       "      <td>Urban</td>\n",
       "    </tr>\n",
       "    <tr>\n",
       "      <th>2</th>\n",
       "      <td>LP001031</td>\n",
       "      <td>Male</td>\n",
       "      <td>Yes</td>\n",
       "      <td>2</td>\n",
       "      <td>Graduate</td>\n",
       "      <td>No</td>\n",
       "      <td>5000</td>\n",
       "      <td>1800</td>\n",
       "      <td>208.0</td>\n",
       "      <td>360.0</td>\n",
       "      <td>1.0</td>\n",
       "      <td>Urban</td>\n",
       "    </tr>\n",
       "    <tr>\n",
       "      <th>3</th>\n",
       "      <td>LP001035</td>\n",
       "      <td>Male</td>\n",
       "      <td>Yes</td>\n",
       "      <td>2</td>\n",
       "      <td>Graduate</td>\n",
       "      <td>No</td>\n",
       "      <td>2340</td>\n",
       "      <td>2546</td>\n",
       "      <td>100.0</td>\n",
       "      <td>360.0</td>\n",
       "      <td>NaN</td>\n",
       "      <td>Urban</td>\n",
       "    </tr>\n",
       "    <tr>\n",
       "      <th>4</th>\n",
       "      <td>LP001051</td>\n",
       "      <td>Male</td>\n",
       "      <td>No</td>\n",
       "      <td>0</td>\n",
       "      <td>Not Graduate</td>\n",
       "      <td>No</td>\n",
       "      <td>3276</td>\n",
       "      <td>0</td>\n",
       "      <td>78.0</td>\n",
       "      <td>360.0</td>\n",
       "      <td>1.0</td>\n",
       "      <td>Urban</td>\n",
       "    </tr>\n",
       "  </tbody>\n",
       "</table>\n",
       "</div>"
      ],
      "text/plain": [
       "    Loan_ID Gender Married Dependents     Education Self_Employed  \\\n",
       "0  LP001015   Male     Yes          0      Graduate            No   \n",
       "1  LP001022   Male     Yes          1      Graduate            No   \n",
       "2  LP001031   Male     Yes          2      Graduate            No   \n",
       "3  LP001035   Male     Yes          2      Graduate            No   \n",
       "4  LP001051   Male      No          0  Not Graduate            No   \n",
       "\n",
       "   ApplicantIncome  CoapplicantIncome  LoanAmount  Loan_Amount_Term  \\\n",
       "0             5720                  0       110.0             360.0   \n",
       "1             3076               1500       126.0             360.0   \n",
       "2             5000               1800       208.0             360.0   \n",
       "3             2340               2546       100.0             360.0   \n",
       "4             3276                  0        78.0             360.0   \n",
       "\n",
       "   Credit_History Property_Area  \n",
       "0             1.0         Urban  \n",
       "1             1.0         Urban  \n",
       "2             1.0         Urban  \n",
       "3             NaN         Urban  \n",
       "4             1.0         Urban  "
      ]
     },
     "execution_count": 13,
     "metadata": {},
     "output_type": "execute_result"
    }
   ],
   "source": [
    "df_test.head()"
   ]
  },
  {
   "cell_type": "code",
   "execution_count": 14,
   "metadata": {
    "colab": {
     "base_uri": "https://localhost:8080/",
     "height": 241
    },
    "executionInfo": {
     "elapsed": 204313,
     "status": "ok",
     "timestamp": 1617214806034,
     "user": {
      "displayName": "Raghav Gupta",
      "photoUrl": "https://lh3.googleusercontent.com/a-/AOh14GgorRHrSE1zI37pb0V-75_DSV7fl1tftsSDhWzRKw=s64",
      "userId": "06994152693423055583"
     },
     "user_tz": -330
    },
    "id": "lgHDFuxGOT7s",
    "outputId": "8b56b990-c3dd-4ab8-a606-84878ed554e6"
   },
   "outputs": [
    {
     "data": {
      "text/html": [
       "<div>\n",
       "<style scoped>\n",
       "    .dataframe tbody tr th:only-of-type {\n",
       "        vertical-align: middle;\n",
       "    }\n",
       "\n",
       "    .dataframe tbody tr th {\n",
       "        vertical-align: top;\n",
       "    }\n",
       "\n",
       "    .dataframe thead th {\n",
       "        text-align: right;\n",
       "    }\n",
       "</style>\n",
       "<table border=\"1\" class=\"dataframe\">\n",
       "  <thead>\n",
       "    <tr style=\"text-align: right;\">\n",
       "      <th></th>\n",
       "      <th>Loan_ID</th>\n",
       "      <th>Gender</th>\n",
       "      <th>Married</th>\n",
       "      <th>Dependents</th>\n",
       "      <th>Education</th>\n",
       "      <th>Self_Employed</th>\n",
       "      <th>ApplicantIncome</th>\n",
       "      <th>CoapplicantIncome</th>\n",
       "      <th>LoanAmount</th>\n",
       "      <th>Loan_Amount_Term</th>\n",
       "      <th>Credit_History</th>\n",
       "      <th>Property_Area</th>\n",
       "    </tr>\n",
       "  </thead>\n",
       "  <tbody>\n",
       "    <tr>\n",
       "      <th>362</th>\n",
       "      <td>LP002971</td>\n",
       "      <td>Male</td>\n",
       "      <td>Yes</td>\n",
       "      <td>3+</td>\n",
       "      <td>Not Graduate</td>\n",
       "      <td>Yes</td>\n",
       "      <td>4009</td>\n",
       "      <td>1777</td>\n",
       "      <td>113.0</td>\n",
       "      <td>360.0</td>\n",
       "      <td>1.0</td>\n",
       "      <td>Urban</td>\n",
       "    </tr>\n",
       "    <tr>\n",
       "      <th>363</th>\n",
       "      <td>LP002975</td>\n",
       "      <td>Male</td>\n",
       "      <td>Yes</td>\n",
       "      <td>0</td>\n",
       "      <td>Graduate</td>\n",
       "      <td>No</td>\n",
       "      <td>4158</td>\n",
       "      <td>709</td>\n",
       "      <td>115.0</td>\n",
       "      <td>360.0</td>\n",
       "      <td>1.0</td>\n",
       "      <td>Urban</td>\n",
       "    </tr>\n",
       "    <tr>\n",
       "      <th>364</th>\n",
       "      <td>LP002980</td>\n",
       "      <td>Male</td>\n",
       "      <td>No</td>\n",
       "      <td>0</td>\n",
       "      <td>Graduate</td>\n",
       "      <td>No</td>\n",
       "      <td>3250</td>\n",
       "      <td>1993</td>\n",
       "      <td>126.0</td>\n",
       "      <td>360.0</td>\n",
       "      <td>NaN</td>\n",
       "      <td>Semiurban</td>\n",
       "    </tr>\n",
       "    <tr>\n",
       "      <th>365</th>\n",
       "      <td>LP002986</td>\n",
       "      <td>Male</td>\n",
       "      <td>Yes</td>\n",
       "      <td>0</td>\n",
       "      <td>Graduate</td>\n",
       "      <td>No</td>\n",
       "      <td>5000</td>\n",
       "      <td>2393</td>\n",
       "      <td>158.0</td>\n",
       "      <td>360.0</td>\n",
       "      <td>1.0</td>\n",
       "      <td>Rural</td>\n",
       "    </tr>\n",
       "    <tr>\n",
       "      <th>366</th>\n",
       "      <td>LP002989</td>\n",
       "      <td>Male</td>\n",
       "      <td>No</td>\n",
       "      <td>0</td>\n",
       "      <td>Graduate</td>\n",
       "      <td>Yes</td>\n",
       "      <td>9200</td>\n",
       "      <td>0</td>\n",
       "      <td>98.0</td>\n",
       "      <td>180.0</td>\n",
       "      <td>1.0</td>\n",
       "      <td>Rural</td>\n",
       "    </tr>\n",
       "  </tbody>\n",
       "</table>\n",
       "</div>"
      ],
      "text/plain": [
       "      Loan_ID Gender Married Dependents     Education Self_Employed  \\\n",
       "362  LP002971   Male     Yes         3+  Not Graduate           Yes   \n",
       "363  LP002975   Male     Yes          0      Graduate            No   \n",
       "364  LP002980   Male      No          0      Graduate            No   \n",
       "365  LP002986   Male     Yes          0      Graduate            No   \n",
       "366  LP002989   Male      No          0      Graduate           Yes   \n",
       "\n",
       "     ApplicantIncome  CoapplicantIncome  LoanAmount  Loan_Amount_Term  \\\n",
       "362             4009               1777       113.0             360.0   \n",
       "363             4158                709       115.0             360.0   \n",
       "364             3250               1993       126.0             360.0   \n",
       "365             5000               2393       158.0             360.0   \n",
       "366             9200                  0        98.0             180.0   \n",
       "\n",
       "     Credit_History Property_Area  \n",
       "362             1.0         Urban  \n",
       "363             1.0         Urban  \n",
       "364             NaN     Semiurban  \n",
       "365             1.0         Rural  \n",
       "366             1.0         Rural  "
      ]
     },
     "execution_count": 14,
     "metadata": {},
     "output_type": "execute_result"
    }
   ],
   "source": [
    "df_test.tail()"
   ]
  },
  {
   "cell_type": "markdown",
   "metadata": {
    "id": "NlKze-YtOT7t"
   },
   "source": [
    "## Exploratory Data Analysis \n",
    " ## Checking the data types /information\n"
   ]
  },
  {
   "cell_type": "code",
   "execution_count": 15,
   "metadata": {
    "colab": {
     "base_uri": "https://localhost:8080/"
    },
    "executionInfo": {
     "elapsed": 203942,
     "status": "ok",
     "timestamp": 1617214806039,
     "user": {
      "displayName": "Raghav Gupta",
      "photoUrl": "https://lh3.googleusercontent.com/a-/AOh14GgorRHrSE1zI37pb0V-75_DSV7fl1tftsSDhWzRKw=s64",
      "userId": "06994152693423055583"
     },
     "user_tz": -330
    },
    "id": "mgIYJYOcOT7t",
    "outputId": "e3388a8a-9e7a-4822-9a06-1a14a70cbed4"
   },
   "outputs": [
    {
     "name": "stdout",
     "output_type": "stream",
     "text": [
      "<class 'pandas.core.frame.DataFrame'>\n",
      "RangeIndex: 614 entries, 0 to 613\n",
      "Data columns (total 13 columns):\n",
      " #   Column             Non-Null Count  Dtype  \n",
      "---  ------             --------------  -----  \n",
      " 0   Loan_ID            614 non-null    object \n",
      " 1   Gender             601 non-null    object \n",
      " 2   Married            611 non-null    object \n",
      " 3   Dependents         599 non-null    object \n",
      " 4   Education          614 non-null    object \n",
      " 5   Self_Employed      582 non-null    object \n",
      " 6   ApplicantIncome    614 non-null    int64  \n",
      " 7   CoapplicantIncome  614 non-null    float64\n",
      " 8   LoanAmount         592 non-null    float64\n",
      " 9   Loan_Amount_Term   600 non-null    float64\n",
      " 10  Credit_History     564 non-null    float64\n",
      " 11  Property_Area      614 non-null    object \n",
      " 12  Loan_Status        614 non-null    object \n",
      "dtypes: float64(4), int64(1), object(8)\n",
      "memory usage: 62.5+ KB\n"
     ]
    }
   ],
   "source": [
    "df_train.info()"
   ]
  },
  {
   "cell_type": "markdown",
   "metadata": {
    "id": "fkYxGXkHOT7u"
   },
   "source": [
    "## Checking for missing values"
   ]
  },
  {
   "cell_type": "code",
   "execution_count": 16,
   "metadata": {
    "colab": {
     "base_uri": "https://localhost:8080/",
     "height": 452
    },
    "executionInfo": {
     "elapsed": 203510,
     "status": "ok",
     "timestamp": 1617214806045,
     "user": {
      "displayName": "Raghav Gupta",
      "photoUrl": "https://lh3.googleusercontent.com/a-/AOh14GgorRHrSE1zI37pb0V-75_DSV7fl1tftsSDhWzRKw=s64",
      "userId": "06994152693423055583"
     },
     "user_tz": -330
    },
    "id": "er3QY7nqOT7u",
    "outputId": "cd524c5e-5217-4b37-8186-0437c2b5e982"
   },
   "outputs": [
    {
     "data": {
      "text/html": [
       "<div>\n",
       "<style scoped>\n",
       "    .dataframe tbody tr th:only-of-type {\n",
       "        vertical-align: middle;\n",
       "    }\n",
       "\n",
       "    .dataframe tbody tr th {\n",
       "        vertical-align: top;\n",
       "    }\n",
       "\n",
       "    .dataframe thead th {\n",
       "        text-align: right;\n",
       "    }\n",
       "</style>\n",
       "<table border=\"1\" class=\"dataframe\">\n",
       "  <thead>\n",
       "    <tr style=\"text-align: right;\">\n",
       "      <th></th>\n",
       "      <th>Total</th>\n",
       "      <th>Percent</th>\n",
       "    </tr>\n",
       "  </thead>\n",
       "  <tbody>\n",
       "    <tr>\n",
       "      <th>Credit_History</th>\n",
       "      <td>50</td>\n",
       "      <td>8.143322</td>\n",
       "    </tr>\n",
       "    <tr>\n",
       "      <th>Self_Employed</th>\n",
       "      <td>32</td>\n",
       "      <td>5.211726</td>\n",
       "    </tr>\n",
       "    <tr>\n",
       "      <th>LoanAmount</th>\n",
       "      <td>22</td>\n",
       "      <td>3.583062</td>\n",
       "    </tr>\n",
       "    <tr>\n",
       "      <th>Dependents</th>\n",
       "      <td>15</td>\n",
       "      <td>2.442997</td>\n",
       "    </tr>\n",
       "    <tr>\n",
       "      <th>Loan_Amount_Term</th>\n",
       "      <td>14</td>\n",
       "      <td>2.280130</td>\n",
       "    </tr>\n",
       "    <tr>\n",
       "      <th>Gender</th>\n",
       "      <td>13</td>\n",
       "      <td>2.117264</td>\n",
       "    </tr>\n",
       "    <tr>\n",
       "      <th>Married</th>\n",
       "      <td>3</td>\n",
       "      <td>0.488599</td>\n",
       "    </tr>\n",
       "    <tr>\n",
       "      <th>Loan_ID</th>\n",
       "      <td>0</td>\n",
       "      <td>0.000000</td>\n",
       "    </tr>\n",
       "    <tr>\n",
       "      <th>Education</th>\n",
       "      <td>0</td>\n",
       "      <td>0.000000</td>\n",
       "    </tr>\n",
       "    <tr>\n",
       "      <th>ApplicantIncome</th>\n",
       "      <td>0</td>\n",
       "      <td>0.000000</td>\n",
       "    </tr>\n",
       "    <tr>\n",
       "      <th>CoapplicantIncome</th>\n",
       "      <td>0</td>\n",
       "      <td>0.000000</td>\n",
       "    </tr>\n",
       "    <tr>\n",
       "      <th>Property_Area</th>\n",
       "      <td>0</td>\n",
       "      <td>0.000000</td>\n",
       "    </tr>\n",
       "    <tr>\n",
       "      <th>Loan_Status</th>\n",
       "      <td>0</td>\n",
       "      <td>0.000000</td>\n",
       "    </tr>\n",
       "  </tbody>\n",
       "</table>\n",
       "</div>"
      ],
      "text/plain": [
       "                   Total   Percent\n",
       "Credit_History        50  8.143322\n",
       "Self_Employed         32  5.211726\n",
       "LoanAmount            22  3.583062\n",
       "Dependents            15  2.442997\n",
       "Loan_Amount_Term      14  2.280130\n",
       "Gender                13  2.117264\n",
       "Married                3  0.488599\n",
       "Loan_ID                0  0.000000\n",
       "Education              0  0.000000\n",
       "ApplicantIncome        0  0.000000\n",
       "CoapplicantIncome      0  0.000000\n",
       "Property_Area          0  0.000000\n",
       "Loan_Status            0  0.000000"
      ]
     },
     "execution_count": 16,
     "metadata": {},
     "output_type": "execute_result"
    }
   ],
   "source": [
    "# Check for missing value in any colum\n",
    "# user defined function already defined in problem 1\n",
    "missing_check(df_train)"
   ]
  },
  {
   "cell_type": "markdown",
   "metadata": {
    "id": "wbj7fFXDOT7v"
   },
   "source": [
    "We can confirm that there is NULL value"
   ]
  },
  {
   "cell_type": "markdown",
   "metadata": {
    "id": "S-vlEi5VOT7v"
   },
   "source": [
    "## Checking the shape (Number of rows and columns)"
   ]
  },
  {
   "cell_type": "code",
   "execution_count": 17,
   "metadata": {
    "colab": {
     "base_uri": "https://localhost:8080/"
    },
    "executionInfo": {
     "elapsed": 202818,
     "status": "ok",
     "timestamp": 1617214806049,
     "user": {
      "displayName": "Raghav Gupta",
      "photoUrl": "https://lh3.googleusercontent.com/a-/AOh14GgorRHrSE1zI37pb0V-75_DSV7fl1tftsSDhWzRKw=s64",
      "userId": "06994152693423055583"
     },
     "user_tz": -330
    },
    "id": "hP620QtSOT7v",
    "outputId": "09e64e19-0af1-43a9-9100-cbc48a9ca3cc"
   },
   "outputs": [
    {
     "data": {
      "text/plain": [
       "(614, 13)"
      ]
     },
     "execution_count": 17,
     "metadata": {},
     "output_type": "execute_result"
    }
   ],
   "source": [
    "df_train.shape"
   ]
  },
  {
   "cell_type": "markdown",
   "metadata": {
    "id": "BU4gSLf7OT7w"
   },
   "source": [
    "## Checking for duplicates"
   ]
  },
  {
   "cell_type": "code",
   "execution_count": 18,
   "metadata": {
    "colab": {
     "base_uri": "https://localhost:8080/",
     "height": 86
    },
    "executionInfo": {
     "elapsed": 202094,
     "status": "ok",
     "timestamp": 1617214806051,
     "user": {
      "displayName": "Raghav Gupta",
      "photoUrl": "https://lh3.googleusercontent.com/a-/AOh14GgorRHrSE1zI37pb0V-75_DSV7fl1tftsSDhWzRKw=s64",
      "userId": "06994152693423055583"
     },
     "user_tz": -330
    },
    "id": "fnMuVc_QOT7w",
    "outputId": "9593eb9f-9491-40f6-af50-8b3c2bf71a1b"
   },
   "outputs": [
    {
     "name": "stdout",
     "output_type": "stream",
     "text": [
      "Number of duplicate rows = 0\n"
     ]
    },
    {
     "data": {
      "text/html": [
       "<div>\n",
       "<style scoped>\n",
       "    .dataframe tbody tr th:only-of-type {\n",
       "        vertical-align: middle;\n",
       "    }\n",
       "\n",
       "    .dataframe tbody tr th {\n",
       "        vertical-align: top;\n",
       "    }\n",
       "\n",
       "    .dataframe thead th {\n",
       "        text-align: right;\n",
       "    }\n",
       "</style>\n",
       "<table border=\"1\" class=\"dataframe\">\n",
       "  <thead>\n",
       "    <tr style=\"text-align: right;\">\n",
       "      <th></th>\n",
       "      <th>Loan_ID</th>\n",
       "      <th>Gender</th>\n",
       "      <th>Married</th>\n",
       "      <th>Dependents</th>\n",
       "      <th>Education</th>\n",
       "      <th>Self_Employed</th>\n",
       "      <th>ApplicantIncome</th>\n",
       "      <th>CoapplicantIncome</th>\n",
       "      <th>LoanAmount</th>\n",
       "      <th>Loan_Amount_Term</th>\n",
       "      <th>Credit_History</th>\n",
       "      <th>Property_Area</th>\n",
       "      <th>Loan_Status</th>\n",
       "    </tr>\n",
       "  </thead>\n",
       "  <tbody>\n",
       "  </tbody>\n",
       "</table>\n",
       "</div>"
      ],
      "text/plain": [
       "Empty DataFrame\n",
       "Columns: [Loan_ID, Gender, Married, Dependents, Education, Self_Employed, ApplicantIncome, CoapplicantIncome, LoanAmount, Loan_Amount_Term, Credit_History, Property_Area, Loan_Status]\n",
       "Index: []"
      ]
     },
     "execution_count": 18,
     "metadata": {},
     "output_type": "execute_result"
    }
   ],
   "source": [
    "# Check for duplicate data\n",
    "\n",
    "dups = df_train.duplicated()\n",
    "print('Number of duplicate rows = %d' % (dups.sum()))\n",
    "\n",
    "df_train[dups]"
   ]
  },
  {
   "cell_type": "markdown",
   "metadata": {
    "id": "nbNrf1PbOT7x"
   },
   "source": [
    "# Univariate Analysis"
   ]
  },
  {
   "cell_type": "markdown",
   "metadata": {
    "id": "-9riFwLqOT7x"
   },
   "source": [
    "## Checking for summary"
   ]
  },
  {
   "cell_type": "code",
   "execution_count": 19,
   "metadata": {
    "colab": {
     "base_uri": "https://localhost:8080/",
     "height": 410
    },
    "executionInfo": {
     "elapsed": 201894,
     "status": "ok",
     "timestamp": 1617214806053,
     "user": {
      "displayName": "Raghav Gupta",
      "photoUrl": "https://lh3.googleusercontent.com/a-/AOh14GgorRHrSE1zI37pb0V-75_DSV7fl1tftsSDhWzRKw=s64",
      "userId": "06994152693423055583"
     },
     "user_tz": -330
    },
    "id": "lALozpDHOT7x",
    "outputId": "30c09754-9be1-452e-dfea-ba3aada43395"
   },
   "outputs": [
    {
     "data": {
      "text/html": [
       "<div>\n",
       "<style scoped>\n",
       "    .dataframe tbody tr th:only-of-type {\n",
       "        vertical-align: middle;\n",
       "    }\n",
       "\n",
       "    .dataframe tbody tr th {\n",
       "        vertical-align: top;\n",
       "    }\n",
       "\n",
       "    .dataframe thead th {\n",
       "        text-align: right;\n",
       "    }\n",
       "</style>\n",
       "<table border=\"1\" class=\"dataframe\">\n",
       "  <thead>\n",
       "    <tr style=\"text-align: right;\">\n",
       "      <th></th>\n",
       "      <th>Loan_ID</th>\n",
       "      <th>Gender</th>\n",
       "      <th>Married</th>\n",
       "      <th>Dependents</th>\n",
       "      <th>Education</th>\n",
       "      <th>Self_Employed</th>\n",
       "      <th>ApplicantIncome</th>\n",
       "      <th>CoapplicantIncome</th>\n",
       "      <th>LoanAmount</th>\n",
       "      <th>Loan_Amount_Term</th>\n",
       "      <th>Credit_History</th>\n",
       "      <th>Property_Area</th>\n",
       "      <th>Loan_Status</th>\n",
       "    </tr>\n",
       "  </thead>\n",
       "  <tbody>\n",
       "    <tr>\n",
       "      <th>count</th>\n",
       "      <td>614</td>\n",
       "      <td>601</td>\n",
       "      <td>611</td>\n",
       "      <td>599</td>\n",
       "      <td>614</td>\n",
       "      <td>582</td>\n",
       "      <td>614.000000</td>\n",
       "      <td>614.000000</td>\n",
       "      <td>592.000000</td>\n",
       "      <td>600.00000</td>\n",
       "      <td>564.000000</td>\n",
       "      <td>614</td>\n",
       "      <td>614</td>\n",
       "    </tr>\n",
       "    <tr>\n",
       "      <th>unique</th>\n",
       "      <td>614</td>\n",
       "      <td>2</td>\n",
       "      <td>2</td>\n",
       "      <td>4</td>\n",
       "      <td>2</td>\n",
       "      <td>2</td>\n",
       "      <td>NaN</td>\n",
       "      <td>NaN</td>\n",
       "      <td>NaN</td>\n",
       "      <td>NaN</td>\n",
       "      <td>NaN</td>\n",
       "      <td>3</td>\n",
       "      <td>2</td>\n",
       "    </tr>\n",
       "    <tr>\n",
       "      <th>top</th>\n",
       "      <td>LP002777</td>\n",
       "      <td>Male</td>\n",
       "      <td>Yes</td>\n",
       "      <td>0</td>\n",
       "      <td>Graduate</td>\n",
       "      <td>No</td>\n",
       "      <td>NaN</td>\n",
       "      <td>NaN</td>\n",
       "      <td>NaN</td>\n",
       "      <td>NaN</td>\n",
       "      <td>NaN</td>\n",
       "      <td>Semiurban</td>\n",
       "      <td>Y</td>\n",
       "    </tr>\n",
       "    <tr>\n",
       "      <th>freq</th>\n",
       "      <td>1</td>\n",
       "      <td>489</td>\n",
       "      <td>398</td>\n",
       "      <td>345</td>\n",
       "      <td>480</td>\n",
       "      <td>500</td>\n",
       "      <td>NaN</td>\n",
       "      <td>NaN</td>\n",
       "      <td>NaN</td>\n",
       "      <td>NaN</td>\n",
       "      <td>NaN</td>\n",
       "      <td>233</td>\n",
       "      <td>422</td>\n",
       "    </tr>\n",
       "    <tr>\n",
       "      <th>mean</th>\n",
       "      <td>NaN</td>\n",
       "      <td>NaN</td>\n",
       "      <td>NaN</td>\n",
       "      <td>NaN</td>\n",
       "      <td>NaN</td>\n",
       "      <td>NaN</td>\n",
       "      <td>5403.459283</td>\n",
       "      <td>1621.245798</td>\n",
       "      <td>146.412162</td>\n",
       "      <td>342.00000</td>\n",
       "      <td>0.842199</td>\n",
       "      <td>NaN</td>\n",
       "      <td>NaN</td>\n",
       "    </tr>\n",
       "    <tr>\n",
       "      <th>std</th>\n",
       "      <td>NaN</td>\n",
       "      <td>NaN</td>\n",
       "      <td>NaN</td>\n",
       "      <td>NaN</td>\n",
       "      <td>NaN</td>\n",
       "      <td>NaN</td>\n",
       "      <td>6109.041673</td>\n",
       "      <td>2926.248369</td>\n",
       "      <td>85.587325</td>\n",
       "      <td>65.12041</td>\n",
       "      <td>0.364878</td>\n",
       "      <td>NaN</td>\n",
       "      <td>NaN</td>\n",
       "    </tr>\n",
       "    <tr>\n",
       "      <th>min</th>\n",
       "      <td>NaN</td>\n",
       "      <td>NaN</td>\n",
       "      <td>NaN</td>\n",
       "      <td>NaN</td>\n",
       "      <td>NaN</td>\n",
       "      <td>NaN</td>\n",
       "      <td>150.000000</td>\n",
       "      <td>0.000000</td>\n",
       "      <td>9.000000</td>\n",
       "      <td>12.00000</td>\n",
       "      <td>0.000000</td>\n",
       "      <td>NaN</td>\n",
       "      <td>NaN</td>\n",
       "    </tr>\n",
       "    <tr>\n",
       "      <th>25%</th>\n",
       "      <td>NaN</td>\n",
       "      <td>NaN</td>\n",
       "      <td>NaN</td>\n",
       "      <td>NaN</td>\n",
       "      <td>NaN</td>\n",
       "      <td>NaN</td>\n",
       "      <td>2877.500000</td>\n",
       "      <td>0.000000</td>\n",
       "      <td>100.000000</td>\n",
       "      <td>360.00000</td>\n",
       "      <td>1.000000</td>\n",
       "      <td>NaN</td>\n",
       "      <td>NaN</td>\n",
       "    </tr>\n",
       "    <tr>\n",
       "      <th>50%</th>\n",
       "      <td>NaN</td>\n",
       "      <td>NaN</td>\n",
       "      <td>NaN</td>\n",
       "      <td>NaN</td>\n",
       "      <td>NaN</td>\n",
       "      <td>NaN</td>\n",
       "      <td>3812.500000</td>\n",
       "      <td>1188.500000</td>\n",
       "      <td>128.000000</td>\n",
       "      <td>360.00000</td>\n",
       "      <td>1.000000</td>\n",
       "      <td>NaN</td>\n",
       "      <td>NaN</td>\n",
       "    </tr>\n",
       "    <tr>\n",
       "      <th>75%</th>\n",
       "      <td>NaN</td>\n",
       "      <td>NaN</td>\n",
       "      <td>NaN</td>\n",
       "      <td>NaN</td>\n",
       "      <td>NaN</td>\n",
       "      <td>NaN</td>\n",
       "      <td>5795.000000</td>\n",
       "      <td>2297.250000</td>\n",
       "      <td>168.000000</td>\n",
       "      <td>360.00000</td>\n",
       "      <td>1.000000</td>\n",
       "      <td>NaN</td>\n",
       "      <td>NaN</td>\n",
       "    </tr>\n",
       "    <tr>\n",
       "      <th>max</th>\n",
       "      <td>NaN</td>\n",
       "      <td>NaN</td>\n",
       "      <td>NaN</td>\n",
       "      <td>NaN</td>\n",
       "      <td>NaN</td>\n",
       "      <td>NaN</td>\n",
       "      <td>81000.000000</td>\n",
       "      <td>41667.000000</td>\n",
       "      <td>700.000000</td>\n",
       "      <td>480.00000</td>\n",
       "      <td>1.000000</td>\n",
       "      <td>NaN</td>\n",
       "      <td>NaN</td>\n",
       "    </tr>\n",
       "  </tbody>\n",
       "</table>\n",
       "</div>"
      ],
      "text/plain": [
       "         Loan_ID Gender Married Dependents Education Self_Employed  \\\n",
       "count        614    601     611        599       614           582   \n",
       "unique       614      2       2          4         2             2   \n",
       "top     LP002777   Male     Yes          0  Graduate            No   \n",
       "freq           1    489     398        345       480           500   \n",
       "mean         NaN    NaN     NaN        NaN       NaN           NaN   \n",
       "std          NaN    NaN     NaN        NaN       NaN           NaN   \n",
       "min          NaN    NaN     NaN        NaN       NaN           NaN   \n",
       "25%          NaN    NaN     NaN        NaN       NaN           NaN   \n",
       "50%          NaN    NaN     NaN        NaN       NaN           NaN   \n",
       "75%          NaN    NaN     NaN        NaN       NaN           NaN   \n",
       "max          NaN    NaN     NaN        NaN       NaN           NaN   \n",
       "\n",
       "        ApplicantIncome  CoapplicantIncome  LoanAmount  Loan_Amount_Term  \\\n",
       "count        614.000000         614.000000  592.000000         600.00000   \n",
       "unique              NaN                NaN         NaN               NaN   \n",
       "top                 NaN                NaN         NaN               NaN   \n",
       "freq                NaN                NaN         NaN               NaN   \n",
       "mean        5403.459283        1621.245798  146.412162         342.00000   \n",
       "std         6109.041673        2926.248369   85.587325          65.12041   \n",
       "min          150.000000           0.000000    9.000000          12.00000   \n",
       "25%         2877.500000           0.000000  100.000000         360.00000   \n",
       "50%         3812.500000        1188.500000  128.000000         360.00000   \n",
       "75%         5795.000000        2297.250000  168.000000         360.00000   \n",
       "max        81000.000000       41667.000000  700.000000         480.00000   \n",
       "\n",
       "        Credit_History Property_Area Loan_Status  \n",
       "count       564.000000           614         614  \n",
       "unique             NaN             3           2  \n",
       "top                NaN     Semiurban           Y  \n",
       "freq               NaN           233         422  \n",
       "mean          0.842199           NaN         NaN  \n",
       "std           0.364878           NaN         NaN  \n",
       "min           0.000000           NaN         NaN  \n",
       "25%           1.000000           NaN         NaN  \n",
       "50%           1.000000           NaN         NaN  \n",
       "75%           1.000000           NaN         NaN  \n",
       "max           1.000000           NaN         NaN  "
      ]
     },
     "execution_count": 19,
     "metadata": {},
     "output_type": "execute_result"
    }
   ],
   "source": [
    "df_train_summ=pd.DataFrame(df_train.describe().round(2))\n",
    "df_train.describe(include='all')\n"
   ]
  },
  {
   "cell_type": "markdown",
   "metadata": {
    "id": "wYuApOEkOT7y"
   },
   "source": [
    "## Checking IQR, Coeffiecient of Variation, IQR, lower range and upper range of numerical cols"
   ]
  },
  {
   "cell_type": "code",
   "execution_count": 20,
   "metadata": {
    "executionInfo": {
     "elapsed": 201750,
     "status": "ok",
     "timestamp": 1617214806059,
     "user": {
      "displayName": "Raghav Gupta",
      "photoUrl": "https://lh3.googleusercontent.com/a-/AOh14GgorRHrSE1zI37pb0V-75_DSV7fl1tftsSDhWzRKw=s64",
      "userId": "06994152693423055583"
     },
     "user_tz": -330
    },
    "id": "1Fq91xMWOT7y"
   },
   "outputs": [],
   "source": [
    "df_train_summ.loc[\"CV\"],df_train_summ.loc[\"Skew\"],df_train_summ.loc[\"IQR\"],df_train_summ.loc[\"UR\"],df_train_summ.loc[\"LR\"]= CV_row(df_train)"
   ]
  },
  {
   "cell_type": "code",
   "execution_count": 21,
   "metadata": {
    "colab": {
     "base_uri": "https://localhost:8080/",
     "height": 452
    },
    "executionInfo": {
     "elapsed": 201665,
     "status": "ok",
     "timestamp": 1617214806062,
     "user": {
      "displayName": "Raghav Gupta",
      "photoUrl": "https://lh3.googleusercontent.com/a-/AOh14GgorRHrSE1zI37pb0V-75_DSV7fl1tftsSDhWzRKw=s64",
      "userId": "06994152693423055583"
     },
     "user_tz": -330
    },
    "id": "pnw9k4uEOT7y",
    "outputId": "d3599597-e02f-4a89-fe64-b4111e379924"
   },
   "outputs": [
    {
     "data": {
      "text/html": [
       "<div>\n",
       "<style scoped>\n",
       "    .dataframe tbody tr th:only-of-type {\n",
       "        vertical-align: middle;\n",
       "    }\n",
       "\n",
       "    .dataframe tbody tr th {\n",
       "        vertical-align: top;\n",
       "    }\n",
       "\n",
       "    .dataframe thead th {\n",
       "        text-align: right;\n",
       "    }\n",
       "</style>\n",
       "<table border=\"1\" class=\"dataframe\">\n",
       "  <thead>\n",
       "    <tr style=\"text-align: right;\">\n",
       "      <th></th>\n",
       "      <th>ApplicantIncome</th>\n",
       "      <th>CoapplicantIncome</th>\n",
       "      <th>LoanAmount</th>\n",
       "      <th>Loan_Amount_Term</th>\n",
       "      <th>Credit_History</th>\n",
       "    </tr>\n",
       "  </thead>\n",
       "  <tbody>\n",
       "    <tr>\n",
       "      <th>count</th>\n",
       "      <td>614.00</td>\n",
       "      <td>614.00</td>\n",
       "      <td>592.00</td>\n",
       "      <td>600.00</td>\n",
       "      <td>564.00</td>\n",
       "    </tr>\n",
       "    <tr>\n",
       "      <th>mean</th>\n",
       "      <td>5403.46</td>\n",
       "      <td>1621.25</td>\n",
       "      <td>146.41</td>\n",
       "      <td>342.00</td>\n",
       "      <td>0.84</td>\n",
       "    </tr>\n",
       "    <tr>\n",
       "      <th>std</th>\n",
       "      <td>6109.04</td>\n",
       "      <td>2926.25</td>\n",
       "      <td>85.59</td>\n",
       "      <td>65.12</td>\n",
       "      <td>0.36</td>\n",
       "    </tr>\n",
       "    <tr>\n",
       "      <th>min</th>\n",
       "      <td>150.00</td>\n",
       "      <td>0.00</td>\n",
       "      <td>9.00</td>\n",
       "      <td>12.00</td>\n",
       "      <td>0.00</td>\n",
       "    </tr>\n",
       "    <tr>\n",
       "      <th>25%</th>\n",
       "      <td>2877.50</td>\n",
       "      <td>0.00</td>\n",
       "      <td>100.00</td>\n",
       "      <td>360.00</td>\n",
       "      <td>1.00</td>\n",
       "    </tr>\n",
       "    <tr>\n",
       "      <th>50%</th>\n",
       "      <td>3812.50</td>\n",
       "      <td>1188.50</td>\n",
       "      <td>128.00</td>\n",
       "      <td>360.00</td>\n",
       "      <td>1.00</td>\n",
       "    </tr>\n",
       "    <tr>\n",
       "      <th>75%</th>\n",
       "      <td>5795.00</td>\n",
       "      <td>2297.25</td>\n",
       "      <td>168.00</td>\n",
       "      <td>360.00</td>\n",
       "      <td>1.00</td>\n",
       "    </tr>\n",
       "    <tr>\n",
       "      <th>max</th>\n",
       "      <td>81000.00</td>\n",
       "      <td>41667.00</td>\n",
       "      <td>700.00</td>\n",
       "      <td>480.00</td>\n",
       "      <td>1.00</td>\n",
       "    </tr>\n",
       "    <tr>\n",
       "      <th>CV</th>\n",
       "      <td>1.13</td>\n",
       "      <td>1.80</td>\n",
       "      <td>NaN</td>\n",
       "      <td>NaN</td>\n",
       "      <td>NaN</td>\n",
       "    </tr>\n",
       "    <tr>\n",
       "      <th>Skew</th>\n",
       "      <td>6.54</td>\n",
       "      <td>7.49</td>\n",
       "      <td>2.68</td>\n",
       "      <td>-2.36</td>\n",
       "      <td>-1.88</td>\n",
       "    </tr>\n",
       "    <tr>\n",
       "      <th>IQR</th>\n",
       "      <td>2917.50</td>\n",
       "      <td>2297.25</td>\n",
       "      <td>68.00</td>\n",
       "      <td>0.00</td>\n",
       "      <td>0.00</td>\n",
       "    </tr>\n",
       "    <tr>\n",
       "      <th>UR</th>\n",
       "      <td>10171.25</td>\n",
       "      <td>5743.12</td>\n",
       "      <td>270.00</td>\n",
       "      <td>360.00</td>\n",
       "      <td>1.00</td>\n",
       "    </tr>\n",
       "    <tr>\n",
       "      <th>LR</th>\n",
       "      <td>-1498.75</td>\n",
       "      <td>-3445.88</td>\n",
       "      <td>-2.00</td>\n",
       "      <td>360.00</td>\n",
       "      <td>1.00</td>\n",
       "    </tr>\n",
       "  </tbody>\n",
       "</table>\n",
       "</div>"
      ],
      "text/plain": [
       "       ApplicantIncome  CoapplicantIncome  LoanAmount  Loan_Amount_Term  \\\n",
       "count           614.00             614.00      592.00            600.00   \n",
       "mean           5403.46            1621.25      146.41            342.00   \n",
       "std            6109.04            2926.25       85.59             65.12   \n",
       "min             150.00               0.00        9.00             12.00   \n",
       "25%            2877.50               0.00      100.00            360.00   \n",
       "50%            3812.50            1188.50      128.00            360.00   \n",
       "75%            5795.00            2297.25      168.00            360.00   \n",
       "max           81000.00           41667.00      700.00            480.00   \n",
       "CV                1.13               1.80         NaN               NaN   \n",
       "Skew              6.54               7.49        2.68             -2.36   \n",
       "IQR            2917.50            2297.25       68.00              0.00   \n",
       "UR            10171.25            5743.12      270.00            360.00   \n",
       "LR            -1498.75           -3445.88       -2.00            360.00   \n",
       "\n",
       "       Credit_History  \n",
       "count          564.00  \n",
       "mean             0.84  \n",
       "std              0.36  \n",
       "min              0.00  \n",
       "25%              1.00  \n",
       "50%              1.00  \n",
       "75%              1.00  \n",
       "max              1.00  \n",
       "CV                NaN  \n",
       "Skew            -1.88  \n",
       "IQR              0.00  \n",
       "UR               1.00  \n",
       "LR               1.00  "
      ]
     },
     "execution_count": 21,
     "metadata": {},
     "output_type": "execute_result"
    }
   ],
   "source": [
    "df_train_summ.round(2)"
   ]
  },
  {
   "cell_type": "markdown",
   "metadata": {
    "id": "vj8lu1v1OT7z"
   },
   "source": [
    "## Check for Outliers (Which all variables have an outlier?)"
   ]
  },
  {
   "cell_type": "code",
   "execution_count": 22,
   "metadata": {
    "colab": {
     "base_uri": "https://localhost:8080/"
    },
    "executionInfo": {
     "elapsed": 201512,
     "status": "ok",
     "timestamp": 1617214806064,
     "user": {
      "displayName": "Raghav Gupta",
      "photoUrl": "https://lh3.googleusercontent.com/a-/AOh14GgorRHrSE1zI37pb0V-75_DSV7fl1tftsSDhWzRKw=s64",
      "userId": "06994152693423055583"
     },
     "user_tz": -330
    },
    "id": "G-ApfFMUOT7z",
    "outputId": "6d936ee4-ece4-49a7-d698-8a9de74b2d91"
   },
   "outputs": [
    {
     "data": {
      "text/plain": [
       "Loan_ID               object\n",
       "Gender                object\n",
       "Married               object\n",
       "Dependents            object\n",
       "Education             object\n",
       "Self_Employed         object\n",
       "ApplicantIncome        int64\n",
       "CoapplicantIncome    float64\n",
       "LoanAmount           float64\n",
       "Loan_Amount_Term     float64\n",
       "Credit_History       float64\n",
       "Property_Area         object\n",
       "Loan_Status           object\n",
       "dtype: object"
      ]
     },
     "execution_count": 22,
     "metadata": {},
     "output_type": "execute_result"
    }
   ],
   "source": [
    "df_train.dtypes"
   ]
  },
  {
   "cell_type": "code",
   "execution_count": 23,
   "metadata": {
    "colab": {
     "base_uri": "https://localhost:8080/",
     "height": 690
    },
    "executionInfo": {
     "elapsed": 203350,
     "status": "ok",
     "timestamp": 1617214807987,
     "user": {
      "displayName": "Raghav Gupta",
      "photoUrl": "https://lh3.googleusercontent.com/a-/AOh14GgorRHrSE1zI37pb0V-75_DSV7fl1tftsSDhWzRKw=s64",
      "userId": "06994152693423055583"
     },
     "user_tz": -330
    },
    "id": "36MPZUfgOT70",
    "outputId": "79766be9-b7d1-4bc6-d08a-4db6f7777fd1"
   },
   "outputs": [
    {
     "data": {
      "image/png": "[encoded data removed]",
      "text/plain": [
       "<Figure size 1440x810 with 5 Axes>"
      ]
     },
     "metadata": {
      "needs_background": "light"
     },
     "output_type": "display_data"
    }
   ],
   "source": [
    "# Checking for Outliers\n",
    "numeric_col_names=numeric_datatype_df(df_train)\n",
    "no_of_graphs_rows=4\n",
    "rows=calc_rows(numeric_col_names, no_of_graphs_rows)\n",
    "    \n",
    "plt.figure(figsize= (20,5*rows))\n",
    "box_plot_no=1\n",
    "for col in df_train.columns :\n",
    "#    if (col in numeric_col_names):\n",
    "    if (df_train[col].dtype == 'int64') | (df_train[col].dtype == 'float64'):\n",
    "        box_plot_title = \"Box plot of \" + col\n",
    "        plt.subplot(rows,no_of_graphs_rows,box_plot_no)\n",
    "        sns.boxplot(x= col,data =df_train ,color='green').set(title =box_plot_title)\n",
    "        box_plot_no = box_plot_no + 1 \n"
   ]
  },
  {
   "cell_type": "markdown",
   "metadata": {
    "id": "Q1cHXL6cOT70"
   },
   "source": [
    "We can confirm visually from box plots that there are outliers in all the four numeric columns."
   ]
  },
  {
   "cell_type": "markdown",
   "metadata": {
    "id": "ht5sTJ0hOT71"
   },
   "source": [
    "## Plot the Histograms"
   ]
  },
  {
   "cell_type": "code",
   "execution_count": 24,
   "metadata": {
    "colab": {
     "base_uri": "https://localhost:8080/",
     "height": 690
    },
    "executionInfo": {
     "elapsed": 203163,
     "status": "ok",
     "timestamp": 1617214807992,
     "user": {
      "displayName": "Raghav Gupta",
      "photoUrl": "https://lh3.googleusercontent.com/a-/AOh14GgorRHrSE1zI37pb0V-75_DSV7fl1tftsSDhWzRKw=s64",
      "userId": "06994152693423055583"
     },
     "user_tz": -330
    },
    "id": "VpGhe9cdOT71",
    "outputId": "6e58a4d9-2800-4b55-dc0b-13531425b91c"
   },
   "outputs": [
    {
     "data": {
      "image/png": "[encoded data removed]",
      "text/plain": [
       "<Figure size 1440x810 with 5 Axes>"
      ]
     },
     "metadata": {
      "needs_background": "light"
     },
     "output_type": "display_data"
    }
   ],
   "source": [
    "#Plots to see the distribution of the continuous features individually\n",
    "plt.figure(figsize= (20,5*rows))\n",
    "distplot_no=1\n",
    "for col in df_train.columns :\n",
    "    if (col in numeric_col_names):\n",
    "        distplot_title = col\n",
    "        plt.subplot(rows,no_of_graphs_rows,distplot_no)\n",
    "        sns.histplot(df_train[col] ,color='green').set(title =distplot_title)\n",
    "        distplot_no = distplot_no + 1 \n"
   ]
  },
  {
   "cell_type": "markdown",
   "metadata": {
    "id": "8TPbbQScOT72"
   },
   "source": [
    "## Replacing Null values with median (outliers case) and mode (categorical variables)"
   ]
  },
  {
   "cell_type": "code",
   "execution_count": 25,
   "metadata": {
    "colab": {
     "base_uri": "https://localhost:8080/",
     "height": 452
    },
    "executionInfo": {
     "elapsed": 203012,
     "status": "ok",
     "timestamp": 1617214807994,
     "user": {
      "displayName": "Raghav Gupta",
      "photoUrl": "https://lh3.googleusercontent.com/a-/AOh14GgorRHrSE1zI37pb0V-75_DSV7fl1tftsSDhWzRKw=s64",
      "userId": "06994152693423055583"
     },
     "user_tz": -330
    },
    "id": "5fPvXGzNOT72",
    "outputId": "a1d36b4f-0f4e-4ef9-ffc9-25ba2d9477ce"
   },
   "outputs": [
    {
     "data": {
      "text/html": [
       "<div>\n",
       "<style scoped>\n",
       "    .dataframe tbody tr th:only-of-type {\n",
       "        vertical-align: middle;\n",
       "    }\n",
       "\n",
       "    .dataframe tbody tr th {\n",
       "        vertical-align: top;\n",
       "    }\n",
       "\n",
       "    .dataframe thead th {\n",
       "        text-align: right;\n",
       "    }\n",
       "</style>\n",
       "<table border=\"1\" class=\"dataframe\">\n",
       "  <thead>\n",
       "    <tr style=\"text-align: right;\">\n",
       "      <th></th>\n",
       "      <th>Total</th>\n",
       "      <th>Percent</th>\n",
       "    </tr>\n",
       "  </thead>\n",
       "  <tbody>\n",
       "    <tr>\n",
       "      <th>Credit_History</th>\n",
       "      <td>50</td>\n",
       "      <td>8.143322</td>\n",
       "    </tr>\n",
       "    <tr>\n",
       "      <th>Self_Employed</th>\n",
       "      <td>32</td>\n",
       "      <td>5.211726</td>\n",
       "    </tr>\n",
       "    <tr>\n",
       "      <th>LoanAmount</th>\n",
       "      <td>22</td>\n",
       "      <td>3.583062</td>\n",
       "    </tr>\n",
       "    <tr>\n",
       "      <th>Dependents</th>\n",
       "      <td>15</td>\n",
       "      <td>2.442997</td>\n",
       "    </tr>\n",
       "    <tr>\n",
       "      <th>Loan_Amount_Term</th>\n",
       "      <td>14</td>\n",
       "      <td>2.280130</td>\n",
       "    </tr>\n",
       "    <tr>\n",
       "      <th>Gender</th>\n",
       "      <td>13</td>\n",
       "      <td>2.117264</td>\n",
       "    </tr>\n",
       "    <tr>\n",
       "      <th>Married</th>\n",
       "      <td>3</td>\n",
       "      <td>0.488599</td>\n",
       "    </tr>\n",
       "    <tr>\n",
       "      <th>Loan_ID</th>\n",
       "      <td>0</td>\n",
       "      <td>0.000000</td>\n",
       "    </tr>\n",
       "    <tr>\n",
       "      <th>Education</th>\n",
       "      <td>0</td>\n",
       "      <td>0.000000</td>\n",
       "    </tr>\n",
       "    <tr>\n",
       "      <th>ApplicantIncome</th>\n",
       "      <td>0</td>\n",
       "      <td>0.000000</td>\n",
       "    </tr>\n",
       "    <tr>\n",
       "      <th>CoapplicantIncome</th>\n",
       "      <td>0</td>\n",
       "      <td>0.000000</td>\n",
       "    </tr>\n",
       "    <tr>\n",
       "      <th>Property_Area</th>\n",
       "      <td>0</td>\n",
       "      <td>0.000000</td>\n",
       "    </tr>\n",
       "    <tr>\n",
       "      <th>Loan_Status</th>\n",
       "      <td>0</td>\n",
       "      <td>0.000000</td>\n",
       "    </tr>\n",
       "  </tbody>\n",
       "</table>\n",
       "</div>"
      ],
      "text/plain": [
       "                   Total   Percent\n",
       "Credit_History        50  8.143322\n",
       "Self_Employed         32  5.211726\n",
       "LoanAmount            22  3.583062\n",
       "Dependents            15  2.442997\n",
       "Loan_Amount_Term      14  2.280130\n",
       "Gender                13  2.117264\n",
       "Married                3  0.488599\n",
       "Loan_ID                0  0.000000\n",
       "Education              0  0.000000\n",
       "ApplicantIncome        0  0.000000\n",
       "CoapplicantIncome      0  0.000000\n",
       "Property_Area          0  0.000000\n",
       "Loan_Status            0  0.000000"
      ]
     },
     "execution_count": 25,
     "metadata": {},
     "output_type": "execute_result"
    }
   ],
   "source": [
    "# user defined function already defined in problem 1\n",
    "missing_check(df_train)"
   ]
  },
  {
   "cell_type": "code",
   "execution_count": 26,
   "metadata": {
    "executionInfo": {
     "elapsed": 202941,
     "status": "ok",
     "timestamp": 1617214807999,
     "user": {
      "displayName": "Raghav Gupta",
      "photoUrl": "https://lh3.googleusercontent.com/a-/AOh14GgorRHrSE1zI37pb0V-75_DSV7fl1tftsSDhWzRKw=s64",
      "userId": "06994152693423055583"
     },
     "user_tz": -330
    },
    "id": "qfrEA8yTOT73"
   },
   "outputs": [],
   "source": [
    "df_train[\"Credit_History\"].replace(np.nan,df_train[\"Credit_History\"].mode().values[0],inplace=True)"
   ]
  },
  {
   "cell_type": "code",
   "execution_count": 27,
   "metadata": {
    "executionInfo": {
     "elapsed": 202857,
     "status": "ok",
     "timestamp": 1617214808002,
     "user": {
      "displayName": "Raghav Gupta",
      "photoUrl": "https://lh3.googleusercontent.com/a-/AOh14GgorRHrSE1zI37pb0V-75_DSV7fl1tftsSDhWzRKw=s64",
      "userId": "06994152693423055583"
     },
     "user_tz": -330
    },
    "id": "01EeDNE8OT73"
   },
   "outputs": [],
   "source": [
    "df_train[\"Self_Employed\"].replace(np.nan,df_train[\"Self_Employed\"].mode().values[0],inplace=True)"
   ]
  },
  {
   "cell_type": "code",
   "execution_count": 28,
   "metadata": {
    "executionInfo": {
     "elapsed": 202776,
     "status": "ok",
     "timestamp": 1617214808004,
     "user": {
      "displayName": "Raghav Gupta",
      "photoUrl": "https://lh3.googleusercontent.com/a-/AOh14GgorRHrSE1zI37pb0V-75_DSV7fl1tftsSDhWzRKw=s64",
      "userId": "06994152693423055583"
     },
     "user_tz": -330
    },
    "id": "FFjLsZG1OT74"
   },
   "outputs": [],
   "source": [
    "#LoanAmount\n",
    "df_train[\"LoanAmount\"].replace(np.nan,df_train[\"LoanAmount\"].median(),inplace=True)"
   ]
  },
  {
   "cell_type": "code",
   "execution_count": 29,
   "metadata": {
    "executionInfo": {
     "elapsed": 202706,
     "status": "ok",
     "timestamp": 1617214808009,
     "user": {
      "displayName": "Raghav Gupta",
      "photoUrl": "https://lh3.googleusercontent.com/a-/AOh14GgorRHrSE1zI37pb0V-75_DSV7fl1tftsSDhWzRKw=s64",
      "userId": "06994152693423055583"
     },
     "user_tz": -330
    },
    "id": "ABNRvnTBOT75"
   },
   "outputs": [],
   "source": [
    "df_train[\"Dependents\"].replace(np.nan,df_train[\"Dependents\"].mode().values[0],inplace=True)"
   ]
  },
  {
   "cell_type": "code",
   "execution_count": 30,
   "metadata": {
    "executionInfo": {
     "elapsed": 202636,
     "status": "ok",
     "timestamp": 1617214808011,
     "user": {
      "displayName": "Raghav Gupta",
      "photoUrl": "https://lh3.googleusercontent.com/a-/AOh14GgorRHrSE1zI37pb0V-75_DSV7fl1tftsSDhWzRKw=s64",
      "userId": "06994152693423055583"
     },
     "user_tz": -330
    },
    "id": "Defk7Hm4OT76"
   },
   "outputs": [],
   "source": [
    "#Loan_Amount_Term :- its like categorical variable. so using mode\n",
    "df_train[\"Loan_Amount_Term\"].replace(np.nan,df_train[\"Loan_Amount_Term\"].mode().values[0],inplace=True)"
   ]
  },
  {
   "cell_type": "code",
   "execution_count": 31,
   "metadata": {
    "executionInfo": {
     "elapsed": 202559,
     "status": "ok",
     "timestamp": 1617214808015,
     "user": {
      "displayName": "Raghav Gupta",
      "photoUrl": "https://lh3.googleusercontent.com/a-/AOh14GgorRHrSE1zI37pb0V-75_DSV7fl1tftsSDhWzRKw=s64",
      "userId": "06994152693423055583"
     },
     "user_tz": -330
    },
    "id": "kZ1Sy_SPOT76"
   },
   "outputs": [],
   "source": [
    "df_train[\"Gender\"].replace(np.nan,df_train[\"Gender\"].mode().values[0],inplace=True)"
   ]
  },
  {
   "cell_type": "code",
   "execution_count": 32,
   "metadata": {
    "executionInfo": {
     "elapsed": 202486,
     "status": "ok",
     "timestamp": 1617214808016,
     "user": {
      "displayName": "Raghav Gupta",
      "photoUrl": "https://lh3.googleusercontent.com/a-/AOh14GgorRHrSE1zI37pb0V-75_DSV7fl1tftsSDhWzRKw=s64",
      "userId": "06994152693423055583"
     },
     "user_tz": -330
    },
    "id": "C2iPG2MxOT77"
   },
   "outputs": [],
   "source": [
    "df_train[\"Married\"].replace(np.nan,df_train[\"Married\"].mode().values[0],inplace=True)"
   ]
  },
  {
   "cell_type": "code",
   "execution_count": 33,
   "metadata": {
    "colab": {
     "base_uri": "https://localhost:8080/",
     "height": 452
    },
    "executionInfo": {
     "elapsed": 202390,
     "status": "ok",
     "timestamp": 1617214808018,
     "user": {
      "displayName": "Raghav Gupta",
      "photoUrl": "https://lh3.googleusercontent.com/a-/AOh14GgorRHrSE1zI37pb0V-75_DSV7fl1tftsSDhWzRKw=s64",
      "userId": "06994152693423055583"
     },
     "user_tz": -330
    },
    "id": "1WXMdDdaOT77",
    "outputId": "d82a819c-46fc-4351-ac6e-c38b8ad280e5"
   },
   "outputs": [
    {
     "data": {
      "text/html": [
       "<div>\n",
       "<style scoped>\n",
       "    .dataframe tbody tr th:only-of-type {\n",
       "        vertical-align: middle;\n",
       "    }\n",
       "\n",
       "    .dataframe tbody tr th {\n",
       "        vertical-align: top;\n",
       "    }\n",
       "\n",
       "    .dataframe thead th {\n",
       "        text-align: right;\n",
       "    }\n",
       "</style>\n",
       "<table border=\"1\" class=\"dataframe\">\n",
       "  <thead>\n",
       "    <tr style=\"text-align: right;\">\n",
       "      <th></th>\n",
       "      <th>Total</th>\n",
       "      <th>Percent</th>\n",
       "    </tr>\n",
       "  </thead>\n",
       "  <tbody>\n",
       "    <tr>\n",
       "      <th>Loan_ID</th>\n",
       "      <td>0</td>\n",
       "      <td>0.0</td>\n",
       "    </tr>\n",
       "    <tr>\n",
       "      <th>Gender</th>\n",
       "      <td>0</td>\n",
       "      <td>0.0</td>\n",
       "    </tr>\n",
       "    <tr>\n",
       "      <th>Married</th>\n",
       "      <td>0</td>\n",
       "      <td>0.0</td>\n",
       "    </tr>\n",
       "    <tr>\n",
       "      <th>Dependents</th>\n",
       "      <td>0</td>\n",
       "      <td>0.0</td>\n",
       "    </tr>\n",
       "    <tr>\n",
       "      <th>Education</th>\n",
       "      <td>0</td>\n",
       "      <td>0.0</td>\n",
       "    </tr>\n",
       "    <tr>\n",
       "      <th>Self_Employed</th>\n",
       "      <td>0</td>\n",
       "      <td>0.0</td>\n",
       "    </tr>\n",
       "    <tr>\n",
       "      <th>ApplicantIncome</th>\n",
       "      <td>0</td>\n",
       "      <td>0.0</td>\n",
       "    </tr>\n",
       "    <tr>\n",
       "      <th>CoapplicantIncome</th>\n",
       "      <td>0</td>\n",
       "      <td>0.0</td>\n",
       "    </tr>\n",
       "    <tr>\n",
       "      <th>LoanAmount</th>\n",
       "      <td>0</td>\n",
       "      <td>0.0</td>\n",
       "    </tr>\n",
       "    <tr>\n",
       "      <th>Loan_Amount_Term</th>\n",
       "      <td>0</td>\n",
       "      <td>0.0</td>\n",
       "    </tr>\n",
       "    <tr>\n",
       "      <th>Credit_History</th>\n",
       "      <td>0</td>\n",
       "      <td>0.0</td>\n",
       "    </tr>\n",
       "    <tr>\n",
       "      <th>Property_Area</th>\n",
       "      <td>0</td>\n",
       "      <td>0.0</td>\n",
       "    </tr>\n",
       "    <tr>\n",
       "      <th>Loan_Status</th>\n",
       "      <td>0</td>\n",
       "      <td>0.0</td>\n",
       "    </tr>\n",
       "  </tbody>\n",
       "</table>\n",
       "</div>"
      ],
      "text/plain": [
       "                   Total  Percent\n",
       "Loan_ID                0      0.0\n",
       "Gender                 0      0.0\n",
       "Married                0      0.0\n",
       "Dependents             0      0.0\n",
       "Education              0      0.0\n",
       "Self_Employed          0      0.0\n",
       "ApplicantIncome        0      0.0\n",
       "CoapplicantIncome      0      0.0\n",
       "LoanAmount             0      0.0\n",
       "Loan_Amount_Term       0      0.0\n",
       "Credit_History         0      0.0\n",
       "Property_Area          0      0.0\n",
       "Loan_Status            0      0.0"
      ]
     },
     "execution_count": 33,
     "metadata": {},
     "output_type": "execute_result"
    }
   ],
   "source": [
    "missing_check(df_train)"
   ]
  },
  {
   "cell_type": "markdown",
   "metadata": {
    "id": "VLMvC0SnOT78"
   },
   "source": [
    "# Bi-variate, and multivariate analysis"
   ]
  },
  {
   "cell_type": "markdown",
   "metadata": {
    "id": "LIDEewLpOT79"
   },
   "source": [
    "### Correlation matrix"
   ]
  },
  {
   "cell_type": "code",
   "execution_count": 34,
   "metadata": {
    "colab": {
     "base_uri": "https://localhost:8080/",
     "height": 204
    },
    "executionInfo": {
     "elapsed": 202214,
     "status": "ok",
     "timestamp": 1617214808029,
     "user": {
      "displayName": "Raghav Gupta",
      "photoUrl": "https://lh3.googleusercontent.com/a-/AOh14GgorRHrSE1zI37pb0V-75_DSV7fl1tftsSDhWzRKw=s64",
      "userId": "06994152693423055583"
     },
     "user_tz": -330
    },
    "id": "ay4tCiylOT79",
    "outputId": "5f8dbd1a-698b-4d6d-afce-3773c0135c06"
   },
   "outputs": [
    {
     "data": {
      "text/html": [
       "<div>\n",
       "<style scoped>\n",
       "    .dataframe tbody tr th:only-of-type {\n",
       "        vertical-align: middle;\n",
       "    }\n",
       "\n",
       "    .dataframe tbody tr th {\n",
       "        vertical-align: top;\n",
       "    }\n",
       "\n",
       "    .dataframe thead th {\n",
       "        text-align: right;\n",
       "    }\n",
       "</style>\n",
       "<table border=\"1\" class=\"dataframe\">\n",
       "  <thead>\n",
       "    <tr style=\"text-align: right;\">\n",
       "      <th></th>\n",
       "      <th>ApplicantIncome</th>\n",
       "      <th>CoapplicantIncome</th>\n",
       "      <th>LoanAmount</th>\n",
       "      <th>Loan_Amount_Term</th>\n",
       "      <th>Credit_History</th>\n",
       "    </tr>\n",
       "  </thead>\n",
       "  <tbody>\n",
       "    <tr>\n",
       "      <th>ApplicantIncome</th>\n",
       "      <td>1.00</td>\n",
       "      <td>-0.12</td>\n",
       "      <td>0.57</td>\n",
       "      <td>-0.05</td>\n",
       "      <td>-0.02</td>\n",
       "    </tr>\n",
       "    <tr>\n",
       "      <th>CoapplicantIncome</th>\n",
       "      <td>-0.12</td>\n",
       "      <td>1.00</td>\n",
       "      <td>0.19</td>\n",
       "      <td>-0.06</td>\n",
       "      <td>0.01</td>\n",
       "    </tr>\n",
       "    <tr>\n",
       "      <th>LoanAmount</th>\n",
       "      <td>0.57</td>\n",
       "      <td>0.19</td>\n",
       "      <td>1.00</td>\n",
       "      <td>0.04</td>\n",
       "      <td>-0.00</td>\n",
       "    </tr>\n",
       "    <tr>\n",
       "      <th>Loan_Amount_Term</th>\n",
       "      <td>-0.05</td>\n",
       "      <td>-0.06</td>\n",
       "      <td>0.04</td>\n",
       "      <td>1.00</td>\n",
       "      <td>-0.00</td>\n",
       "    </tr>\n",
       "    <tr>\n",
       "      <th>Credit_History</th>\n",
       "      <td>-0.02</td>\n",
       "      <td>0.01</td>\n",
       "      <td>-0.00</td>\n",
       "      <td>-0.00</td>\n",
       "      <td>1.00</td>\n",
       "    </tr>\n",
       "  </tbody>\n",
       "</table>\n",
       "</div>"
      ],
      "text/plain": [
       "                   ApplicantIncome  CoapplicantIncome  LoanAmount  \\\n",
       "ApplicantIncome               1.00              -0.12        0.57   \n",
       "CoapplicantIncome            -0.12               1.00        0.19   \n",
       "LoanAmount                    0.57               0.19        1.00   \n",
       "Loan_Amount_Term             -0.05              -0.06        0.04   \n",
       "Credit_History               -0.02               0.01       -0.00   \n",
       "\n",
       "                   Loan_Amount_Term  Credit_History  \n",
       "ApplicantIncome               -0.05           -0.02  \n",
       "CoapplicantIncome             -0.06            0.01  \n",
       "LoanAmount                     0.04           -0.00  \n",
       "Loan_Amount_Term               1.00           -0.00  \n",
       "Credit_History                -0.00            1.00  "
      ]
     },
     "execution_count": 34,
     "metadata": {},
     "output_type": "execute_result"
    }
   ],
   "source": [
    "Cor=df_train.corr().round(2)\n",
    "Cor"
   ]
  },
  {
   "cell_type": "markdown",
   "metadata": {
    "id": "uud9LFBnOT7-"
   },
   "source": [
    "### Heat Map"
   ]
  },
  {
   "cell_type": "code",
   "execution_count": 35,
   "metadata": {
    "colab": {
     "base_uri": "https://localhost:8080/",
     "height": 868
    },
    "executionInfo": {
     "elapsed": 203469,
     "status": "ok",
     "timestamp": 1617214809921,
     "user": {
      "displayName": "Raghav Gupta",
      "photoUrl": "https://lh3.googleusercontent.com/a-/AOh14GgorRHrSE1zI37pb0V-75_DSV7fl1tftsSDhWzRKw=s64",
      "userId": "06994152693423055583"
     },
     "user_tz": -330
    },
    "id": "moOwl8mJOT7-",
    "outputId": "a15c4d45-5af9-4f13-c95c-253729a149dd"
   },
   "outputs": [
    {
     "data": {
      "image/png": "[encoded data removed]",
      "text/plain": [
       "<Figure size 1080x1080 with 2 Axes>"
      ]
     },
     "metadata": {
      "needs_background": "light"
     },
     "output_type": "display_data"
    }
   ],
   "source": [
    "# plot the correlation coefficients as a heatmap\n",
    "## Correlation Matrix\n",
    "plt.figure(figsize=(15 ,15))\n",
    "mask = np.array(Cor)\n",
    "mask[np.triu_indices_from(mask)] =False\n",
    "sns.heatmap(data =Cor, annot =True, mask =mask,vmax =1, vmin=-1, cmap ='coolwarm');"
   ]
  },
  {
   "cell_type": "code",
   "execution_count": null,
   "metadata": {
    "executionInfo": {
     "elapsed": 203227,
     "status": "ok",
     "timestamp": 1617214809923,
     "user": {
      "displayName": "Raghav Gupta",
      "photoUrl": "https://lh3.googleusercontent.com/a-/AOh14GgorRHrSE1zI37pb0V-75_DSV7fl1tftsSDhWzRKw=s64",
      "userId": "06994152693423055583"
     },
     "user_tz": -330
    },
    "id": "JutN9lpFOT7_"
   },
   "outputs": [],
   "source": []
  },
  {
   "cell_type": "code",
   "execution_count": 36,
   "metadata": {
    "colab": {
     "base_uri": "https://localhost:8080/"
    },
    "executionInfo": {
     "elapsed": 203004,
     "status": "ok",
     "timestamp": 1617214809925,
     "user": {
      "displayName": "Raghav Gupta",
      "photoUrl": "https://lh3.googleusercontent.com/a-/AOh14GgorRHrSE1zI37pb0V-75_DSV7fl1tftsSDhWzRKw=s64",
      "userId": "06994152693423055583"
     },
     "user_tz": -330
    },
    "id": "2GScMLsJOT7_",
    "outputId": "5ca570b5-aeae-4903-b6a9-2d7a6eb44b9c"
   },
   "outputs": [
    {
     "name": "stdout",
     "output_type": "stream",
     "text": [
      "<class 'pandas.core.frame.DataFrame'>\n",
      "RangeIndex: 367 entries, 0 to 366\n",
      "Data columns (total 12 columns):\n",
      " #   Column             Non-Null Count  Dtype  \n",
      "---  ------             --------------  -----  \n",
      " 0   Loan_ID            367 non-null    object \n",
      " 1   Gender             356 non-null    object \n",
      " 2   Married            367 non-null    object \n",
      " 3   Dependents         357 non-null    object \n",
      " 4   Education          367 non-null    object \n",
      " 5   Self_Employed      344 non-null    object \n",
      " 6   ApplicantIncome    367 non-null    int64  \n",
      " 7   CoapplicantIncome  367 non-null    int64  \n",
      " 8   LoanAmount         362 non-null    float64\n",
      " 9   Loan_Amount_Term   361 non-null    float64\n",
      " 10  Credit_History     338 non-null    float64\n",
      " 11  Property_Area      367 non-null    object \n",
      "dtypes: float64(3), int64(2), object(7)\n",
      "memory usage: 34.5+ KB\n"
     ]
    }
   ],
   "source": [
    "df_test.info()"
   ]
  },
  {
   "cell_type": "markdown",
   "metadata": {
    "id": "XqS-mQbzOT8A"
   },
   "source": [
    "## Checking for missing values"
   ]
  },
  {
   "cell_type": "code",
   "execution_count": 37,
   "metadata": {
    "colab": {
     "base_uri": "https://localhost:8080/",
     "height": 421
    },
    "executionInfo": {
     "elapsed": 202649,
     "status": "ok",
     "timestamp": 1617214809926,
     "user": {
      "displayName": "Raghav Gupta",
      "photoUrl": "https://lh3.googleusercontent.com/a-/AOh14GgorRHrSE1zI37pb0V-75_DSV7fl1tftsSDhWzRKw=s64",
      "userId": "06994152693423055583"
     },
     "user_tz": -330
    },
    "id": "knfmQVhEOT8A",
    "outputId": "255e4bd8-0294-4e70-c2e3-70783651bb80"
   },
   "outputs": [
    {
     "data": {
      "text/html": [
       "<div>\n",
       "<style scoped>\n",
       "    .dataframe tbody tr th:only-of-type {\n",
       "        vertical-align: middle;\n",
       "    }\n",
       "\n",
       "    .dataframe tbody tr th {\n",
       "        vertical-align: top;\n",
       "    }\n",
       "\n",
       "    .dataframe thead th {\n",
       "        text-align: right;\n",
       "    }\n",
       "</style>\n",
       "<table border=\"1\" class=\"dataframe\">\n",
       "  <thead>\n",
       "    <tr style=\"text-align: right;\">\n",
       "      <th></th>\n",
       "      <th>Total</th>\n",
       "      <th>Percent</th>\n",
       "    </tr>\n",
       "  </thead>\n",
       "  <tbody>\n",
       "    <tr>\n",
       "      <th>Credit_History</th>\n",
       "      <td>29</td>\n",
       "      <td>7.901907</td>\n",
       "    </tr>\n",
       "    <tr>\n",
       "      <th>Self_Employed</th>\n",
       "      <td>23</td>\n",
       "      <td>6.267030</td>\n",
       "    </tr>\n",
       "    <tr>\n",
       "      <th>Gender</th>\n",
       "      <td>11</td>\n",
       "      <td>2.997275</td>\n",
       "    </tr>\n",
       "    <tr>\n",
       "      <th>Dependents</th>\n",
       "      <td>10</td>\n",
       "      <td>2.724796</td>\n",
       "    </tr>\n",
       "    <tr>\n",
       "      <th>Loan_Amount_Term</th>\n",
       "      <td>6</td>\n",
       "      <td>1.634877</td>\n",
       "    </tr>\n",
       "    <tr>\n",
       "      <th>LoanAmount</th>\n",
       "      <td>5</td>\n",
       "      <td>1.362398</td>\n",
       "    </tr>\n",
       "    <tr>\n",
       "      <th>Loan_ID</th>\n",
       "      <td>0</td>\n",
       "      <td>0.000000</td>\n",
       "    </tr>\n",
       "    <tr>\n",
       "      <th>Married</th>\n",
       "      <td>0</td>\n",
       "      <td>0.000000</td>\n",
       "    </tr>\n",
       "    <tr>\n",
       "      <th>Education</th>\n",
       "      <td>0</td>\n",
       "      <td>0.000000</td>\n",
       "    </tr>\n",
       "    <tr>\n",
       "      <th>ApplicantIncome</th>\n",
       "      <td>0</td>\n",
       "      <td>0.000000</td>\n",
       "    </tr>\n",
       "    <tr>\n",
       "      <th>CoapplicantIncome</th>\n",
       "      <td>0</td>\n",
       "      <td>0.000000</td>\n",
       "    </tr>\n",
       "    <tr>\n",
       "      <th>Property_Area</th>\n",
       "      <td>0</td>\n",
       "      <td>0.000000</td>\n",
       "    </tr>\n",
       "  </tbody>\n",
       "</table>\n",
       "</div>"
      ],
      "text/plain": [
       "                   Total   Percent\n",
       "Credit_History        29  7.901907\n",
       "Self_Employed         23  6.267030\n",
       "Gender                11  2.997275\n",
       "Dependents            10  2.724796\n",
       "Loan_Amount_Term       6  1.634877\n",
       "LoanAmount             5  1.362398\n",
       "Loan_ID                0  0.000000\n",
       "Married                0  0.000000\n",
       "Education              0  0.000000\n",
       "ApplicantIncome        0  0.000000\n",
       "CoapplicantIncome      0  0.000000\n",
       "Property_Area          0  0.000000"
      ]
     },
     "execution_count": 37,
     "metadata": {},
     "output_type": "execute_result"
    }
   ],
   "source": [
    "# Check for missing value in any colum\n",
    "# user defined function already defined in problem 1\n",
    "missing_check(df_test)"
   ]
  },
  {
   "cell_type": "markdown",
   "metadata": {
    "id": "95gp9WFvOT8A"
   },
   "source": [
    "## Checking the shape (Number of rows and columns)"
   ]
  },
  {
   "cell_type": "code",
   "execution_count": 38,
   "metadata": {
    "colab": {
     "base_uri": "https://localhost:8080/"
    },
    "executionInfo": {
     "elapsed": 202216,
     "status": "ok",
     "timestamp": 1617214809928,
     "user": {
      "displayName": "Raghav Gupta",
      "photoUrl": "https://lh3.googleusercontent.com/a-/AOh14GgorRHrSE1zI37pb0V-75_DSV7fl1tftsSDhWzRKw=s64",
      "userId": "06994152693423055583"
     },
     "user_tz": -330
    },
    "id": "zMCZcQ0uOT8B",
    "outputId": "b17b89ef-1d1e-4119-d1d8-930b96bbc2d0"
   },
   "outputs": [
    {
     "data": {
      "text/plain": [
       "(367, 12)"
      ]
     },
     "execution_count": 38,
     "metadata": {},
     "output_type": "execute_result"
    }
   ],
   "source": [
    "df_test.shape"
   ]
  },
  {
   "cell_type": "markdown",
   "metadata": {
    "id": "rRJ9BLt1OT8B"
   },
   "source": [
    "## Checking for duplicates"
   ]
  },
  {
   "cell_type": "code",
   "execution_count": 39,
   "metadata": {
    "colab": {
     "base_uri": "https://localhost:8080/",
     "height": 66
    },
    "executionInfo": {
     "elapsed": 201788,
     "status": "ok",
     "timestamp": 1617214809929,
     "user": {
      "displayName": "Raghav Gupta",
      "photoUrl": "https://lh3.googleusercontent.com/a-/AOh14GgorRHrSE1zI37pb0V-75_DSV7fl1tftsSDhWzRKw=s64",
      "userId": "06994152693423055583"
     },
     "user_tz": -330
    },
    "id": "PJoWy1C5OT8B",
    "outputId": "83d61254-1d90-49df-e782-24be96314949"
   },
   "outputs": [
    {
     "name": "stdout",
     "output_type": "stream",
     "text": [
      "Number of duplicate rows = 0\n"
     ]
    },
    {
     "data": {
      "text/html": [
       "<div>\n",
       "<style scoped>\n",
       "    .dataframe tbody tr th:only-of-type {\n",
       "        vertical-align: middle;\n",
       "    }\n",
       "\n",
       "    .dataframe tbody tr th {\n",
       "        vertical-align: top;\n",
       "    }\n",
       "\n",
       "    .dataframe thead th {\n",
       "        text-align: right;\n",
       "    }\n",
       "</style>\n",
       "<table border=\"1\" class=\"dataframe\">\n",
       "  <thead>\n",
       "    <tr style=\"text-align: right;\">\n",
       "      <th></th>\n",
       "      <th>Loan_ID</th>\n",
       "      <th>Gender</th>\n",
       "      <th>Married</th>\n",
       "      <th>Dependents</th>\n",
       "      <th>Education</th>\n",
       "      <th>Self_Employed</th>\n",
       "      <th>ApplicantIncome</th>\n",
       "      <th>CoapplicantIncome</th>\n",
       "      <th>LoanAmount</th>\n",
       "      <th>Loan_Amount_Term</th>\n",
       "      <th>Credit_History</th>\n",
       "      <th>Property_Area</th>\n",
       "    </tr>\n",
       "  </thead>\n",
       "  <tbody>\n",
       "  </tbody>\n",
       "</table>\n",
       "</div>"
      ],
      "text/plain": [
       "Empty DataFrame\n",
       "Columns: [Loan_ID, Gender, Married, Dependents, Education, Self_Employed, ApplicantIncome, CoapplicantIncome, LoanAmount, Loan_Amount_Term, Credit_History, Property_Area]\n",
       "Index: []"
      ]
     },
     "execution_count": 39,
     "metadata": {},
     "output_type": "execute_result"
    }
   ],
   "source": [
    "# Check for duplicate data\n",
    "\n",
    "dups = df_test.duplicated()\n",
    "print('Number of duplicate rows = %d' % (dups.sum()))\n",
    "\n",
    "df_test[dups]"
   ]
  },
  {
   "cell_type": "markdown",
   "metadata": {
    "id": "8VCKnBInOT8C"
   },
   "source": [
    "# Univariate Analysis"
   ]
  },
  {
   "cell_type": "markdown",
   "metadata": {
    "id": "ERamuoubOT8C"
   },
   "source": [
    "## Checking for summary"
   ]
  },
  {
   "cell_type": "code",
   "execution_count": 40,
   "metadata": {
    "colab": {
     "base_uri": "https://localhost:8080/",
     "height": 410
    },
    "executionInfo": {
     "elapsed": 201184,
     "status": "ok",
     "timestamp": 1617214809931,
     "user": {
      "displayName": "Raghav Gupta",
      "photoUrl": "https://lh3.googleusercontent.com/a-/AOh14GgorRHrSE1zI37pb0V-75_DSV7fl1tftsSDhWzRKw=s64",
      "userId": "06994152693423055583"
     },
     "user_tz": -330
    },
    "id": "jOVQhRIbOT8C",
    "outputId": "01376d48-a998-41b9-fa35-cc82e901607f"
   },
   "outputs": [
    {
     "data": {
      "text/html": [
       "<div>\n",
       "<style scoped>\n",
       "    .dataframe tbody tr th:only-of-type {\n",
       "        vertical-align: middle;\n",
       "    }\n",
       "\n",
       "    .dataframe tbody tr th {\n",
       "        vertical-align: top;\n",
       "    }\n",
       "\n",
       "    .dataframe thead th {\n",
       "        text-align: right;\n",
       "    }\n",
       "</style>\n",
       "<table border=\"1\" class=\"dataframe\">\n",
       "  <thead>\n",
       "    <tr style=\"text-align: right;\">\n",
       "      <th></th>\n",
       "      <th>Loan_ID</th>\n",
       "      <th>Gender</th>\n",
       "      <th>Married</th>\n",
       "      <th>Dependents</th>\n",
       "      <th>Education</th>\n",
       "      <th>Self_Employed</th>\n",
       "      <th>ApplicantIncome</th>\n",
       "      <th>CoapplicantIncome</th>\n",
       "      <th>LoanAmount</th>\n",
       "      <th>Loan_Amount_Term</th>\n",
       "      <th>Credit_History</th>\n",
       "      <th>Property_Area</th>\n",
       "    </tr>\n",
       "  </thead>\n",
       "  <tbody>\n",
       "    <tr>\n",
       "      <th>count</th>\n",
       "      <td>367</td>\n",
       "      <td>356</td>\n",
       "      <td>367</td>\n",
       "      <td>357</td>\n",
       "      <td>367</td>\n",
       "      <td>344</td>\n",
       "      <td>367.000000</td>\n",
       "      <td>367.000000</td>\n",
       "      <td>362.000000</td>\n",
       "      <td>361.000000</td>\n",
       "      <td>338.000000</td>\n",
       "      <td>367</td>\n",
       "    </tr>\n",
       "    <tr>\n",
       "      <th>unique</th>\n",
       "      <td>367</td>\n",
       "      <td>2</td>\n",
       "      <td>2</td>\n",
       "      <td>4</td>\n",
       "      <td>2</td>\n",
       "      <td>2</td>\n",
       "      <td>NaN</td>\n",
       "      <td>NaN</td>\n",
       "      <td>NaN</td>\n",
       "      <td>NaN</td>\n",
       "      <td>NaN</td>\n",
       "      <td>3</td>\n",
       "    </tr>\n",
       "    <tr>\n",
       "      <th>top</th>\n",
       "      <td>LP001312</td>\n",
       "      <td>Male</td>\n",
       "      <td>Yes</td>\n",
       "      <td>0</td>\n",
       "      <td>Graduate</td>\n",
       "      <td>No</td>\n",
       "      <td>NaN</td>\n",
       "      <td>NaN</td>\n",
       "      <td>NaN</td>\n",
       "      <td>NaN</td>\n",
       "      <td>NaN</td>\n",
       "      <td>Urban</td>\n",
       "    </tr>\n",
       "    <tr>\n",
       "      <th>freq</th>\n",
       "      <td>1</td>\n",
       "      <td>286</td>\n",
       "      <td>233</td>\n",
       "      <td>200</td>\n",
       "      <td>283</td>\n",
       "      <td>307</td>\n",
       "      <td>NaN</td>\n",
       "      <td>NaN</td>\n",
       "      <td>NaN</td>\n",
       "      <td>NaN</td>\n",
       "      <td>NaN</td>\n",
       "      <td>140</td>\n",
       "    </tr>\n",
       "    <tr>\n",
       "      <th>mean</th>\n",
       "      <td>NaN</td>\n",
       "      <td>NaN</td>\n",
       "      <td>NaN</td>\n",
       "      <td>NaN</td>\n",
       "      <td>NaN</td>\n",
       "      <td>NaN</td>\n",
       "      <td>4805.599455</td>\n",
       "      <td>1569.577657</td>\n",
       "      <td>136.132597</td>\n",
       "      <td>342.537396</td>\n",
       "      <td>0.825444</td>\n",
       "      <td>NaN</td>\n",
       "    </tr>\n",
       "    <tr>\n",
       "      <th>std</th>\n",
       "      <td>NaN</td>\n",
       "      <td>NaN</td>\n",
       "      <td>NaN</td>\n",
       "      <td>NaN</td>\n",
       "      <td>NaN</td>\n",
       "      <td>NaN</td>\n",
       "      <td>4910.685399</td>\n",
       "      <td>2334.232099</td>\n",
       "      <td>61.366652</td>\n",
       "      <td>65.156643</td>\n",
       "      <td>0.380150</td>\n",
       "      <td>NaN</td>\n",
       "    </tr>\n",
       "    <tr>\n",
       "      <th>min</th>\n",
       "      <td>NaN</td>\n",
       "      <td>NaN</td>\n",
       "      <td>NaN</td>\n",
       "      <td>NaN</td>\n",
       "      <td>NaN</td>\n",
       "      <td>NaN</td>\n",
       "      <td>0.000000</td>\n",
       "      <td>0.000000</td>\n",
       "      <td>28.000000</td>\n",
       "      <td>6.000000</td>\n",
       "      <td>0.000000</td>\n",
       "      <td>NaN</td>\n",
       "    </tr>\n",
       "    <tr>\n",
       "      <th>25%</th>\n",
       "      <td>NaN</td>\n",
       "      <td>NaN</td>\n",
       "      <td>NaN</td>\n",
       "      <td>NaN</td>\n",
       "      <td>NaN</td>\n",
       "      <td>NaN</td>\n",
       "      <td>2864.000000</td>\n",
       "      <td>0.000000</td>\n",
       "      <td>100.250000</td>\n",
       "      <td>360.000000</td>\n",
       "      <td>1.000000</td>\n",
       "      <td>NaN</td>\n",
       "    </tr>\n",
       "    <tr>\n",
       "      <th>50%</th>\n",
       "      <td>NaN</td>\n",
       "      <td>NaN</td>\n",
       "      <td>NaN</td>\n",
       "      <td>NaN</td>\n",
       "      <td>NaN</td>\n",
       "      <td>NaN</td>\n",
       "      <td>3786.000000</td>\n",
       "      <td>1025.000000</td>\n",
       "      <td>125.000000</td>\n",
       "      <td>360.000000</td>\n",
       "      <td>1.000000</td>\n",
       "      <td>NaN</td>\n",
       "    </tr>\n",
       "    <tr>\n",
       "      <th>75%</th>\n",
       "      <td>NaN</td>\n",
       "      <td>NaN</td>\n",
       "      <td>NaN</td>\n",
       "      <td>NaN</td>\n",
       "      <td>NaN</td>\n",
       "      <td>NaN</td>\n",
       "      <td>5060.000000</td>\n",
       "      <td>2430.500000</td>\n",
       "      <td>158.000000</td>\n",
       "      <td>360.000000</td>\n",
       "      <td>1.000000</td>\n",
       "      <td>NaN</td>\n",
       "    </tr>\n",
       "    <tr>\n",
       "      <th>max</th>\n",
       "      <td>NaN</td>\n",
       "      <td>NaN</td>\n",
       "      <td>NaN</td>\n",
       "      <td>NaN</td>\n",
       "      <td>NaN</td>\n",
       "      <td>NaN</td>\n",
       "      <td>72529.000000</td>\n",
       "      <td>24000.000000</td>\n",
       "      <td>550.000000</td>\n",
       "      <td>480.000000</td>\n",
       "      <td>1.000000</td>\n",
       "      <td>NaN</td>\n",
       "    </tr>\n",
       "  </tbody>\n",
       "</table>\n",
       "</div>"
      ],
      "text/plain": [
       "         Loan_ID Gender Married Dependents Education Self_Employed  \\\n",
       "count        367    356     367        357       367           344   \n",
       "unique       367      2       2          4         2             2   \n",
       "top     LP001312   Male     Yes          0  Graduate            No   \n",
       "freq           1    286     233        200       283           307   \n",
       "mean         NaN    NaN     NaN        NaN       NaN           NaN   \n",
       "std          NaN    NaN     NaN        NaN       NaN           NaN   \n",
       "min          NaN    NaN     NaN        NaN       NaN           NaN   \n",
       "25%          NaN    NaN     NaN        NaN       NaN           NaN   \n",
       "50%          NaN    NaN     NaN        NaN       NaN           NaN   \n",
       "75%          NaN    NaN     NaN        NaN       NaN           NaN   \n",
       "max          NaN    NaN     NaN        NaN       NaN           NaN   \n",
       "\n",
       "        ApplicantIncome  CoapplicantIncome  LoanAmount  Loan_Amount_Term  \\\n",
       "count        367.000000         367.000000  362.000000        361.000000   \n",
       "unique              NaN                NaN         NaN               NaN   \n",
       "top                 NaN                NaN         NaN               NaN   \n",
       "freq                NaN                NaN         NaN               NaN   \n",
       "mean        4805.599455        1569.577657  136.132597        342.537396   \n",
       "std         4910.685399        2334.232099   61.366652         65.156643   \n",
       "min            0.000000           0.000000   28.000000          6.000000   \n",
       "25%         2864.000000           0.000000  100.250000        360.000000   \n",
       "50%         3786.000000        1025.000000  125.000000        360.000000   \n",
       "75%         5060.000000        2430.500000  158.000000        360.000000   \n",
       "max        72529.000000       24000.000000  550.000000        480.000000   \n",
       "\n",
       "        Credit_History Property_Area  \n",
       "count       338.000000           367  \n",
       "unique             NaN             3  \n",
       "top                NaN         Urban  \n",
       "freq               NaN           140  \n",
       "mean          0.825444           NaN  \n",
       "std           0.380150           NaN  \n",
       "min           0.000000           NaN  \n",
       "25%           1.000000           NaN  \n",
       "50%           1.000000           NaN  \n",
       "75%           1.000000           NaN  \n",
       "max           1.000000           NaN  "
      ]
     },
     "execution_count": 40,
     "metadata": {},
     "output_type": "execute_result"
    }
   ],
   "source": [
    "df_test_summ=pd.DataFrame(df_train.describe().round(2))\n",
    "df_test.describe(include='all')\n"
   ]
  },
  {
   "cell_type": "markdown",
   "metadata": {
    "id": "fxFdKGcCOT8D"
   },
   "source": [
    "## Check for Outliers (Which all variables have an outlier?)"
   ]
  },
  {
   "cell_type": "code",
   "execution_count": 41,
   "metadata": {
    "colab": {
     "base_uri": "https://localhost:8080/"
    },
    "executionInfo": {
     "elapsed": 200744,
     "status": "ok",
     "timestamp": 1617214809933,
     "user": {
      "displayName": "Raghav Gupta",
      "photoUrl": "https://lh3.googleusercontent.com/a-/AOh14GgorRHrSE1zI37pb0V-75_DSV7fl1tftsSDhWzRKw=s64",
      "userId": "06994152693423055583"
     },
     "user_tz": -330
    },
    "id": "SlL_eqMdOT8D",
    "outputId": "530c6f69-c0b6-4453-82bb-3c2b001337a2"
   },
   "outputs": [
    {
     "data": {
      "text/plain": [
       "Loan_ID               object\n",
       "Gender                object\n",
       "Married               object\n",
       "Dependents            object\n",
       "Education             object\n",
       "Self_Employed         object\n",
       "ApplicantIncome        int64\n",
       "CoapplicantIncome      int64\n",
       "LoanAmount           float64\n",
       "Loan_Amount_Term     float64\n",
       "Credit_History       float64\n",
       "Property_Area         object\n",
       "dtype: object"
      ]
     },
     "execution_count": 41,
     "metadata": {},
     "output_type": "execute_result"
    }
   ],
   "source": [
    "df_test.dtypes"
   ]
  },
  {
   "cell_type": "code",
   "execution_count": 42,
   "metadata": {
    "colab": {
     "base_uri": "https://localhost:8080/",
     "height": 690
    },
    "executionInfo": {
     "elapsed": 200504,
     "status": "ok",
     "timestamp": 1617214809935,
     "user": {
      "displayName": "Raghav Gupta",
      "photoUrl": "https://lh3.googleusercontent.com/a-/AOh14GgorRHrSE1zI37pb0V-75_DSV7fl1tftsSDhWzRKw=s64",
      "userId": "06994152693423055583"
     },
     "user_tz": -330
    },
    "id": "eTHpyz8POT8D",
    "outputId": "59e1558a-2f4d-42b0-eb43-8731150c442e"
   },
   "outputs": [
    {
     "data": {
      "image/png": "[encoded data removed]",
      "text/plain": [
       "<Figure size 1440x810 with 5 Axes>"
      ]
     },
     "metadata": {
      "needs_background": "light"
     },
     "output_type": "display_data"
    }
   ],
   "source": [
    "# Checking for Outliers\n",
    "numeric_col_names=numeric_datatype_df(df_test)\n",
    "no_of_graphs_rows=4\n",
    "rows=calc_rows(numeric_col_names, no_of_graphs_rows)\n",
    "    \n",
    "plt.figure(figsize= (20,5*rows))\n",
    "box_plot_no=1\n",
    "for col in df_test.columns :\n",
    "#    if (col in numeric_col_names):\n",
    "    if (df_test[col].dtype == 'int64') | (df_test[col].dtype == 'float64'):\n",
    "        box_plot_title = \"Box plot of \" + col\n",
    "        plt.subplot(rows,no_of_graphs_rows,box_plot_no)\n",
    "        sns.boxplot(x= col,data =df_test ,color='green').set(title =box_plot_title)\n",
    "        box_plot_no = box_plot_no + 1 \n"
   ]
  },
  {
   "cell_type": "markdown",
   "metadata": {
    "id": "FFWIY8XzOT8E"
   },
   "source": [
    "We can confirm visually from box plots that there are outliers in all the four numeric columns."
   ]
  },
  {
   "cell_type": "markdown",
   "metadata": {
    "id": "NuywClfSOT8E"
   },
   "source": [
    "## Plot the Histograms"
   ]
  },
  {
   "cell_type": "code",
   "execution_count": 43,
   "metadata": {
    "colab": {
     "base_uri": "https://localhost:8080/",
     "height": 690
    },
    "executionInfo": {
     "elapsed": 202008,
     "status": "ok",
     "timestamp": 1617214812080,
     "user": {
      "displayName": "Raghav Gupta",
      "photoUrl": "https://lh3.googleusercontent.com/a-/AOh14GgorRHrSE1zI37pb0V-75_DSV7fl1tftsSDhWzRKw=s64",
      "userId": "06994152693423055583"
     },
     "user_tz": -330
    },
    "id": "SJq51V-LOT8E",
    "outputId": "7e69d884-791d-4b3d-caff-8e00e26cfb9c"
   },
   "outputs": [
    {
     "data": {
      "image/png": "[encoded data removed]",
      "text/plain": [
       "<Figure size 1440x810 with 5 Axes>"
      ]
     },
     "metadata": {
      "needs_background": "light"
     },
     "output_type": "display_data"
    }
   ],
   "source": [
    "#Plots to see the distribution of the continuous features individually\n",
    "plt.figure(figsize= (20,5*rows))\n",
    "distplot_no=1\n",
    "for col in df_test.columns :\n",
    "    if (col in numeric_col_names):\n",
    "        distplot_title = col\n",
    "        plt.subplot(rows,no_of_graphs_rows,distplot_no)\n",
    "        sns.histplot(df_test[col] ,color='green').set(title =distplot_title)\n",
    "        distplot_no = distplot_no + 1 \n"
   ]
  },
  {
   "cell_type": "code",
   "execution_count": 44,
   "metadata": {
    "colab": {
     "base_uri": "https://localhost:8080/",
     "height": 421
    },
    "executionInfo": {
     "elapsed": 201900,
     "status": "ok",
     "timestamp": 1617214812082,
     "user": {
      "displayName": "Raghav Gupta",
      "photoUrl": "https://lh3.googleusercontent.com/a-/AOh14GgorRHrSE1zI37pb0V-75_DSV7fl1tftsSDhWzRKw=s64",
      "userId": "06994152693423055583"
     },
     "user_tz": -330
    },
    "id": "o0GheDsJOT8F",
    "outputId": "89434c4e-c334-4ada-94d1-d19d37ccf14b"
   },
   "outputs": [
    {
     "data": {
      "text/html": [
       "<div>\n",
       "<style scoped>\n",
       "    .dataframe tbody tr th:only-of-type {\n",
       "        vertical-align: middle;\n",
       "    }\n",
       "\n",
       "    .dataframe tbody tr th {\n",
       "        vertical-align: top;\n",
       "    }\n",
       "\n",
       "    .dataframe thead th {\n",
       "        text-align: right;\n",
       "    }\n",
       "</style>\n",
       "<table border=\"1\" class=\"dataframe\">\n",
       "  <thead>\n",
       "    <tr style=\"text-align: right;\">\n",
       "      <th></th>\n",
       "      <th>Total</th>\n",
       "      <th>Percent</th>\n",
       "    </tr>\n",
       "  </thead>\n",
       "  <tbody>\n",
       "    <tr>\n",
       "      <th>Credit_History</th>\n",
       "      <td>29</td>\n",
       "      <td>7.901907</td>\n",
       "    </tr>\n",
       "    <tr>\n",
       "      <th>Self_Employed</th>\n",
       "      <td>23</td>\n",
       "      <td>6.267030</td>\n",
       "    </tr>\n",
       "    <tr>\n",
       "      <th>Gender</th>\n",
       "      <td>11</td>\n",
       "      <td>2.997275</td>\n",
       "    </tr>\n",
       "    <tr>\n",
       "      <th>Dependents</th>\n",
       "      <td>10</td>\n",
       "      <td>2.724796</td>\n",
       "    </tr>\n",
       "    <tr>\n",
       "      <th>Loan_Amount_Term</th>\n",
       "      <td>6</td>\n",
       "      <td>1.634877</td>\n",
       "    </tr>\n",
       "    <tr>\n",
       "      <th>LoanAmount</th>\n",
       "      <td>5</td>\n",
       "      <td>1.362398</td>\n",
       "    </tr>\n",
       "    <tr>\n",
       "      <th>Loan_ID</th>\n",
       "      <td>0</td>\n",
       "      <td>0.000000</td>\n",
       "    </tr>\n",
       "    <tr>\n",
       "      <th>Married</th>\n",
       "      <td>0</td>\n",
       "      <td>0.000000</td>\n",
       "    </tr>\n",
       "    <tr>\n",
       "      <th>Education</th>\n",
       "      <td>0</td>\n",
       "      <td>0.000000</td>\n",
       "    </tr>\n",
       "    <tr>\n",
       "      <th>ApplicantIncome</th>\n",
       "      <td>0</td>\n",
       "      <td>0.000000</td>\n",
       "    </tr>\n",
       "    <tr>\n",
       "      <th>CoapplicantIncome</th>\n",
       "      <td>0</td>\n",
       "      <td>0.000000</td>\n",
       "    </tr>\n",
       "    <tr>\n",
       "      <th>Property_Area</th>\n",
       "      <td>0</td>\n",
       "      <td>0.000000</td>\n",
       "    </tr>\n",
       "  </tbody>\n",
       "</table>\n",
       "</div>"
      ],
      "text/plain": [
       "                   Total   Percent\n",
       "Credit_History        29  7.901907\n",
       "Self_Employed         23  6.267030\n",
       "Gender                11  2.997275\n",
       "Dependents            10  2.724796\n",
       "Loan_Amount_Term       6  1.634877\n",
       "LoanAmount             5  1.362398\n",
       "Loan_ID                0  0.000000\n",
       "Married                0  0.000000\n",
       "Education              0  0.000000\n",
       "ApplicantIncome        0  0.000000\n",
       "CoapplicantIncome      0  0.000000\n",
       "Property_Area          0  0.000000"
      ]
     },
     "execution_count": 44,
     "metadata": {},
     "output_type": "execute_result"
    }
   ],
   "source": [
    "# user defined function already defined in problem 1\n",
    "missing_check(df_test)"
   ]
  },
  {
   "cell_type": "markdown",
   "metadata": {
    "id": "PhBJy5gxOT8F"
   },
   "source": [
    "## Replacing Null values with median (outliers case) and mode (categorical variables)"
   ]
  },
  {
   "cell_type": "code",
   "execution_count": 45,
   "metadata": {
    "executionInfo": {
     "elapsed": 201432,
     "status": "ok",
     "timestamp": 1617214812086,
     "user": {
      "displayName": "Raghav Gupta",
      "photoUrl": "https://lh3.googleusercontent.com/a-/AOh14GgorRHrSE1zI37pb0V-75_DSV7fl1tftsSDhWzRKw=s64",
      "userId": "06994152693423055583"
     },
     "user_tz": -330
    },
    "id": "-bjMXesUOT8F"
   },
   "outputs": [],
   "source": [
    "df_test[\"Credit_History\"].replace(np.nan,df_test[\"Credit_History\"].mode().values[0],inplace=True)"
   ]
  },
  {
   "cell_type": "code",
   "execution_count": 46,
   "metadata": {
    "executionInfo": {
     "elapsed": 201213,
     "status": "ok",
     "timestamp": 1617214812087,
     "user": {
      "displayName": "Raghav Gupta",
      "photoUrl": "https://lh3.googleusercontent.com/a-/AOh14GgorRHrSE1zI37pb0V-75_DSV7fl1tftsSDhWzRKw=s64",
      "userId": "06994152693423055583"
     },
     "user_tz": -330
    },
    "id": "nxDeRoL-OT8G"
   },
   "outputs": [],
   "source": [
    "df_test[\"Self_Employed\"].replace(np.nan,df_test[\"Self_Employed\"].mode().values[0],inplace=True)"
   ]
  },
  {
   "cell_type": "code",
   "execution_count": 47,
   "metadata": {
    "executionInfo": {
     "elapsed": 200991,
     "status": "ok",
     "timestamp": 1617214812089,
     "user": {
      "displayName": "Raghav Gupta",
      "photoUrl": "https://lh3.googleusercontent.com/a-/AOh14GgorRHrSE1zI37pb0V-75_DSV7fl1tftsSDhWzRKw=s64",
      "userId": "06994152693423055583"
     },
     "user_tz": -330
    },
    "id": "Q-pZp0QBOT8G"
   },
   "outputs": [],
   "source": [
    "#LoanAmount\n",
    "df_test[\"LoanAmount\"].replace(np.nan,df_test[\"LoanAmount\"].median(),inplace=True)"
   ]
  },
  {
   "cell_type": "code",
   "execution_count": 48,
   "metadata": {
    "executionInfo": {
     "elapsed": 200887,
     "status": "ok",
     "timestamp": 1617214812090,
     "user": {
      "displayName": "Raghav Gupta",
      "photoUrl": "https://lh3.googleusercontent.com/a-/AOh14GgorRHrSE1zI37pb0V-75_DSV7fl1tftsSDhWzRKw=s64",
      "userId": "06994152693423055583"
     },
     "user_tz": -330
    },
    "id": "yPBhfjm8OT8G"
   },
   "outputs": [],
   "source": [
    "df_test[\"Dependents\"].replace(np.nan,df_test[\"Dependents\"].mode().values[0],inplace=True)"
   ]
  },
  {
   "cell_type": "code",
   "execution_count": 49,
   "metadata": {
    "executionInfo": {
     "elapsed": 200663,
     "status": "ok",
     "timestamp": 1617214812092,
     "user": {
      "displayName": "Raghav Gupta",
      "photoUrl": "https://lh3.googleusercontent.com/a-/AOh14GgorRHrSE1zI37pb0V-75_DSV7fl1tftsSDhWzRKw=s64",
      "userId": "06994152693423055583"
     },
     "user_tz": -330
    },
    "id": "cJ7BpX4hOT8H"
   },
   "outputs": [],
   "source": [
    "#Loan_Amount_Term :- its like categorical variable. so using mode\n",
    "df_test[\"Loan_Amount_Term\"].replace(np.nan,df_test[\"Loan_Amount_Term\"].mode().values[0],inplace=True)"
   ]
  },
  {
   "cell_type": "code",
   "execution_count": 50,
   "metadata": {
    "executionInfo": {
     "elapsed": 200448,
     "status": "ok",
     "timestamp": 1617214812093,
     "user": {
      "displayName": "Raghav Gupta",
      "photoUrl": "https://lh3.googleusercontent.com/a-/AOh14GgorRHrSE1zI37pb0V-75_DSV7fl1tftsSDhWzRKw=s64",
      "userId": "06994152693423055583"
     },
     "user_tz": -330
    },
    "id": "-Q_KfpVSOT8H"
   },
   "outputs": [],
   "source": [
    "df_test[\"Gender\"].replace(np.nan,df_test[\"Gender\"].mode().values[0],inplace=True)"
   ]
  },
  {
   "cell_type": "code",
   "execution_count": 51,
   "metadata": {
    "executionInfo": {
     "elapsed": 200215,
     "status": "ok",
     "timestamp": 1617214812095,
     "user": {
      "displayName": "Raghav Gupta",
      "photoUrl": "https://lh3.googleusercontent.com/a-/AOh14GgorRHrSE1zI37pb0V-75_DSV7fl1tftsSDhWzRKw=s64",
      "userId": "06994152693423055583"
     },
     "user_tz": -330
    },
    "id": "vetPTukKOT8H"
   },
   "outputs": [],
   "source": [
    "df_test[\"Married\"].replace(np.nan,df_test[\"Married\"].mode().values[0],inplace=True)"
   ]
  },
  {
   "cell_type": "code",
   "execution_count": 52,
   "metadata": {
    "colab": {
     "base_uri": "https://localhost:8080/",
     "height": 421
    },
    "executionInfo": {
     "elapsed": 199982,
     "status": "ok",
     "timestamp": 1617214812096,
     "user": {
      "displayName": "Raghav Gupta",
      "photoUrl": "https://lh3.googleusercontent.com/a-/AOh14GgorRHrSE1zI37pb0V-75_DSV7fl1tftsSDhWzRKw=s64",
      "userId": "06994152693423055583"
     },
     "user_tz": -330
    },
    "id": "62ChpPj0OT8I",
    "outputId": "a702d5f9-bda4-4344-9fcd-11ee6642aca8"
   },
   "outputs": [
    {
     "data": {
      "text/html": [
       "<div>\n",
       "<style scoped>\n",
       "    .dataframe tbody tr th:only-of-type {\n",
       "        vertical-align: middle;\n",
       "    }\n",
       "\n",
       "    .dataframe tbody tr th {\n",
       "        vertical-align: top;\n",
       "    }\n",
       "\n",
       "    .dataframe thead th {\n",
       "        text-align: right;\n",
       "    }\n",
       "</style>\n",
       "<table border=\"1\" class=\"dataframe\">\n",
       "  <thead>\n",
       "    <tr style=\"text-align: right;\">\n",
       "      <th></th>\n",
       "      <th>Total</th>\n",
       "      <th>Percent</th>\n",
       "    </tr>\n",
       "  </thead>\n",
       "  <tbody>\n",
       "    <tr>\n",
       "      <th>Loan_ID</th>\n",
       "      <td>0</td>\n",
       "      <td>0.0</td>\n",
       "    </tr>\n",
       "    <tr>\n",
       "      <th>Gender</th>\n",
       "      <td>0</td>\n",
       "      <td>0.0</td>\n",
       "    </tr>\n",
       "    <tr>\n",
       "      <th>Married</th>\n",
       "      <td>0</td>\n",
       "      <td>0.0</td>\n",
       "    </tr>\n",
       "    <tr>\n",
       "      <th>Dependents</th>\n",
       "      <td>0</td>\n",
       "      <td>0.0</td>\n",
       "    </tr>\n",
       "    <tr>\n",
       "      <th>Education</th>\n",
       "      <td>0</td>\n",
       "      <td>0.0</td>\n",
       "    </tr>\n",
       "    <tr>\n",
       "      <th>Self_Employed</th>\n",
       "      <td>0</td>\n",
       "      <td>0.0</td>\n",
       "    </tr>\n",
       "    <tr>\n",
       "      <th>ApplicantIncome</th>\n",
       "      <td>0</td>\n",
       "      <td>0.0</td>\n",
       "    </tr>\n",
       "    <tr>\n",
       "      <th>CoapplicantIncome</th>\n",
       "      <td>0</td>\n",
       "      <td>0.0</td>\n",
       "    </tr>\n",
       "    <tr>\n",
       "      <th>LoanAmount</th>\n",
       "      <td>0</td>\n",
       "      <td>0.0</td>\n",
       "    </tr>\n",
       "    <tr>\n",
       "      <th>Loan_Amount_Term</th>\n",
       "      <td>0</td>\n",
       "      <td>0.0</td>\n",
       "    </tr>\n",
       "    <tr>\n",
       "      <th>Credit_History</th>\n",
       "      <td>0</td>\n",
       "      <td>0.0</td>\n",
       "    </tr>\n",
       "    <tr>\n",
       "      <th>Property_Area</th>\n",
       "      <td>0</td>\n",
       "      <td>0.0</td>\n",
       "    </tr>\n",
       "  </tbody>\n",
       "</table>\n",
       "</div>"
      ],
      "text/plain": [
       "                   Total  Percent\n",
       "Loan_ID                0      0.0\n",
       "Gender                 0      0.0\n",
       "Married                0      0.0\n",
       "Dependents             0      0.0\n",
       "Education              0      0.0\n",
       "Self_Employed          0      0.0\n",
       "ApplicantIncome        0      0.0\n",
       "CoapplicantIncome      0      0.0\n",
       "LoanAmount             0      0.0\n",
       "Loan_Amount_Term       0      0.0\n",
       "Credit_History         0      0.0\n",
       "Property_Area          0      0.0"
      ]
     },
     "execution_count": 52,
     "metadata": {},
     "output_type": "execute_result"
    }
   ],
   "source": [
    "missing_check(df_test)"
   ]
  },
  {
   "cell_type": "markdown",
   "metadata": {
    "id": "D_ieRTNGOT8I"
   },
   "source": [
    "# 2.2 Data Split: Split the data into test and train, build classification model CART, Random Forest, Artificial Neural Network\n"
   ]
  },
  {
   "cell_type": "code",
   "execution_count": 53,
   "metadata": {
    "colab": {
     "base_uri": "https://localhost:8080/",
     "height": 241
    },
    "executionInfo": {
     "elapsed": 199590,
     "status": "ok",
     "timestamp": 1617214812098,
     "user": {
      "displayName": "Raghav Gupta",
      "photoUrl": "https://lh3.googleusercontent.com/a-/AOh14GgorRHrSE1zI37pb0V-75_DSV7fl1tftsSDhWzRKw=s64",
      "userId": "06994152693423055583"
     },
     "user_tz": -330
    },
    "id": "u2XGlyQHOT8J",
    "outputId": "d36e33ed-d5f7-4bbf-d1d3-7af4a585db32"
   },
   "outputs": [
    {
     "data": {
      "text/html": [
       "<div>\n",
       "<style scoped>\n",
       "    .dataframe tbody tr th:only-of-type {\n",
       "        vertical-align: middle;\n",
       "    }\n",
       "\n",
       "    .dataframe tbody tr th {\n",
       "        vertical-align: top;\n",
       "    }\n",
       "\n",
       "    .dataframe thead th {\n",
       "        text-align: right;\n",
       "    }\n",
       "</style>\n",
       "<table border=\"1\" class=\"dataframe\">\n",
       "  <thead>\n",
       "    <tr style=\"text-align: right;\">\n",
       "      <th></th>\n",
       "      <th>Loan_ID</th>\n",
       "      <th>Gender</th>\n",
       "      <th>Married</th>\n",
       "      <th>Dependents</th>\n",
       "      <th>Education</th>\n",
       "      <th>Self_Employed</th>\n",
       "      <th>ApplicantIncome</th>\n",
       "      <th>CoapplicantIncome</th>\n",
       "      <th>LoanAmount</th>\n",
       "      <th>Loan_Amount_Term</th>\n",
       "      <th>Credit_History</th>\n",
       "      <th>Property_Area</th>\n",
       "      <th>Loan_Status</th>\n",
       "    </tr>\n",
       "  </thead>\n",
       "  <tbody>\n",
       "    <tr>\n",
       "      <th>0</th>\n",
       "      <td>LP001002</td>\n",
       "      <td>Male</td>\n",
       "      <td>No</td>\n",
       "      <td>0</td>\n",
       "      <td>Graduate</td>\n",
       "      <td>No</td>\n",
       "      <td>5849</td>\n",
       "      <td>0.0</td>\n",
       "      <td>128.0</td>\n",
       "      <td>360.0</td>\n",
       "      <td>1.0</td>\n",
       "      <td>Urban</td>\n",
       "      <td>Y</td>\n",
       "    </tr>\n",
       "    <tr>\n",
       "      <th>1</th>\n",
       "      <td>LP001003</td>\n",
       "      <td>Male</td>\n",
       "      <td>Yes</td>\n",
       "      <td>1</td>\n",
       "      <td>Graduate</td>\n",
       "      <td>No</td>\n",
       "      <td>4583</td>\n",
       "      <td>1508.0</td>\n",
       "      <td>128.0</td>\n",
       "      <td>360.0</td>\n",
       "      <td>1.0</td>\n",
       "      <td>Rural</td>\n",
       "      <td>N</td>\n",
       "    </tr>\n",
       "    <tr>\n",
       "      <th>2</th>\n",
       "      <td>LP001005</td>\n",
       "      <td>Male</td>\n",
       "      <td>Yes</td>\n",
       "      <td>0</td>\n",
       "      <td>Graduate</td>\n",
       "      <td>Yes</td>\n",
       "      <td>3000</td>\n",
       "      <td>0.0</td>\n",
       "      <td>66.0</td>\n",
       "      <td>360.0</td>\n",
       "      <td>1.0</td>\n",
       "      <td>Urban</td>\n",
       "      <td>Y</td>\n",
       "    </tr>\n",
       "    <tr>\n",
       "      <th>3</th>\n",
       "      <td>LP001006</td>\n",
       "      <td>Male</td>\n",
       "      <td>Yes</td>\n",
       "      <td>0</td>\n",
       "      <td>Not Graduate</td>\n",
       "      <td>No</td>\n",
       "      <td>2583</td>\n",
       "      <td>2358.0</td>\n",
       "      <td>120.0</td>\n",
       "      <td>360.0</td>\n",
       "      <td>1.0</td>\n",
       "      <td>Urban</td>\n",
       "      <td>Y</td>\n",
       "    </tr>\n",
       "    <tr>\n",
       "      <th>4</th>\n",
       "      <td>LP001008</td>\n",
       "      <td>Male</td>\n",
       "      <td>No</td>\n",
       "      <td>0</td>\n",
       "      <td>Graduate</td>\n",
       "      <td>No</td>\n",
       "      <td>6000</td>\n",
       "      <td>0.0</td>\n",
       "      <td>141.0</td>\n",
       "      <td>360.0</td>\n",
       "      <td>1.0</td>\n",
       "      <td>Urban</td>\n",
       "      <td>Y</td>\n",
       "    </tr>\n",
       "  </tbody>\n",
       "</table>\n",
       "</div>"
      ],
      "text/plain": [
       "    Loan_ID Gender Married Dependents     Education Self_Employed  \\\n",
       "0  LP001002   Male      No          0      Graduate            No   \n",
       "1  LP001003   Male     Yes          1      Graduate            No   \n",
       "2  LP001005   Male     Yes          0      Graduate           Yes   \n",
       "3  LP001006   Male     Yes          0  Not Graduate            No   \n",
       "4  LP001008   Male      No          0      Graduate            No   \n",
       "\n",
       "   ApplicantIncome  CoapplicantIncome  LoanAmount  Loan_Amount_Term  \\\n",
       "0             5849                0.0       128.0             360.0   \n",
       "1             4583             1508.0       128.0             360.0   \n",
       "2             3000                0.0        66.0             360.0   \n",
       "3             2583             2358.0       120.0             360.0   \n",
       "4             6000                0.0       141.0             360.0   \n",
       "\n",
       "   Credit_History Property_Area Loan_Status  \n",
       "0             1.0         Urban           Y  \n",
       "1             1.0         Rural           N  \n",
       "2             1.0         Urban           Y  \n",
       "3             1.0         Urban           Y  \n",
       "4             1.0         Urban           Y  "
      ]
     },
     "execution_count": 53,
     "metadata": {},
     "output_type": "execute_result"
    }
   ],
   "source": [
    "# taking a backup of df2 dataframe\n",
    "df_train_bkp = df_train.copy(deep=True)\n",
    "df_train_bkp.head()"
   ]
  },
  {
   "cell_type": "code",
   "execution_count": 54,
   "metadata": {
    "colab": {
     "base_uri": "https://localhost:8080/",
     "height": 241
    },
    "executionInfo": {
     "elapsed": 199274,
     "status": "ok",
     "timestamp": 1617214812100,
     "user": {
      "displayName": "Raghav Gupta",
      "photoUrl": "https://lh3.googleusercontent.com/a-/AOh14GgorRHrSE1zI37pb0V-75_DSV7fl1tftsSDhWzRKw=s64",
      "userId": "06994152693423055583"
     },
     "user_tz": -330
    },
    "id": "hMaIsAYBOT8K",
    "outputId": "4ded8099-f537-4f93-a171-b8bd374575b4"
   },
   "outputs": [
    {
     "data": {
      "text/html": [
       "<div>\n",
       "<style scoped>\n",
       "    .dataframe tbody tr th:only-of-type {\n",
       "        vertical-align: middle;\n",
       "    }\n",
       "\n",
       "    .dataframe tbody tr th {\n",
       "        vertical-align: top;\n",
       "    }\n",
       "\n",
       "    .dataframe thead th {\n",
       "        text-align: right;\n",
       "    }\n",
       "</style>\n",
       "<table border=\"1\" class=\"dataframe\">\n",
       "  <thead>\n",
       "    <tr style=\"text-align: right;\">\n",
       "      <th></th>\n",
       "      <th>Loan_ID</th>\n",
       "      <th>Gender</th>\n",
       "      <th>Married</th>\n",
       "      <th>Dependents</th>\n",
       "      <th>Education</th>\n",
       "      <th>Self_Employed</th>\n",
       "      <th>ApplicantIncome</th>\n",
       "      <th>CoapplicantIncome</th>\n",
       "      <th>LoanAmount</th>\n",
       "      <th>Loan_Amount_Term</th>\n",
       "      <th>Credit_History</th>\n",
       "      <th>Property_Area</th>\n",
       "    </tr>\n",
       "  </thead>\n",
       "  <tbody>\n",
       "    <tr>\n",
       "      <th>0</th>\n",
       "      <td>LP001015</td>\n",
       "      <td>Male</td>\n",
       "      <td>Yes</td>\n",
       "      <td>0</td>\n",
       "      <td>Graduate</td>\n",
       "      <td>No</td>\n",
       "      <td>5720</td>\n",
       "      <td>0</td>\n",
       "      <td>110.0</td>\n",
       "      <td>360.0</td>\n",
       "      <td>1.0</td>\n",
       "      <td>Urban</td>\n",
       "    </tr>\n",
       "    <tr>\n",
       "      <th>1</th>\n",
       "      <td>LP001022</td>\n",
       "      <td>Male</td>\n",
       "      <td>Yes</td>\n",
       "      <td>1</td>\n",
       "      <td>Graduate</td>\n",
       "      <td>No</td>\n",
       "      <td>3076</td>\n",
       "      <td>1500</td>\n",
       "      <td>126.0</td>\n",
       "      <td>360.0</td>\n",
       "      <td>1.0</td>\n",
       "      <td>Urban</td>\n",
       "    </tr>\n",
       "    <tr>\n",
       "      <th>2</th>\n",
       "      <td>LP001031</td>\n",
       "      <td>Male</td>\n",
       "      <td>Yes</td>\n",
       "      <td>2</td>\n",
       "      <td>Graduate</td>\n",
       "      <td>No</td>\n",
       "      <td>5000</td>\n",
       "      <td>1800</td>\n",
       "      <td>208.0</td>\n",
       "      <td>360.0</td>\n",
       "      <td>1.0</td>\n",
       "      <td>Urban</td>\n",
       "    </tr>\n",
       "    <tr>\n",
       "      <th>3</th>\n",
       "      <td>LP001035</td>\n",
       "      <td>Male</td>\n",
       "      <td>Yes</td>\n",
       "      <td>2</td>\n",
       "      <td>Graduate</td>\n",
       "      <td>No</td>\n",
       "      <td>2340</td>\n",
       "      <td>2546</td>\n",
       "      <td>100.0</td>\n",
       "      <td>360.0</td>\n",
       "      <td>1.0</td>\n",
       "      <td>Urban</td>\n",
       "    </tr>\n",
       "    <tr>\n",
       "      <th>4</th>\n",
       "      <td>LP001051</td>\n",
       "      <td>Male</td>\n",
       "      <td>No</td>\n",
       "      <td>0</td>\n",
       "      <td>Not Graduate</td>\n",
       "      <td>No</td>\n",
       "      <td>3276</td>\n",
       "      <td>0</td>\n",
       "      <td>78.0</td>\n",
       "      <td>360.0</td>\n",
       "      <td>1.0</td>\n",
       "      <td>Urban</td>\n",
       "    </tr>\n",
       "  </tbody>\n",
       "</table>\n",
       "</div>"
      ],
      "text/plain": [
       "    Loan_ID Gender Married Dependents     Education Self_Employed  \\\n",
       "0  LP001015   Male     Yes          0      Graduate            No   \n",
       "1  LP001022   Male     Yes          1      Graduate            No   \n",
       "2  LP001031   Male     Yes          2      Graduate            No   \n",
       "3  LP001035   Male     Yes          2      Graduate            No   \n",
       "4  LP001051   Male      No          0  Not Graduate            No   \n",
       "\n",
       "   ApplicantIncome  CoapplicantIncome  LoanAmount  Loan_Amount_Term  \\\n",
       "0             5720                  0       110.0             360.0   \n",
       "1             3076               1500       126.0             360.0   \n",
       "2             5000               1800       208.0             360.0   \n",
       "3             2340               2546       100.0             360.0   \n",
       "4             3276                  0        78.0             360.0   \n",
       "\n",
       "   Credit_History Property_Area  \n",
       "0             1.0         Urban  \n",
       "1             1.0         Urban  \n",
       "2             1.0         Urban  \n",
       "3             1.0         Urban  \n",
       "4             1.0         Urban  "
      ]
     },
     "execution_count": 54,
     "metadata": {},
     "output_type": "execute_result"
    }
   ],
   "source": [
    "df_test_bkp = df_test.copy(deep=True)\n",
    "df_test_bkp.head()"
   ]
  },
  {
   "cell_type": "code",
   "execution_count": 55,
   "metadata": {
    "colab": {
     "base_uri": "https://localhost:8080/",
     "height": 241
    },
    "executionInfo": {
     "elapsed": 199169,
     "status": "ok",
     "timestamp": 1617214812101,
     "user": {
      "displayName": "Raghav Gupta",
      "photoUrl": "https://lh3.googleusercontent.com/a-/AOh14GgorRHrSE1zI37pb0V-75_DSV7fl1tftsSDhWzRKw=s64",
      "userId": "06994152693423055583"
     },
     "user_tz": -330
    },
    "id": "uNfgWi4gOT8K",
    "outputId": "96ec8e9c-6ae2-44a8-d0b2-d9defec9b656"
   },
   "outputs": [
    {
     "data": {
      "text/html": [
       "<div>\n",
       "<style scoped>\n",
       "    .dataframe tbody tr th:only-of-type {\n",
       "        vertical-align: middle;\n",
       "    }\n",
       "\n",
       "    .dataframe tbody tr th {\n",
       "        vertical-align: top;\n",
       "    }\n",
       "\n",
       "    .dataframe thead th {\n",
       "        text-align: right;\n",
       "    }\n",
       "</style>\n",
       "<table border=\"1\" class=\"dataframe\">\n",
       "  <thead>\n",
       "    <tr style=\"text-align: right;\">\n",
       "      <th></th>\n",
       "      <th>Loan_ID</th>\n",
       "      <th>Gender</th>\n",
       "      <th>Married</th>\n",
       "      <th>Dependents</th>\n",
       "      <th>Education</th>\n",
       "      <th>Self_Employed</th>\n",
       "      <th>ApplicantIncome</th>\n",
       "      <th>CoapplicantIncome</th>\n",
       "      <th>LoanAmount</th>\n",
       "      <th>Loan_Amount_Term</th>\n",
       "      <th>Credit_History</th>\n",
       "      <th>Property_Area</th>\n",
       "    </tr>\n",
       "  </thead>\n",
       "  <tbody>\n",
       "    <tr>\n",
       "      <th>0</th>\n",
       "      <td>LP001015</td>\n",
       "      <td>Male</td>\n",
       "      <td>Yes</td>\n",
       "      <td>0</td>\n",
       "      <td>Graduate</td>\n",
       "      <td>No</td>\n",
       "      <td>5720</td>\n",
       "      <td>0</td>\n",
       "      <td>110.0</td>\n",
       "      <td>360.0</td>\n",
       "      <td>1.0</td>\n",
       "      <td>Urban</td>\n",
       "    </tr>\n",
       "    <tr>\n",
       "      <th>1</th>\n",
       "      <td>LP001022</td>\n",
       "      <td>Male</td>\n",
       "      <td>Yes</td>\n",
       "      <td>1</td>\n",
       "      <td>Graduate</td>\n",
       "      <td>No</td>\n",
       "      <td>3076</td>\n",
       "      <td>1500</td>\n",
       "      <td>126.0</td>\n",
       "      <td>360.0</td>\n",
       "      <td>1.0</td>\n",
       "      <td>Urban</td>\n",
       "    </tr>\n",
       "    <tr>\n",
       "      <th>2</th>\n",
       "      <td>LP001031</td>\n",
       "      <td>Male</td>\n",
       "      <td>Yes</td>\n",
       "      <td>2</td>\n",
       "      <td>Graduate</td>\n",
       "      <td>No</td>\n",
       "      <td>5000</td>\n",
       "      <td>1800</td>\n",
       "      <td>208.0</td>\n",
       "      <td>360.0</td>\n",
       "      <td>1.0</td>\n",
       "      <td>Urban</td>\n",
       "    </tr>\n",
       "    <tr>\n",
       "      <th>3</th>\n",
       "      <td>LP001035</td>\n",
       "      <td>Male</td>\n",
       "      <td>Yes</td>\n",
       "      <td>2</td>\n",
       "      <td>Graduate</td>\n",
       "      <td>No</td>\n",
       "      <td>2340</td>\n",
       "      <td>2546</td>\n",
       "      <td>100.0</td>\n",
       "      <td>360.0</td>\n",
       "      <td>1.0</td>\n",
       "      <td>Urban</td>\n",
       "    </tr>\n",
       "    <tr>\n",
       "      <th>4</th>\n",
       "      <td>LP001051</td>\n",
       "      <td>Male</td>\n",
       "      <td>No</td>\n",
       "      <td>0</td>\n",
       "      <td>Not Graduate</td>\n",
       "      <td>No</td>\n",
       "      <td>3276</td>\n",
       "      <td>0</td>\n",
       "      <td>78.0</td>\n",
       "      <td>360.0</td>\n",
       "      <td>1.0</td>\n",
       "      <td>Urban</td>\n",
       "    </tr>\n",
       "  </tbody>\n",
       "</table>\n",
       "</div>"
      ],
      "text/plain": [
       "    Loan_ID Gender Married Dependents     Education Self_Employed  \\\n",
       "0  LP001015   Male     Yes          0      Graduate            No   \n",
       "1  LP001022   Male     Yes          1      Graduate            No   \n",
       "2  LP001031   Male     Yes          2      Graduate            No   \n",
       "3  LP001035   Male     Yes          2      Graduate            No   \n",
       "4  LP001051   Male      No          0  Not Graduate            No   \n",
       "\n",
       "   ApplicantIncome  CoapplicantIncome  LoanAmount  Loan_Amount_Term  \\\n",
       "0             5720                  0       110.0             360.0   \n",
       "1             3076               1500       126.0             360.0   \n",
       "2             5000               1800       208.0             360.0   \n",
       "3             2340               2546       100.0             360.0   \n",
       "4             3276                  0        78.0             360.0   \n",
       "\n",
       "   Credit_History Property_Area  \n",
       "0             1.0         Urban  \n",
       "1             1.0         Urban  \n",
       "2             1.0         Urban  \n",
       "3             1.0         Urban  \n",
       "4             1.0         Urban  "
      ]
     },
     "execution_count": 55,
     "metadata": {},
     "output_type": "execute_result"
    }
   ],
   "source": [
    "df_test_bkp.head()"
   ]
  },
  {
   "cell_type": "markdown",
   "metadata": {
    "id": "dp3b2azGOT8Q"
   },
   "source": [
    "## Converting Object into int\n",
    "Decision tree in Python can take only numerical / categorical colums. It cannot take string / object types."
   ]
  },
  {
   "cell_type": "code",
   "execution_count": 56,
   "metadata": {
    "colab": {
     "base_uri": "https://localhost:8080/"
    },
    "executionInfo": {
     "elapsed": 198813,
     "status": "ok",
     "timestamp": 1617214812104,
     "user": {
      "displayName": "Raghav Gupta",
      "photoUrl": "https://lh3.googleusercontent.com/a-/AOh14GgorRHrSE1zI37pb0V-75_DSV7fl1tftsSDhWzRKw=s64",
      "userId": "06994152693423055583"
     },
     "user_tz": -330
    },
    "id": "qEZ4ZOwTOT8R",
    "outputId": "7ef490e8-9ba0-44da-aa41-901a12bf9851"
   },
   "outputs": [
    {
     "name": "stdout",
     "output_type": "stream",
     "text": [
      "feature: Gender ,dtype: object\n",
      "feature: Married ,dtype: object\n",
      "feature: Dependents ,dtype: object\n",
      "feature: Education ,dtype: object\n",
      "feature: Self_Employed ,dtype: object\n",
      "feature: ApplicantIncome ,dtype: int64\n",
      "feature: CoapplicantIncome ,dtype: float64\n",
      "feature: LoanAmount ,dtype: float64\n",
      "feature: Loan_Amount_Term ,dtype: float64\n",
      "feature: Credit_History ,dtype: float64\n",
      "feature: Property_Area ,dtype: object\n",
      "feature: Loan_Status ,dtype: object\n"
     ]
    }
   ],
   "source": [
    "col_name =[] \n",
    "act_val = []\n",
    "coded_val = []\n",
    "for feature in df_train.drop([\"Loan_ID\"], axis=1).columns: \n",
    "    print ('feature:',feature,',dtype:',df_train[feature].dtype)\n",
    "    if df_train[feature].dtype == 'object' :\n",
    "        i=0\n",
    "        while (i<pd.Categorical(df_train[feature].unique()).size):           \n",
    "            act_val.append(df_train[feature].unique()[i])\n",
    "            coded_val.append(str(pd.Categorical(df_train[feature].unique()).codes[i]))\n",
    "            col_name.append(feature)\n",
    "            i=i+1\n",
    "        df_train[feature] = pd.Categorical(df_train[feature]).codes\n",
    "\n"
   ]
  },
  {
   "cell_type": "code",
   "execution_count": 57,
   "metadata": {
    "colab": {
     "base_uri": "https://localhost:8080/",
     "height": 576
    },
    "executionInfo": {
     "elapsed": 198554,
     "status": "ok",
     "timestamp": 1617214812110,
     "user": {
      "displayName": "Raghav Gupta",
      "photoUrl": "https://lh3.googleusercontent.com/a-/AOh14GgorRHrSE1zI37pb0V-75_DSV7fl1tftsSDhWzRKw=s64",
      "userId": "06994152693423055583"
     },
     "user_tz": -330
    },
    "id": "PlZZzpqaOT8R",
    "outputId": "eab8e824-872b-420e-e66e-800e65cee283"
   },
   "outputs": [
    {
     "data": {
      "text/html": [
       "<div>\n",
       "<style scoped>\n",
       "    .dataframe tbody tr th:only-of-type {\n",
       "        vertical-align: middle;\n",
       "    }\n",
       "\n",
       "    .dataframe tbody tr th {\n",
       "        vertical-align: top;\n",
       "    }\n",
       "\n",
       "    .dataframe thead th {\n",
       "        text-align: right;\n",
       "    }\n",
       "</style>\n",
       "<table border=\"1\" class=\"dataframe\">\n",
       "  <thead>\n",
       "    <tr style=\"text-align: right;\">\n",
       "      <th></th>\n",
       "      <th>col_name</th>\n",
       "      <th>actual_value</th>\n",
       "      <th>coded_value</th>\n",
       "    </tr>\n",
       "  </thead>\n",
       "  <tbody>\n",
       "    <tr>\n",
       "      <th>4</th>\n",
       "      <td>Dependents</td>\n",
       "      <td>0</td>\n",
       "      <td>0</td>\n",
       "    </tr>\n",
       "    <tr>\n",
       "      <th>5</th>\n",
       "      <td>Dependents</td>\n",
       "      <td>1</td>\n",
       "      <td>1</td>\n",
       "    </tr>\n",
       "    <tr>\n",
       "      <th>6</th>\n",
       "      <td>Dependents</td>\n",
       "      <td>2</td>\n",
       "      <td>2</td>\n",
       "    </tr>\n",
       "    <tr>\n",
       "      <th>7</th>\n",
       "      <td>Dependents</td>\n",
       "      <td>3+</td>\n",
       "      <td>3</td>\n",
       "    </tr>\n",
       "    <tr>\n",
       "      <th>8</th>\n",
       "      <td>Education</td>\n",
       "      <td>Graduate</td>\n",
       "      <td>0</td>\n",
       "    </tr>\n",
       "    <tr>\n",
       "      <th>9</th>\n",
       "      <td>Education</td>\n",
       "      <td>Not Graduate</td>\n",
       "      <td>1</td>\n",
       "    </tr>\n",
       "    <tr>\n",
       "      <th>1</th>\n",
       "      <td>Gender</td>\n",
       "      <td>Female</td>\n",
       "      <td>0</td>\n",
       "    </tr>\n",
       "    <tr>\n",
       "      <th>0</th>\n",
       "      <td>Gender</td>\n",
       "      <td>Male</td>\n",
       "      <td>1</td>\n",
       "    </tr>\n",
       "    <tr>\n",
       "      <th>16</th>\n",
       "      <td>Loan_Status</td>\n",
       "      <td>N</td>\n",
       "      <td>0</td>\n",
       "    </tr>\n",
       "    <tr>\n",
       "      <th>15</th>\n",
       "      <td>Loan_Status</td>\n",
       "      <td>Y</td>\n",
       "      <td>1</td>\n",
       "    </tr>\n",
       "    <tr>\n",
       "      <th>2</th>\n",
       "      <td>Married</td>\n",
       "      <td>No</td>\n",
       "      <td>0</td>\n",
       "    </tr>\n",
       "    <tr>\n",
       "      <th>3</th>\n",
       "      <td>Married</td>\n",
       "      <td>Yes</td>\n",
       "      <td>1</td>\n",
       "    </tr>\n",
       "    <tr>\n",
       "      <th>13</th>\n",
       "      <td>Property_Area</td>\n",
       "      <td>Rural</td>\n",
       "      <td>0</td>\n",
       "    </tr>\n",
       "    <tr>\n",
       "      <th>14</th>\n",
       "      <td>Property_Area</td>\n",
       "      <td>Semiurban</td>\n",
       "      <td>1</td>\n",
       "    </tr>\n",
       "    <tr>\n",
       "      <th>12</th>\n",
       "      <td>Property_Area</td>\n",
       "      <td>Urban</td>\n",
       "      <td>2</td>\n",
       "    </tr>\n",
       "    <tr>\n",
       "      <th>10</th>\n",
       "      <td>Self_Employed</td>\n",
       "      <td>No</td>\n",
       "      <td>0</td>\n",
       "    </tr>\n",
       "    <tr>\n",
       "      <th>11</th>\n",
       "      <td>Self_Employed</td>\n",
       "      <td>Yes</td>\n",
       "      <td>1</td>\n",
       "    </tr>\n",
       "  </tbody>\n",
       "</table>\n",
       "</div>"
      ],
      "text/plain": [
       "         col_name  actual_value coded_value\n",
       "4      Dependents             0           0\n",
       "5      Dependents             1           1\n",
       "6      Dependents             2           2\n",
       "7      Dependents            3+           3\n",
       "8       Education      Graduate           0\n",
       "9       Education  Not Graduate           1\n",
       "1          Gender        Female           0\n",
       "0          Gender          Male           1\n",
       "16    Loan_Status             N           0\n",
       "15    Loan_Status             Y           1\n",
       "2         Married            No           0\n",
       "3         Married           Yes           1\n",
       "13  Property_Area         Rural           0\n",
       "14  Property_Area     Semiurban           1\n",
       "12  Property_Area         Urban           2\n",
       "10  Self_Employed            No           0\n",
       "11  Self_Employed           Yes           1"
      ]
     },
     "execution_count": 57,
     "metadata": {},
     "output_type": "execute_result"
    }
   ],
   "source": [
    "# creating a dataframe showing the mapping for future reference        \n",
    "data = {\"col_name\": col_name, \n",
    "        \"actual_value\": act_val, \n",
    "        \"coded_value\": coded_val} \n",
    "  \n",
    "df_train_map = pd.DataFrame(data)\n",
    "df_train_map.sort_values(by=['col_name', 'coded_value'])\n"
   ]
  },
  {
   "cell_type": "code",
   "execution_count": 58,
   "metadata": {
    "colab": {
     "base_uri": "https://localhost:8080/"
    },
    "executionInfo": {
     "elapsed": 198412,
     "status": "ok",
     "timestamp": 1617214812112,
     "user": {
      "displayName": "Raghav Gupta",
      "photoUrl": "https://lh3.googleusercontent.com/a-/AOh14GgorRHrSE1zI37pb0V-75_DSV7fl1tftsSDhWzRKw=s64",
      "userId": "06994152693423055583"
     },
     "user_tz": -330
    },
    "id": "aXBZY8RzOT8S",
    "outputId": "122e802c-f34c-4a17-c452-e0bcd39fbe4a"
   },
   "outputs": [
    {
     "data": {
      "text/plain": [
       "Dependents       4\n",
       "Property_Area    3\n",
       "Self_Employed    2\n",
       "Loan_Status      2\n",
       "Education        2\n",
       "Gender           2\n",
       "Married          2\n",
       "Name: col_name, dtype: int64"
      ]
     },
     "execution_count": 58,
     "metadata": {},
     "output_type": "execute_result"
    }
   ],
   "source": [
    "df_train_map.col_name.value_counts()"
   ]
  },
  {
   "cell_type": "code",
   "execution_count": 59,
   "metadata": {
    "colab": {
     "base_uri": "https://localhost:8080/"
    },
    "executionInfo": {
     "elapsed": 198138,
     "status": "ok",
     "timestamp": 1617214812113,
     "user": {
      "displayName": "Raghav Gupta",
      "photoUrl": "https://lh3.googleusercontent.com/a-/AOh14GgorRHrSE1zI37pb0V-75_DSV7fl1tftsSDhWzRKw=s64",
      "userId": "06994152693423055583"
     },
     "user_tz": -330
    },
    "id": "JcK3kjNgOT8S",
    "outputId": "2cfee71b-b21f-40a5-af3d-e4f0f17d6c4a"
   },
   "outputs": [
    {
     "name": "stdout",
     "output_type": "stream",
     "text": [
      "feature: Gender ,dtype: int8\n",
      "feature: Married ,dtype: int8\n",
      "feature: Dependents ,dtype: int8\n",
      "feature: Education ,dtype: int8\n",
      "feature: Self_Employed ,dtype: int8\n",
      "feature: ApplicantIncome ,dtype: int64\n",
      "feature: CoapplicantIncome ,dtype: float64\n",
      "feature: LoanAmount ,dtype: float64\n",
      "feature: Loan_Amount_Term ,dtype: float64\n",
      "feature: Credit_History ,dtype: float64\n",
      "feature: Property_Area ,dtype: int8\n"
     ]
    }
   ],
   "source": [
    "col_name =[] \n",
    "act_val = []\n",
    "coded_val = []\n",
    "for feature in df_test.drop([\"Loan_ID\"], axis=1).columns: \n",
    "    print ('feature:',feature,',dtype:',df_train[feature].dtype)        \n",
    "    if df_test[feature].dtype == 'object':    \n",
    "        i=0\n",
    "        while (i<pd.Categorical(df_test[feature].unique()).size):           \n",
    "            act_val.append(df_test[feature].unique()[i])\n",
    "            coded_val.append(str(pd.Categorical(df_test[feature].unique()).codes[i]))\n",
    "            col_name.append(feature)\n",
    "            i=i+1\n",
    "        df_test[feature] = pd.Categorical(df_test[feature]).codes\n",
    "\n"
   ]
  },
  {
   "cell_type": "code",
   "execution_count": 60,
   "metadata": {
    "colab": {
     "base_uri": "https://localhost:8080/",
     "height": 514
    },
    "executionInfo": {
     "elapsed": 197963,
     "status": "ok",
     "timestamp": 1617214812115,
     "user": {
      "displayName": "Raghav Gupta",
      "photoUrl": "https://lh3.googleusercontent.com/a-/AOh14GgorRHrSE1zI37pb0V-75_DSV7fl1tftsSDhWzRKw=s64",
      "userId": "06994152693423055583"
     },
     "user_tz": -330
    },
    "id": "ydIsNq9jOT8T",
    "outputId": "74bf9404-e63e-4bc2-eaf6-dbeeff05135f"
   },
   "outputs": [
    {
     "data": {
      "text/html": [
       "<div>\n",
       "<style scoped>\n",
       "    .dataframe tbody tr th:only-of-type {\n",
       "        vertical-align: middle;\n",
       "    }\n",
       "\n",
       "    .dataframe tbody tr th {\n",
       "        vertical-align: top;\n",
       "    }\n",
       "\n",
       "    .dataframe thead th {\n",
       "        text-align: right;\n",
       "    }\n",
       "</style>\n",
       "<table border=\"1\" class=\"dataframe\">\n",
       "  <thead>\n",
       "    <tr style=\"text-align: right;\">\n",
       "      <th></th>\n",
       "      <th>col_name</th>\n",
       "      <th>actual_value</th>\n",
       "      <th>coded_value</th>\n",
       "    </tr>\n",
       "  </thead>\n",
       "  <tbody>\n",
       "    <tr>\n",
       "      <th>4</th>\n",
       "      <td>Dependents</td>\n",
       "      <td>0</td>\n",
       "      <td>0</td>\n",
       "    </tr>\n",
       "    <tr>\n",
       "      <th>5</th>\n",
       "      <td>Dependents</td>\n",
       "      <td>1</td>\n",
       "      <td>1</td>\n",
       "    </tr>\n",
       "    <tr>\n",
       "      <th>6</th>\n",
       "      <td>Dependents</td>\n",
       "      <td>2</td>\n",
       "      <td>2</td>\n",
       "    </tr>\n",
       "    <tr>\n",
       "      <th>7</th>\n",
       "      <td>Dependents</td>\n",
       "      <td>3+</td>\n",
       "      <td>3</td>\n",
       "    </tr>\n",
       "    <tr>\n",
       "      <th>8</th>\n",
       "      <td>Education</td>\n",
       "      <td>Graduate</td>\n",
       "      <td>0</td>\n",
       "    </tr>\n",
       "    <tr>\n",
       "      <th>9</th>\n",
       "      <td>Education</td>\n",
       "      <td>Not Graduate</td>\n",
       "      <td>1</td>\n",
       "    </tr>\n",
       "    <tr>\n",
       "      <th>1</th>\n",
       "      <td>Gender</td>\n",
       "      <td>Female</td>\n",
       "      <td>0</td>\n",
       "    </tr>\n",
       "    <tr>\n",
       "      <th>0</th>\n",
       "      <td>Gender</td>\n",
       "      <td>Male</td>\n",
       "      <td>1</td>\n",
       "    </tr>\n",
       "    <tr>\n",
       "      <th>3</th>\n",
       "      <td>Married</td>\n",
       "      <td>No</td>\n",
       "      <td>0</td>\n",
       "    </tr>\n",
       "    <tr>\n",
       "      <th>2</th>\n",
       "      <td>Married</td>\n",
       "      <td>Yes</td>\n",
       "      <td>1</td>\n",
       "    </tr>\n",
       "    <tr>\n",
       "      <th>14</th>\n",
       "      <td>Property_Area</td>\n",
       "      <td>Rural</td>\n",
       "      <td>0</td>\n",
       "    </tr>\n",
       "    <tr>\n",
       "      <th>13</th>\n",
       "      <td>Property_Area</td>\n",
       "      <td>Semiurban</td>\n",
       "      <td>1</td>\n",
       "    </tr>\n",
       "    <tr>\n",
       "      <th>12</th>\n",
       "      <td>Property_Area</td>\n",
       "      <td>Urban</td>\n",
       "      <td>2</td>\n",
       "    </tr>\n",
       "    <tr>\n",
       "      <th>10</th>\n",
       "      <td>Self_Employed</td>\n",
       "      <td>No</td>\n",
       "      <td>0</td>\n",
       "    </tr>\n",
       "    <tr>\n",
       "      <th>11</th>\n",
       "      <td>Self_Employed</td>\n",
       "      <td>Yes</td>\n",
       "      <td>1</td>\n",
       "    </tr>\n",
       "  </tbody>\n",
       "</table>\n",
       "</div>"
      ],
      "text/plain": [
       "         col_name  actual_value coded_value\n",
       "4      Dependents             0           0\n",
       "5      Dependents             1           1\n",
       "6      Dependents             2           2\n",
       "7      Dependents            3+           3\n",
       "8       Education      Graduate           0\n",
       "9       Education  Not Graduate           1\n",
       "1          Gender        Female           0\n",
       "0          Gender          Male           1\n",
       "3         Married            No           0\n",
       "2         Married           Yes           1\n",
       "14  Property_Area         Rural           0\n",
       "13  Property_Area     Semiurban           1\n",
       "12  Property_Area         Urban           2\n",
       "10  Self_Employed            No           0\n",
       "11  Self_Employed           Yes           1"
      ]
     },
     "execution_count": 60,
     "metadata": {},
     "output_type": "execute_result"
    }
   ],
   "source": [
    "# creating a dataframe showing the mapping for future reference        \n",
    "data = {\"col_name\": col_name, \n",
    "        \"actual_value\": act_val, \n",
    "        \"coded_value\": coded_val} \n",
    "  \n",
    "df_test_map = pd.DataFrame(data)\n",
    "df_test_map.sort_values(by=['col_name', 'coded_value'])\n"
   ]
  },
  {
   "cell_type": "code",
   "execution_count": 61,
   "metadata": {
    "colab": {
     "base_uri": "https://localhost:8080/"
    },
    "executionInfo": {
     "elapsed": 197747,
     "status": "ok",
     "timestamp": 1617214812117,
     "user": {
      "displayName": "Raghav Gupta",
      "photoUrl": "https://lh3.googleusercontent.com/a-/AOh14GgorRHrSE1zI37pb0V-75_DSV7fl1tftsSDhWzRKw=s64",
      "userId": "06994152693423055583"
     },
     "user_tz": -330
    },
    "id": "JYf5_Lz2OT8T",
    "outputId": "e8781678-a7cd-4a63-a4d2-7b57f8ae40f7"
   },
   "outputs": [
    {
     "name": "stdout",
     "output_type": "stream",
     "text": [
      "Proportion of Gender (in %)\n",
      "1    82.0\n",
      "0    18.0\n",
      "\n",
      "\n",
      "Proportion of Married (in %)\n",
      "1    65.0\n",
      "0    35.0\n",
      "\n",
      "\n",
      "Proportion of Dependents (in %)\n",
      "0    59.0\n",
      "1    17.0\n",
      "2    16.0\n",
      "3     8.0\n",
      "\n",
      "\n",
      "Proportion of Education (in %)\n",
      "0    78.0\n",
      "1    22.0\n",
      "\n",
      "\n",
      "Proportion of Self_Employed (in %)\n",
      "0    87.0\n",
      "1    13.0\n",
      "\n",
      "\n",
      "Proportion of Property_Area (in %)\n",
      "1    38.0\n",
      "2    33.0\n",
      "0    29.0\n",
      "\n",
      "\n",
      "Proportion of Loan_Status (in %)\n",
      "1    69.0\n",
      "0    31.0\n",
      "\n",
      "\n"
     ]
    }
   ],
   "source": [
    "for col in df_train_map[\"col_name\"].unique() :\n",
    "        print (\"Proportion of\", col, \"(in %)\")\n",
    "        print ((df_train[col].value_counts(normalize=True).round(2)*100).to_string())\n",
    "        print (\"\\n\")\n"
   ]
  },
  {
   "cell_type": "code",
   "execution_count": 62,
   "metadata": {
    "colab": {
     "base_uri": "https://localhost:8080/"
    },
    "executionInfo": {
     "elapsed": 197527,
     "status": "ok",
     "timestamp": 1617214812119,
     "user": {
      "displayName": "Raghav Gupta",
      "photoUrl": "https://lh3.googleusercontent.com/a-/AOh14GgorRHrSE1zI37pb0V-75_DSV7fl1tftsSDhWzRKw=s64",
      "userId": "06994152693423055583"
     },
     "user_tz": -330
    },
    "id": "fl8LiRQeOT8U",
    "outputId": "b9e0ddbe-ab74-4be3-ec1b-6890f3f59d86"
   },
   "outputs": [
    {
     "name": "stdout",
     "output_type": "stream",
     "text": [
      "Proportion of Gender (in %)\n",
      "1    81.0\n",
      "0    19.0\n",
      "\n",
      "\n",
      "Proportion of Married (in %)\n",
      "1    63.0\n",
      "0    37.0\n",
      "\n",
      "\n",
      "Proportion of Dependents (in %)\n",
      "0    57.0\n",
      "2    16.0\n",
      "1    16.0\n",
      "3    11.0\n",
      "\n",
      "\n",
      "Proportion of Education (in %)\n",
      "0    77.0\n",
      "1    23.0\n",
      "\n",
      "\n",
      "Proportion of Self_Employed (in %)\n",
      "0    90.0\n",
      "1    10.0\n",
      "\n",
      "\n",
      "Proportion of Property_Area (in %)\n",
      "2    38.0\n",
      "1    32.0\n",
      "0    30.0\n",
      "\n",
      "\n"
     ]
    }
   ],
   "source": [
    "for col in df_test_map[\"col_name\"].unique() :\n",
    "        print (\"Proportion of\", col, \"(in %)\")\n",
    "        print ((df_test[col].value_counts(normalize=True).round(2)*100).to_string())\n",
    "        print (\"\\n\")\n"
   ]
  },
  {
   "cell_type": "markdown",
   "metadata": {
    "id": "-di7OeR-OT8U"
   },
   "source": [
    "Label Encoding has been done and all columns are converted to number"
   ]
  },
  {
   "cell_type": "markdown",
   "metadata": {
    "id": "dQ3tqiNXOT8U"
   },
   "source": [
    "### Proportion of 1s and 0s in Target Variable"
   ]
  },
  {
   "cell_type": "code",
   "execution_count": 63,
   "metadata": {
    "colab": {
     "base_uri": "https://localhost:8080/"
    },
    "executionInfo": {
     "elapsed": 197009,
     "status": "ok",
     "timestamp": 1617214812123,
     "user": {
      "displayName": "Raghav Gupta",
      "photoUrl": "https://lh3.googleusercontent.com/a-/AOh14GgorRHrSE1zI37pb0V-75_DSV7fl1tftsSDhWzRKw=s64",
      "userId": "06994152693423055583"
     },
     "user_tz": -330
    },
    "id": "a_Amkg6gOT8V",
    "outputId": "7464c2d1-b123-4157-8ba4-7fbc5cef0849"
   },
   "outputs": [
    {
     "data": {
      "text/plain": [
       "1    69.0\n",
       "0    31.0\n",
       "Name: Loan_Status, dtype: float64"
      ]
     },
     "execution_count": 63,
     "metadata": {},
     "output_type": "execute_result"
    }
   ],
   "source": [
    "df_train.Loan_Status.value_counts(normalize=True).round(2)*100"
   ]
  },
  {
   "cell_type": "markdown",
   "metadata": {
    "id": "9E7yNJj0OT8V"
   },
   "source": [
    "This target variable is slightly imbalanced"
   ]
  },
  {
   "cell_type": "markdown",
   "metadata": {
    "id": "0DzImVyrOT8W"
   },
   "source": [
    "## Builing CART Model"
   ]
  },
  {
   "cell_type": "code",
   "execution_count": 64,
   "metadata": {
    "executionInfo": {
     "elapsed": 196359,
     "status": "ok",
     "timestamp": 1617214812125,
     "user": {
      "displayName": "Raghav Gupta",
      "photoUrl": "https://lh3.googleusercontent.com/a-/AOh14GgorRHrSE1zI37pb0V-75_DSV7fl1tftsSDhWzRKw=s64",
      "userId": "06994152693423055583"
     },
     "user_tz": -330
    },
    "id": "n8APGl68OT8W"
   },
   "outputs": [],
   "source": [
    "from sklearn.tree import DecisionTreeClassifier"
   ]
  },
  {
   "cell_type": "markdown",
   "metadata": {
    "id": "bt_2M8VGOT8W"
   },
   "source": [
    "## Extracting the target column into separate vectors for training set and test set"
   ]
  },
  {
   "cell_type": "code",
   "execution_count": 65,
   "metadata": {
    "colab": {
     "base_uri": "https://localhost:8080/",
     "height": 439
    },
    "executionInfo": {
     "elapsed": 195857,
     "status": "ok",
     "timestamp": 1617214812130,
     "user": {
      "displayName": "Raghav Gupta",
      "photoUrl": "https://lh3.googleusercontent.com/a-/AOh14GgorRHrSE1zI37pb0V-75_DSV7fl1tftsSDhWzRKw=s64",
      "userId": "06994152693423055583"
     },
     "user_tz": -330
    },
    "id": "7jirQDLzOT8W",
    "outputId": "5bd16de1-1f5a-49cb-fa7a-ef22b9831c0c",
    "scrolled": true
   },
   "outputs": [
    {
     "data": {
      "text/html": [
       "<div>\n",
       "<style scoped>\n",
       "    .dataframe tbody tr th:only-of-type {\n",
       "        vertical-align: middle;\n",
       "    }\n",
       "\n",
       "    .dataframe tbody tr th {\n",
       "        vertical-align: top;\n",
       "    }\n",
       "\n",
       "    .dataframe thead th {\n",
       "        text-align: right;\n",
       "    }\n",
       "</style>\n",
       "<table border=\"1\" class=\"dataframe\">\n",
       "  <thead>\n",
       "    <tr style=\"text-align: right;\">\n",
       "      <th></th>\n",
       "      <th>Loan_ID</th>\n",
       "      <th>Gender</th>\n",
       "      <th>Married</th>\n",
       "      <th>Dependents</th>\n",
       "      <th>Education</th>\n",
       "      <th>Self_Employed</th>\n",
       "      <th>ApplicantIncome</th>\n",
       "      <th>CoapplicantIncome</th>\n",
       "      <th>LoanAmount</th>\n",
       "      <th>Loan_Amount_Term</th>\n",
       "      <th>Credit_History</th>\n",
       "      <th>Property_Area</th>\n",
       "      <th>Loan_Status</th>\n",
       "    </tr>\n",
       "  </thead>\n",
       "  <tbody>\n",
       "    <tr>\n",
       "      <th>0</th>\n",
       "      <td>LP001002</td>\n",
       "      <td>1</td>\n",
       "      <td>0</td>\n",
       "      <td>0</td>\n",
       "      <td>0</td>\n",
       "      <td>0</td>\n",
       "      <td>5849</td>\n",
       "      <td>0.0</td>\n",
       "      <td>128.0</td>\n",
       "      <td>360.0</td>\n",
       "      <td>1.0</td>\n",
       "      <td>2</td>\n",
       "      <td>1</td>\n",
       "    </tr>\n",
       "    <tr>\n",
       "      <th>1</th>\n",
       "      <td>LP001003</td>\n",
       "      <td>1</td>\n",
       "      <td>1</td>\n",
       "      <td>1</td>\n",
       "      <td>0</td>\n",
       "      <td>0</td>\n",
       "      <td>4583</td>\n",
       "      <td>1508.0</td>\n",
       "      <td>128.0</td>\n",
       "      <td>360.0</td>\n",
       "      <td>1.0</td>\n",
       "      <td>0</td>\n",
       "      <td>0</td>\n",
       "    </tr>\n",
       "    <tr>\n",
       "      <th>2</th>\n",
       "      <td>LP001005</td>\n",
       "      <td>1</td>\n",
       "      <td>1</td>\n",
       "      <td>0</td>\n",
       "      <td>0</td>\n",
       "      <td>1</td>\n",
       "      <td>3000</td>\n",
       "      <td>0.0</td>\n",
       "      <td>66.0</td>\n",
       "      <td>360.0</td>\n",
       "      <td>1.0</td>\n",
       "      <td>2</td>\n",
       "      <td>1</td>\n",
       "    </tr>\n",
       "    <tr>\n",
       "      <th>3</th>\n",
       "      <td>LP001006</td>\n",
       "      <td>1</td>\n",
       "      <td>1</td>\n",
       "      <td>0</td>\n",
       "      <td>1</td>\n",
       "      <td>0</td>\n",
       "      <td>2583</td>\n",
       "      <td>2358.0</td>\n",
       "      <td>120.0</td>\n",
       "      <td>360.0</td>\n",
       "      <td>1.0</td>\n",
       "      <td>2</td>\n",
       "      <td>1</td>\n",
       "    </tr>\n",
       "    <tr>\n",
       "      <th>4</th>\n",
       "      <td>LP001008</td>\n",
       "      <td>1</td>\n",
       "      <td>0</td>\n",
       "      <td>0</td>\n",
       "      <td>0</td>\n",
       "      <td>0</td>\n",
       "      <td>6000</td>\n",
       "      <td>0.0</td>\n",
       "      <td>141.0</td>\n",
       "      <td>360.0</td>\n",
       "      <td>1.0</td>\n",
       "      <td>2</td>\n",
       "      <td>1</td>\n",
       "    </tr>\n",
       "    <tr>\n",
       "      <th>...</th>\n",
       "      <td>...</td>\n",
       "      <td>...</td>\n",
       "      <td>...</td>\n",
       "      <td>...</td>\n",
       "      <td>...</td>\n",
       "      <td>...</td>\n",
       "      <td>...</td>\n",
       "      <td>...</td>\n",
       "      <td>...</td>\n",
       "      <td>...</td>\n",
       "      <td>...</td>\n",
       "      <td>...</td>\n",
       "      <td>...</td>\n",
       "    </tr>\n",
       "    <tr>\n",
       "      <th>609</th>\n",
       "      <td>LP002978</td>\n",
       "      <td>0</td>\n",
       "      <td>0</td>\n",
       "      <td>0</td>\n",
       "      <td>0</td>\n",
       "      <td>0</td>\n",
       "      <td>2900</td>\n",
       "      <td>0.0</td>\n",
       "      <td>71.0</td>\n",
       "      <td>360.0</td>\n",
       "      <td>1.0</td>\n",
       "      <td>0</td>\n",
       "      <td>1</td>\n",
       "    </tr>\n",
       "    <tr>\n",
       "      <th>610</th>\n",
       "      <td>LP002979</td>\n",
       "      <td>1</td>\n",
       "      <td>1</td>\n",
       "      <td>3</td>\n",
       "      <td>0</td>\n",
       "      <td>0</td>\n",
       "      <td>4106</td>\n",
       "      <td>0.0</td>\n",
       "      <td>40.0</td>\n",
       "      <td>180.0</td>\n",
       "      <td>1.0</td>\n",
       "      <td>0</td>\n",
       "      <td>1</td>\n",
       "    </tr>\n",
       "    <tr>\n",
       "      <th>611</th>\n",
       "      <td>LP002983</td>\n",
       "      <td>1</td>\n",
       "      <td>1</td>\n",
       "      <td>1</td>\n",
       "      <td>0</td>\n",
       "      <td>0</td>\n",
       "      <td>8072</td>\n",
       "      <td>240.0</td>\n",
       "      <td>253.0</td>\n",
       "      <td>360.0</td>\n",
       "      <td>1.0</td>\n",
       "      <td>2</td>\n",
       "      <td>1</td>\n",
       "    </tr>\n",
       "    <tr>\n",
       "      <th>612</th>\n",
       "      <td>LP002984</td>\n",
       "      <td>1</td>\n",
       "      <td>1</td>\n",
       "      <td>2</td>\n",
       "      <td>0</td>\n",
       "      <td>0</td>\n",
       "      <td>7583</td>\n",
       "      <td>0.0</td>\n",
       "      <td>187.0</td>\n",
       "      <td>360.0</td>\n",
       "      <td>1.0</td>\n",
       "      <td>2</td>\n",
       "      <td>1</td>\n",
       "    </tr>\n",
       "    <tr>\n",
       "      <th>613</th>\n",
       "      <td>LP002990</td>\n",
       "      <td>0</td>\n",
       "      <td>0</td>\n",
       "      <td>0</td>\n",
       "      <td>0</td>\n",
       "      <td>1</td>\n",
       "      <td>4583</td>\n",
       "      <td>0.0</td>\n",
       "      <td>133.0</td>\n",
       "      <td>360.0</td>\n",
       "      <td>0.0</td>\n",
       "      <td>1</td>\n",
       "      <td>0</td>\n",
       "    </tr>\n",
       "  </tbody>\n",
       "</table>\n",
       "<p>614 rows × 13 columns</p>\n",
       "</div>"
      ],
      "text/plain": [
       "      Loan_ID  Gender  Married  Dependents  Education  Self_Employed  \\\n",
       "0    LP001002       1        0           0          0              0   \n",
       "1    LP001003       1        1           1          0              0   \n",
       "2    LP001005       1        1           0          0              1   \n",
       "3    LP001006       1        1           0          1              0   \n",
       "4    LP001008       1        0           0          0              0   \n",
       "..        ...     ...      ...         ...        ...            ...   \n",
       "609  LP002978       0        0           0          0              0   \n",
       "610  LP002979       1        1           3          0              0   \n",
       "611  LP002983       1        1           1          0              0   \n",
       "612  LP002984       1        1           2          0              0   \n",
       "613  LP002990       0        0           0          0              1   \n",
       "\n",
       "     ApplicantIncome  CoapplicantIncome  LoanAmount  Loan_Amount_Term  \\\n",
       "0               5849                0.0       128.0             360.0   \n",
       "1               4583             1508.0       128.0             360.0   \n",
       "2               3000                0.0        66.0             360.0   \n",
       "3               2583             2358.0       120.0             360.0   \n",
       "4               6000                0.0       141.0             360.0   \n",
       "..               ...                ...         ...               ...   \n",
       "609             2900                0.0        71.0             360.0   \n",
       "610             4106                0.0        40.0             180.0   \n",
       "611             8072              240.0       253.0             360.0   \n",
       "612             7583                0.0       187.0             360.0   \n",
       "613             4583                0.0       133.0             360.0   \n",
       "\n",
       "     Credit_History  Property_Area  Loan_Status  \n",
       "0               1.0              2            1  \n",
       "1               1.0              0            0  \n",
       "2               1.0              2            1  \n",
       "3               1.0              2            1  \n",
       "4               1.0              2            1  \n",
       "..              ...            ...          ...  \n",
       "609             1.0              0            1  \n",
       "610             1.0              0            1  \n",
       "611             1.0              2            1  \n",
       "612             1.0              2            1  \n",
       "613             0.0              1            0  \n",
       "\n",
       "[614 rows x 13 columns]"
      ]
     },
     "execution_count": 65,
     "metadata": {},
     "output_type": "execute_result"
    }
   ],
   "source": [
    "df_train"
   ]
  },
  {
   "cell_type": "code",
   "execution_count": 66,
   "metadata": {
    "colab": {
     "base_uri": "https://localhost:8080/",
     "height": 439
    },
    "executionInfo": {
     "elapsed": 195759,
     "status": "ok",
     "timestamp": 1617214812131,
     "user": {
      "displayName": "Raghav Gupta",
      "photoUrl": "https://lh3.googleusercontent.com/a-/AOh14GgorRHrSE1zI37pb0V-75_DSV7fl1tftsSDhWzRKw=s64",
      "userId": "06994152693423055583"
     },
     "user_tz": -330
    },
    "id": "x1zLDTyUOT8X",
    "outputId": "59c6f7e2-2ac3-49e6-980b-38545181e629"
   },
   "outputs": [
    {
     "data": {
      "text/html": [
       "<div>\n",
       "<style scoped>\n",
       "    .dataframe tbody tr th:only-of-type {\n",
       "        vertical-align: middle;\n",
       "    }\n",
       "\n",
       "    .dataframe tbody tr th {\n",
       "        vertical-align: top;\n",
       "    }\n",
       "\n",
       "    .dataframe thead th {\n",
       "        text-align: right;\n",
       "    }\n",
       "</style>\n",
       "<table border=\"1\" class=\"dataframe\">\n",
       "  <thead>\n",
       "    <tr style=\"text-align: right;\">\n",
       "      <th></th>\n",
       "      <th>Loan_ID</th>\n",
       "      <th>Gender</th>\n",
       "      <th>Married</th>\n",
       "      <th>Dependents</th>\n",
       "      <th>Education</th>\n",
       "      <th>Self_Employed</th>\n",
       "      <th>ApplicantIncome</th>\n",
       "      <th>CoapplicantIncome</th>\n",
       "      <th>LoanAmount</th>\n",
       "      <th>Loan_Amount_Term</th>\n",
       "      <th>Credit_History</th>\n",
       "      <th>Property_Area</th>\n",
       "    </tr>\n",
       "  </thead>\n",
       "  <tbody>\n",
       "    <tr>\n",
       "      <th>0</th>\n",
       "      <td>LP001015</td>\n",
       "      <td>1</td>\n",
       "      <td>1</td>\n",
       "      <td>0</td>\n",
       "      <td>0</td>\n",
       "      <td>0</td>\n",
       "      <td>5720</td>\n",
       "      <td>0</td>\n",
       "      <td>110.0</td>\n",
       "      <td>360.0</td>\n",
       "      <td>1.0</td>\n",
       "      <td>2</td>\n",
       "    </tr>\n",
       "    <tr>\n",
       "      <th>1</th>\n",
       "      <td>LP001022</td>\n",
       "      <td>1</td>\n",
       "      <td>1</td>\n",
       "      <td>1</td>\n",
       "      <td>0</td>\n",
       "      <td>0</td>\n",
       "      <td>3076</td>\n",
       "      <td>1500</td>\n",
       "      <td>126.0</td>\n",
       "      <td>360.0</td>\n",
       "      <td>1.0</td>\n",
       "      <td>2</td>\n",
       "    </tr>\n",
       "    <tr>\n",
       "      <th>2</th>\n",
       "      <td>LP001031</td>\n",
       "      <td>1</td>\n",
       "      <td>1</td>\n",
       "      <td>2</td>\n",
       "      <td>0</td>\n",
       "      <td>0</td>\n",
       "      <td>5000</td>\n",
       "      <td>1800</td>\n",
       "      <td>208.0</td>\n",
       "      <td>360.0</td>\n",
       "      <td>1.0</td>\n",
       "      <td>2</td>\n",
       "    </tr>\n",
       "    <tr>\n",
       "      <th>3</th>\n",
       "      <td>LP001035</td>\n",
       "      <td>1</td>\n",
       "      <td>1</td>\n",
       "      <td>2</td>\n",
       "      <td>0</td>\n",
       "      <td>0</td>\n",
       "      <td>2340</td>\n",
       "      <td>2546</td>\n",
       "      <td>100.0</td>\n",
       "      <td>360.0</td>\n",
       "      <td>1.0</td>\n",
       "      <td>2</td>\n",
       "    </tr>\n",
       "    <tr>\n",
       "      <th>4</th>\n",
       "      <td>LP001051</td>\n",
       "      <td>1</td>\n",
       "      <td>0</td>\n",
       "      <td>0</td>\n",
       "      <td>1</td>\n",
       "      <td>0</td>\n",
       "      <td>3276</td>\n",
       "      <td>0</td>\n",
       "      <td>78.0</td>\n",
       "      <td>360.0</td>\n",
       "      <td>1.0</td>\n",
       "      <td>2</td>\n",
       "    </tr>\n",
       "    <tr>\n",
       "      <th>...</th>\n",
       "      <td>...</td>\n",
       "      <td>...</td>\n",
       "      <td>...</td>\n",
       "      <td>...</td>\n",
       "      <td>...</td>\n",
       "      <td>...</td>\n",
       "      <td>...</td>\n",
       "      <td>...</td>\n",
       "      <td>...</td>\n",
       "      <td>...</td>\n",
       "      <td>...</td>\n",
       "      <td>...</td>\n",
       "    </tr>\n",
       "    <tr>\n",
       "      <th>362</th>\n",
       "      <td>LP002971</td>\n",
       "      <td>1</td>\n",
       "      <td>1</td>\n",
       "      <td>3</td>\n",
       "      <td>1</td>\n",
       "      <td>1</td>\n",
       "      <td>4009</td>\n",
       "      <td>1777</td>\n",
       "      <td>113.0</td>\n",
       "      <td>360.0</td>\n",
       "      <td>1.0</td>\n",
       "      <td>2</td>\n",
       "    </tr>\n",
       "    <tr>\n",
       "      <th>363</th>\n",
       "      <td>LP002975</td>\n",
       "      <td>1</td>\n",
       "      <td>1</td>\n",
       "      <td>0</td>\n",
       "      <td>0</td>\n",
       "      <td>0</td>\n",
       "      <td>4158</td>\n",
       "      <td>709</td>\n",
       "      <td>115.0</td>\n",
       "      <td>360.0</td>\n",
       "      <td>1.0</td>\n",
       "      <td>2</td>\n",
       "    </tr>\n",
       "    <tr>\n",
       "      <th>364</th>\n",
       "      <td>LP002980</td>\n",
       "      <td>1</td>\n",
       "      <td>0</td>\n",
       "      <td>0</td>\n",
       "      <td>0</td>\n",
       "      <td>0</td>\n",
       "      <td>3250</td>\n",
       "      <td>1993</td>\n",
       "      <td>126.0</td>\n",
       "      <td>360.0</td>\n",
       "      <td>1.0</td>\n",
       "      <td>1</td>\n",
       "    </tr>\n",
       "    <tr>\n",
       "      <th>365</th>\n",
       "      <td>LP002986</td>\n",
       "      <td>1</td>\n",
       "      <td>1</td>\n",
       "      <td>0</td>\n",
       "      <td>0</td>\n",
       "      <td>0</td>\n",
       "      <td>5000</td>\n",
       "      <td>2393</td>\n",
       "      <td>158.0</td>\n",
       "      <td>360.0</td>\n",
       "      <td>1.0</td>\n",
       "      <td>0</td>\n",
       "    </tr>\n",
       "    <tr>\n",
       "      <th>366</th>\n",
       "      <td>LP002989</td>\n",
       "      <td>1</td>\n",
       "      <td>0</td>\n",
       "      <td>0</td>\n",
       "      <td>0</td>\n",
       "      <td>1</td>\n",
       "      <td>9200</td>\n",
       "      <td>0</td>\n",
       "      <td>98.0</td>\n",
       "      <td>180.0</td>\n",
       "      <td>1.0</td>\n",
       "      <td>0</td>\n",
       "    </tr>\n",
       "  </tbody>\n",
       "</table>\n",
       "<p>367 rows × 12 columns</p>\n",
       "</div>"
      ],
      "text/plain": [
       "      Loan_ID  Gender  Married  Dependents  Education  Self_Employed  \\\n",
       "0    LP001015       1        1           0          0              0   \n",
       "1    LP001022       1        1           1          0              0   \n",
       "2    LP001031       1        1           2          0              0   \n",
       "3    LP001035       1        1           2          0              0   \n",
       "4    LP001051       1        0           0          1              0   \n",
       "..        ...     ...      ...         ...        ...            ...   \n",
       "362  LP002971       1        1           3          1              1   \n",
       "363  LP002975       1        1           0          0              0   \n",
       "364  LP002980       1        0           0          0              0   \n",
       "365  LP002986       1        1           0          0              0   \n",
       "366  LP002989       1        0           0          0              1   \n",
       "\n",
       "     ApplicantIncome  CoapplicantIncome  LoanAmount  Loan_Amount_Term  \\\n",
       "0               5720                  0       110.0             360.0   \n",
       "1               3076               1500       126.0             360.0   \n",
       "2               5000               1800       208.0             360.0   \n",
       "3               2340               2546       100.0             360.0   \n",
       "4               3276                  0        78.0             360.0   \n",
       "..               ...                ...         ...               ...   \n",
       "362             4009               1777       113.0             360.0   \n",
       "363             4158                709       115.0             360.0   \n",
       "364             3250               1993       126.0             360.0   \n",
       "365             5000               2393       158.0             360.0   \n",
       "366             9200                  0        98.0             180.0   \n",
       "\n",
       "     Credit_History  Property_Area  \n",
       "0               1.0              2  \n",
       "1               1.0              2  \n",
       "2               1.0              2  \n",
       "3               1.0              2  \n",
       "4               1.0              2  \n",
       "..              ...            ...  \n",
       "362             1.0              2  \n",
       "363             1.0              2  \n",
       "364             1.0              1  \n",
       "365             1.0              0  \n",
       "366             1.0              0  \n",
       "\n",
       "[367 rows x 12 columns]"
      ]
     },
     "execution_count": 66,
     "metadata": {},
     "output_type": "execute_result"
    }
   ],
   "source": [
    "df_test"
   ]
  },
  {
   "cell_type": "code",
   "execution_count": 67,
   "metadata": {
    "executionInfo": {
     "elapsed": 195505,
     "status": "ok",
     "timestamp": 1617214812134,
     "user": {
      "displayName": "Raghav Gupta",
      "photoUrl": "https://lh3.googleusercontent.com/a-/AOh14GgorRHrSE1zI37pb0V-75_DSV7fl1tftsSDhWzRKw=s64",
      "userId": "06994152693423055583"
     },
     "user_tz": -330
    },
    "id": "8m31z00oOT8X"
   },
   "outputs": [],
   "source": [
    "df_train[\"Total_Income\"] = df_train[\"ApplicantIncome\"] + df_train[\"CoapplicantIncome\"]\n",
    "df_test[\"Total_Income\"] = df_test[\"ApplicantIncome\"] + df_test[\"CoapplicantIncome\"]"
   ]
  },
  {
   "cell_type": "code",
   "execution_count": 68,
   "metadata": {
    "executionInfo": {
     "elapsed": 195294,
     "status": "ok",
     "timestamp": 1617214812135,
     "user": {
      "displayName": "Raghav Gupta",
      "photoUrl": "https://lh3.googleusercontent.com/a-/AOh14GgorRHrSE1zI37pb0V-75_DSV7fl1tftsSDhWzRKw=s64",
      "userId": "06994152693423055583"
     },
     "user_tz": -330
    },
    "id": "e-9S69_uOT8Y"
   },
   "outputs": [],
   "source": [
    "df_train[\"EMI\"] = df_train[\"LoanAmount\"] / df_train[\"Loan_Amount_Term\"]\n",
    "df_test[\"EMI\"] = df_test[\"LoanAmount\"] / df_test[\"Loan_Amount_Term\"]"
   ]
  },
  {
   "cell_type": "code",
   "execution_count": 69,
   "metadata": {
    "executionInfo": {
     "elapsed": 195084,
     "status": "ok",
     "timestamp": 1617214812138,
     "user": {
      "displayName": "Raghav Gupta",
      "photoUrl": "https://lh3.googleusercontent.com/a-/AOh14GgorRHrSE1zI37pb0V-75_DSV7fl1tftsSDhWzRKw=s64",
      "userId": "06994152693423055583"
     },
     "user_tz": -330
    },
    "id": "XguQDj4MOT8Y"
   },
   "outputs": [],
   "source": [
    "df_train[\"Balance_Income\"] = df_train[\"Total_Income\"]  - (df_train[\"EMI\"]*1000)\n",
    "df_test[\"Balance_Income\"] = df_test[\"Total_Income\"]  -  (df_test[\"EMI\"]*1000)"
   ]
  },
  {
   "cell_type": "code",
   "execution_count": 70,
   "metadata": {
    "executionInfo": {
     "elapsed": 194858,
     "status": "ok",
     "timestamp": 1617214812140,
     "user": {
      "displayName": "Raghav Gupta",
      "photoUrl": "https://lh3.googleusercontent.com/a-/AOh14GgorRHrSE1zI37pb0V-75_DSV7fl1tftsSDhWzRKw=s64",
      "userId": "06994152693423055583"
     },
     "user_tz": -330
    },
    "id": "bWsLtwK6OT8Z"
   },
   "outputs": [],
   "source": [
    "df_train['total_income_by_loanAmt'] = df_train['Total_Income'] / df_train_bkp['LoanAmount']\n",
    "df_test['total_income_by_loanAmt'] = df_test['Total_Income'] / df_test_bkp['LoanAmount']\n"
   ]
  },
  {
   "cell_type": "code",
   "execution_count": 71,
   "metadata": {
    "executionInfo": {
     "elapsed": 194635,
     "status": "ok",
     "timestamp": 1617214812143,
     "user": {
      "displayName": "Raghav Gupta",
      "photoUrl": "https://lh3.googleusercontent.com/a-/AOh14GgorRHrSE1zI37pb0V-75_DSV7fl1tftsSDhWzRKw=s64",
      "userId": "06994152693423055583"
     },
     "user_tz": -330
    },
    "id": "tFFK-rAFOT8Z"
   },
   "outputs": [],
   "source": [
    "df_train['ApplicantIncome_by_loanAmt'] = df_train_bkp['ApplicantIncome'] / df_train_bkp['LoanAmount']\n",
    "df_test['ApplicantIncome_by_loanAmt'] = df_test_bkp['ApplicantIncome'] / df_test_bkp['LoanAmount']\n"
   ]
  },
  {
   "cell_type": "code",
   "execution_count": 72,
   "metadata": {
    "executionInfo": {
     "elapsed": 194414,
     "status": "ok",
     "timestamp": 1617214812145,
     "user": {
      "displayName": "Raghav Gupta",
      "photoUrl": "https://lh3.googleusercontent.com/a-/AOh14GgorRHrSE1zI37pb0V-75_DSV7fl1tftsSDhWzRKw=s64",
      "userId": "06994152693423055583"
     },
     "user_tz": -330
    },
    "id": "ApVztvIgOT8Z"
   },
   "outputs": [],
   "source": [
    "df_train = df_train.drop([\"ApplicantIncome\",\"Balance_Income\",\"Total_Income\",\"CoapplicantIncome\",\"LoanAmount\",\"Loan_Amount_Term\"],axis=1)\n",
    "#df_train = df_train.drop([\"Balance_Income\",\"Total_Income\"],axis=1)"
   ]
  },
  {
   "cell_type": "code",
   "execution_count": 73,
   "metadata": {
    "executionInfo": {
     "elapsed": 194311,
     "status": "ok",
     "timestamp": 1617214812148,
     "user": {
      "displayName": "Raghav Gupta",
      "photoUrl": "https://lh3.googleusercontent.com/a-/AOh14GgorRHrSE1zI37pb0V-75_DSV7fl1tftsSDhWzRKw=s64",
      "userId": "06994152693423055583"
     },
     "user_tz": -330
    },
    "id": "cqy1s0SzOT8a"
   },
   "outputs": [],
   "source": [
    "df_test = df_test.drop([\"ApplicantIncome\",\"Balance_Income\",\"Total_Income\",\"CoapplicantIncome\",\"LoanAmount\",\"Loan_Amount_Term\"],axis=1)"
   ]
  },
  {
   "cell_type": "code",
   "execution_count": 74,
   "metadata": {
    "executionInfo": {
     "elapsed": 194057,
     "status": "ok",
     "timestamp": 1617214812150,
     "user": {
      "displayName": "Raghav Gupta",
      "photoUrl": "https://lh3.googleusercontent.com/a-/AOh14GgorRHrSE1zI37pb0V-75_DSV7fl1tftsSDhWzRKw=s64",
      "userId": "06994152693423055583"
     },
     "user_tz": -330
    },
    "id": "mrMAZtfKOT8a"
   },
   "outputs": [],
   "source": [
    "# df_test = df_test.drop([\"Balance_Income\",\"Total_Income\"],axis=1)"
   ]
  },
  {
   "cell_type": "code",
   "execution_count": 75,
   "metadata": {
    "colab": {
     "base_uri": "https://localhost:8080/",
     "height": 204
    },
    "executionInfo": {
     "elapsed": 193806,
     "status": "ok",
     "timestamp": 1617214812152,
     "user": {
      "displayName": "Raghav Gupta",
      "photoUrl": "https://lh3.googleusercontent.com/a-/AOh14GgorRHrSE1zI37pb0V-75_DSV7fl1tftsSDhWzRKw=s64",
      "userId": "06994152693423055583"
     },
     "user_tz": -330
    },
    "id": "6XTAPsyLOT8a",
    "outputId": "19f413fb-261d-4ee0-97ab-f945ec8cb604"
   },
   "outputs": [
    {
     "data": {
      "text/html": [
       "<div>\n",
       "<style scoped>\n",
       "    .dataframe tbody tr th:only-of-type {\n",
       "        vertical-align: middle;\n",
       "    }\n",
       "\n",
       "    .dataframe tbody tr th {\n",
       "        vertical-align: top;\n",
       "    }\n",
       "\n",
       "    .dataframe thead th {\n",
       "        text-align: right;\n",
       "    }\n",
       "</style>\n",
       "<table border=\"1\" class=\"dataframe\">\n",
       "  <thead>\n",
       "    <tr style=\"text-align: right;\">\n",
       "      <th></th>\n",
       "      <th>Gender</th>\n",
       "      <th>Married</th>\n",
       "      <th>Dependents</th>\n",
       "      <th>Education</th>\n",
       "      <th>Self_Employed</th>\n",
       "      <th>Credit_History</th>\n",
       "      <th>Property_Area</th>\n",
       "      <th>EMI</th>\n",
       "      <th>total_income_by_loanAmt</th>\n",
       "      <th>ApplicantIncome_by_loanAmt</th>\n",
       "    </tr>\n",
       "  </thead>\n",
       "  <tbody>\n",
       "    <tr>\n",
       "      <th>0</th>\n",
       "      <td>1</td>\n",
       "      <td>0</td>\n",
       "      <td>0</td>\n",
       "      <td>0</td>\n",
       "      <td>0</td>\n",
       "      <td>1.0</td>\n",
       "      <td>2</td>\n",
       "      <td>0.355556</td>\n",
       "      <td>45.695312</td>\n",
       "      <td>45.695312</td>\n",
       "    </tr>\n",
       "    <tr>\n",
       "      <th>1</th>\n",
       "      <td>1</td>\n",
       "      <td>1</td>\n",
       "      <td>1</td>\n",
       "      <td>0</td>\n",
       "      <td>0</td>\n",
       "      <td>1.0</td>\n",
       "      <td>0</td>\n",
       "      <td>0.355556</td>\n",
       "      <td>47.585938</td>\n",
       "      <td>35.804688</td>\n",
       "    </tr>\n",
       "    <tr>\n",
       "      <th>2</th>\n",
       "      <td>1</td>\n",
       "      <td>1</td>\n",
       "      <td>0</td>\n",
       "      <td>0</td>\n",
       "      <td>1</td>\n",
       "      <td>1.0</td>\n",
       "      <td>2</td>\n",
       "      <td>0.183333</td>\n",
       "      <td>45.454545</td>\n",
       "      <td>45.454545</td>\n",
       "    </tr>\n",
       "    <tr>\n",
       "      <th>3</th>\n",
       "      <td>1</td>\n",
       "      <td>1</td>\n",
       "      <td>0</td>\n",
       "      <td>1</td>\n",
       "      <td>0</td>\n",
       "      <td>1.0</td>\n",
       "      <td>2</td>\n",
       "      <td>0.333333</td>\n",
       "      <td>41.175000</td>\n",
       "      <td>21.525000</td>\n",
       "    </tr>\n",
       "    <tr>\n",
       "      <th>4</th>\n",
       "      <td>1</td>\n",
       "      <td>0</td>\n",
       "      <td>0</td>\n",
       "      <td>0</td>\n",
       "      <td>0</td>\n",
       "      <td>1.0</td>\n",
       "      <td>2</td>\n",
       "      <td>0.391667</td>\n",
       "      <td>42.553191</td>\n",
       "      <td>42.553191</td>\n",
       "    </tr>\n",
       "  </tbody>\n",
       "</table>\n",
       "</div>"
      ],
      "text/plain": [
       "   Gender  Married  Dependents  Education  Self_Employed  Credit_History  \\\n",
       "0       1        0           0          0              0             1.0   \n",
       "1       1        1           1          0              0             1.0   \n",
       "2       1        1           0          0              1             1.0   \n",
       "3       1        1           0          1              0             1.0   \n",
       "4       1        0           0          0              0             1.0   \n",
       "\n",
       "   Property_Area       EMI  total_income_by_loanAmt  \\\n",
       "0              2  0.355556                45.695312   \n",
       "1              0  0.355556                47.585938   \n",
       "2              2  0.183333                45.454545   \n",
       "3              2  0.333333                41.175000   \n",
       "4              2  0.391667                42.553191   \n",
       "\n",
       "   ApplicantIncome_by_loanAmt  \n",
       "0                   45.695312  \n",
       "1                   35.804688  \n",
       "2                   45.454545  \n",
       "3                   21.525000  \n",
       "4                   42.553191  "
      ]
     },
     "execution_count": 75,
     "metadata": {},
     "output_type": "execute_result"
    }
   ],
   "source": [
    "X = df_train.drop([\"Loan_ID\", \"Loan_Status\"], axis=1)\n",
    "\n",
    "Y = df_train.pop(\"Loan_Status\")\n",
    "\n",
    "X.head()"
   ]
  },
  {
   "cell_type": "markdown",
   "metadata": {
    "id": "YFF8D74uOT8a"
   },
   "source": [
    "### Splitting data into training and test set"
   ]
  },
  {
   "cell_type": "code",
   "execution_count": 76,
   "metadata": {
    "executionInfo": {
     "elapsed": 193368,
     "status": "ok",
     "timestamp": 1617214812153,
     "user": {
      "displayName": "Raghav Gupta",
      "photoUrl": "https://lh3.googleusercontent.com/a-/AOh14GgorRHrSE1zI37pb0V-75_DSV7fl1tftsSDhWzRKw=s64",
      "userId": "06994152693423055583"
     },
     "user_tz": -330
    },
    "id": "G-QUiAY5OT8b"
   },
   "outputs": [],
   "source": [
    "from sklearn.model_selection import train_test_split\n",
    "\n",
    "X_train, X_validate, train_labels, validate_labels = train_test_split(X, Y, test_size=.30, random_state=1)\n",
    "X_train = X\n",
    "train_labels = Y\n",
    "X_test = df_test.drop([\"Loan_ID\"], axis=1)"
   ]
  },
  {
   "cell_type": "markdown",
   "metadata": {
    "id": "MtGr9zjyOT8b"
   },
   "source": [
    "### Checking the dimensions of the training and test data"
   ]
  },
  {
   "cell_type": "code",
   "execution_count": 77,
   "metadata": {
    "colab": {
     "base_uri": "https://localhost:8080/"
    },
    "executionInfo": {
     "elapsed": 192962,
     "status": "ok",
     "timestamp": 1617214812155,
     "user": {
      "displayName": "Raghav Gupta",
      "photoUrl": "https://lh3.googleusercontent.com/a-/AOh14GgorRHrSE1zI37pb0V-75_DSV7fl1tftsSDhWzRKw=s64",
      "userId": "06994152693423055583"
     },
     "user_tz": -330
    },
    "id": "K9cFq6K0OT8b",
    "outputId": "3645617c-ada3-43ff-c5a4-4b1c05c0cc55"
   },
   "outputs": [
    {
     "name": "stdout",
     "output_type": "stream",
     "text": [
      "X_train (614, 10)\n",
      "X_validate (185, 10)\n",
      "train_labels (614,)\n",
      "validate_labels (185,)\n",
      "X_test (367, 10)\n",
      "Total Observations 981\n"
     ]
    }
   ],
   "source": [
    "print('X_train',X_train.shape)\n",
    "print('X_validate',X_validate.shape)\n",
    "print('train_labels',train_labels.shape)\n",
    "print('validate_labels',validate_labels.shape)\n",
    "\n",
    "#print('test_labels',test_labels.shape)\n",
    "print('X_test',X_test.shape)\n",
    "print('Total Observations',df_train.shape[0] + df_test.shape[0] )"
   ]
  },
  {
   "cell_type": "markdown",
   "metadata": {
    "id": "PcAWbpe7OT8c"
   },
   "source": [
    "### Building a Decision Tree Classifier"
   ]
  },
  {
   "cell_type": "code",
   "execution_count": 78,
   "metadata": {
    "executionInfo": {
     "elapsed": 192613,
     "status": "ok",
     "timestamp": 1617214812158,
     "user": {
      "displayName": "Raghav Gupta",
      "photoUrl": "https://lh3.googleusercontent.com/a-/AOh14GgorRHrSE1zI37pb0V-75_DSV7fl1tftsSDhWzRKw=s64",
      "userId": "06994152693423055583"
     },
     "user_tz": -330
    },
    "id": "KFJ-94xXOT8c"
   },
   "outputs": [],
   "source": [
    "# Initialise a Decision Tree Classifier\n",
    "dt_model = DecisionTreeClassifier(criterion = 'gini' )"
   ]
  },
  {
   "cell_type": "code",
   "execution_count": 79,
   "metadata": {
    "colab": {
     "base_uri": "https://localhost:8080/"
    },
    "executionInfo": {
     "elapsed": 192374,
     "status": "ok",
     "timestamp": 1617214812160,
     "user": {
      "displayName": "Raghav Gupta",
      "photoUrl": "https://lh3.googleusercontent.com/a-/AOh14GgorRHrSE1zI37pb0V-75_DSV7fl1tftsSDhWzRKw=s64",
      "userId": "06994152693423055583"
     },
     "user_tz": -330
    },
    "id": "4tcRY8V5OT8c",
    "outputId": "7e49ddc1-0720-45e3-813a-91e0bd94c728"
   },
   "outputs": [
    {
     "data": {
      "text/plain": [
       "DecisionTreeClassifier()"
      ]
     },
     "execution_count": 79,
     "metadata": {},
     "output_type": "execute_result"
    }
   ],
   "source": [
    "# Fit the model\n",
    "dt_model.fit(X_train, train_labels)"
   ]
  },
  {
   "cell_type": "code",
   "execution_count": 80,
   "metadata": {
    "executionInfo": {
     "elapsed": 192132,
     "status": "ok",
     "timestamp": 1617214812161,
     "user": {
      "displayName": "Raghav Gupta",
      "photoUrl": "https://lh3.googleusercontent.com/a-/AOh14GgorRHrSE1zI37pb0V-75_DSV7fl1tftsSDhWzRKw=s64",
      "userId": "06994152693423055583"
     },
     "user_tz": -330
    },
    "id": "7VvtXtr-OT8d"
   },
   "outputs": [],
   "source": [
    "from sklearn import tree\n",
    "\n",
    "train_char_label = ['No', 'Yes']\n",
    "df2_Tree_File = open('df2_Tree_File.dot','w')\n",
    "dot_data = tree.export_graphviz(dt_model, \n",
    "                                out_file=df2_Tree_File, \n",
    "                                feature_names = list(X_train), \n",
    "                                class_names = list(train_char_label))\n",
    "\n",
    "df2_Tree_File.close()\n"
   ]
  },
  {
   "cell_type": "markdown",
   "metadata": {
    "id": "RpgUxLWbOT8d"
   },
   "source": [
    "The above code will save a .dot file in the working directory. \n",
    "WebGraphviz is Graphviz in the Browser.   \n",
    "we can copy paste the contents of the file into the link below to get the visualization     \n",
    "http://webgraphviz.com/"
   ]
  },
  {
   "cell_type": "code",
   "execution_count": 81,
   "metadata": {
    "colab": {
     "base_uri": "https://localhost:8080/"
    },
    "executionInfo": {
     "elapsed": 191646,
     "status": "ok",
     "timestamp": 1617214812163,
     "user": {
      "displayName": "Raghav Gupta",
      "photoUrl": "https://lh3.googleusercontent.com/a-/AOh14GgorRHrSE1zI37pb0V-75_DSV7fl1tftsSDhWzRKw=s64",
      "userId": "06994152693423055583"
     },
     "user_tz": -330
    },
    "id": "AyH9_gSlOT8d",
    "outputId": "cbd3e51e-6897-4c13-904e-437e8fba673b"
   },
   "outputs": [
    {
     "data": {
      "text/plain": [
       "1.0"
      ]
     },
     "execution_count": 81,
     "metadata": {},
     "output_type": "execute_result"
    }
   ],
   "source": [
    "dt_model.score(X_train,train_labels)"
   ]
  },
  {
   "cell_type": "code",
   "execution_count": 82,
   "metadata": {
    "executionInfo": {
     "elapsed": 191561,
     "status": "ok",
     "timestamp": 1617214812164,
     "user": {
      "displayName": "Raghav Gupta",
      "photoUrl": "https://lh3.googleusercontent.com/a-/AOh14GgorRHrSE1zI37pb0V-75_DSV7fl1tftsSDhWzRKw=s64",
      "userId": "06994152693423055583"
     },
     "user_tz": -330
    },
    "id": "VvE8wQAzOT8e"
   },
   "outputs": [],
   "source": [
    "#dt_model.score(X_test,test_labels)"
   ]
  },
  {
   "cell_type": "markdown",
   "metadata": {
    "id": "un_lZEMoOT8e"
   },
   "source": [
    "### Regularising the Decision Tree\n"
   ]
  },
  {
   "cell_type": "markdown",
   "metadata": {
    "id": "njV7U8d0OT8e"
   },
   "source": [
    "#### Importing libraries"
   ]
  },
  {
   "cell_type": "code",
   "execution_count": 83,
   "metadata": {
    "executionInfo": {
     "elapsed": 190899,
     "status": "ok",
     "timestamp": 1617214812166,
     "user": {
      "displayName": "Raghav Gupta",
      "photoUrl": "https://lh3.googleusercontent.com/a-/AOh14GgorRHrSE1zI37pb0V-75_DSV7fl1tftsSDhWzRKw=s64",
      "userId": "06994152693423055583"
     },
     "user_tz": -330
    },
    "id": "q9KL8Ff5OT8e"
   },
   "outputs": [],
   "source": [
    "from sklearn.model_selection import GridSearchCV\n",
    "from sklearn.metrics import classification_report\n"
   ]
  },
  {
   "cell_type": "markdown",
   "metadata": {
    "id": "fMCEcM-UOT8f"
   },
   "source": [
    "#### creating user define function so to run CART model multiple times for different grid search parameters"
   ]
  },
  {
   "cell_type": "code",
   "execution_count": 84,
   "metadata": {
    "executionInfo": {
     "elapsed": 190451,
     "status": "ok",
     "timestamp": 1617214812168,
     "user": {
      "displayName": "Raghav Gupta",
      "photoUrl": "https://lh3.googleusercontent.com/a-/AOh14GgorRHrSE1zI37pb0V-75_DSV7fl1tftsSDhWzRKw=s64",
      "userId": "06994152693423055583"
     },
     "user_tz": -330
    },
    "id": "KpNOy62QOT8f"
   },
   "outputs": [],
   "source": [
    "def run_gridsearch(model,param_grid,X_train, train_labels,cv_value=5,scoring_value='accuracy'):\n",
    "    grid_search = GridSearchCV(estimator = model, param_grid = param_grid, cv = cv_value, n_jobs =-1,scoring=scoring_value)\n",
    "    print (\"\\n Running grid search\\n\")\n",
    "    grid_search.fit(X_train, train_labels)\n",
    "    print (\"\\n Showing best parameters for the grid search\\n\")\n",
    "    print (grid_search.best_params_)\n",
    "    return grid_search"
   ]
  },
  {
   "cell_type": "code",
   "execution_count": 85,
   "metadata": {
    "executionInfo": {
     "elapsed": 190210,
     "status": "ok",
     "timestamp": 1617214812170,
     "user": {
      "displayName": "Raghav Gupta",
      "photoUrl": "https://lh3.googleusercontent.com/a-/AOh14GgorRHrSE1zI37pb0V-75_DSV7fl1tftsSDhWzRKw=s64",
      "userId": "06994152693423055583"
     },
     "user_tz": -330
    },
    "id": "Y36eDyZxOT8f"
   },
   "outputs": [],
   "source": [
    "def check_performance(grid_search,X_train, X_test, train_labels,test_labels):\n",
    "    best_grid = grid_search.best_estimator_\n",
    "    ytrain_predict = best_grid.predict(X_train)\n",
    "    ytest_predict = best_grid.predict(X_test)\n",
    "    print(\"\\n Classification Report for Train dataset\\n\")\n",
    "    print(classification_report(train_labels,ytrain_predict))\n",
    "    print(\"\\n Classification Report for Validate dataset\\n\")\n",
    "    print(classification_report(test_labels,ytest_predict))"
   ]
  },
  {
   "cell_type": "markdown",
   "metadata": {
    "id": "wD1sYUv4OT8g"
   },
   "source": [
    "#### using SKlearn grid search"
   ]
  },
  {
   "cell_type": "markdown",
   "metadata": {
    "id": "7CFOZsAxOT8g"
   },
   "source": [
    " Initially we need to assume values of search grid parameters. \n",
    " \n",
    " In decision tree visualization , we can see that tree has overgrown to about 25-26 depth, hence we are taking max_depth as [7 13 20]\n",
    " \n",
    " min_samples_leaf is normally taken around 1-3% of observations , hence taking it as [30 60 90]\n",
    " \n",
    " min_samples_split is normally 3 times min_samples_leaf, hence taking it as [90 180 270].\n",
    " \n",
    " CV parameter is taken as 10 (10 cross fold validation)"
   ]
  },
  {
   "cell_type": "code",
   "execution_count": 86,
   "metadata": {
    "executionInfo": {
     "elapsed": 189565,
     "status": "ok",
     "timestamp": 1617214812176,
     "user": {
      "displayName": "Raghav Gupta",
      "photoUrl": "https://lh3.googleusercontent.com/a-/AOh14GgorRHrSE1zI37pb0V-75_DSV7fl1tftsSDhWzRKw=s64",
      "userId": "06994152693423055583"
     },
     "user_tz": -330
    },
    "id": "THRd4pIHOT8g"
   },
   "outputs": [],
   "source": [
    "dt_model = DecisionTreeClassifier(random_state=1)\n",
    "cv_value = 10\n",
    "scoring_value = 'accuracy'\n",
    "param_grid = {\n",
    "    'max_depth': [5, 10, 15],\n",
    "    'min_samples_leaf': [50, 100, 160],\n",
    "    'min_samples_split': [150, 300, 500]\n",
    "}"
   ]
  },
  {
   "cell_type": "code",
   "execution_count": 87,
   "metadata": {
    "colab": {
     "base_uri": "https://localhost:8080/"
    },
    "executionInfo": {
     "elapsed": 190457,
     "status": "ok",
     "timestamp": 1617214813342,
     "user": {
      "displayName": "Raghav Gupta",
      "photoUrl": "https://lh3.googleusercontent.com/a-/AOh14GgorRHrSE1zI37pb0V-75_DSV7fl1tftsSDhWzRKw=s64",
      "userId": "06994152693423055583"
     },
     "user_tz": -330
    },
    "id": "U7CGgFZ7OT8g",
    "outputId": "543f9223-7b89-4653-dd4c-907549988b99"
   },
   "outputs": [
    {
     "name": "stdout",
     "output_type": "stream",
     "text": [
      "\n",
      " Running grid search\n",
      "\n",
      "\n",
      " Showing best parameters for the grid search\n",
      "\n",
      "{'max_depth': 5, 'min_samples_leaf': 50, 'min_samples_split': 150}\n"
     ]
    }
   ],
   "source": [
    "grid_search = run_gridsearch(dt_model,param_grid,X_train, train_labels,cv_value)"
   ]
  },
  {
   "cell_type": "code",
   "execution_count": 88,
   "metadata": {
    "colab": {
     "base_uri": "https://localhost:8080/"
    },
    "executionInfo": {
     "elapsed": 190220,
     "status": "ok",
     "timestamp": 1617214813343,
     "user": {
      "displayName": "Raghav Gupta",
      "photoUrl": "https://lh3.googleusercontent.com/a-/AOh14GgorRHrSE1zI37pb0V-75_DSV7fl1tftsSDhWzRKw=s64",
      "userId": "06994152693423055583"
     },
     "user_tz": -330
    },
    "id": "pDbr-LjdOT8h",
    "outputId": "86d378c6-53ba-4501-dfa4-509f6bfdda6f"
   },
   "outputs": [
    {
     "name": "stdout",
     "output_type": "stream",
     "text": [
      "\n",
      " Classification Report for Train dataset\n",
      "\n",
      "              precision    recall  f1-score   support\n",
      "\n",
      "           0       0.92      0.43      0.58       192\n",
      "           1       0.79      0.98      0.88       422\n",
      "\n",
      "    accuracy                           0.81       614\n",
      "   macro avg       0.86      0.71      0.73       614\n",
      "weighted avg       0.83      0.81      0.78       614\n",
      "\n",
      "\n",
      " Classification Report for Validate dataset\n",
      "\n",
      "              precision    recall  f1-score   support\n",
      "\n",
      "           0       0.92      0.39      0.55        61\n",
      "           1       0.77      0.98      0.86       124\n",
      "\n",
      "    accuracy                           0.79       185\n",
      "   macro avg       0.85      0.69      0.71       185\n",
      "weighted avg       0.82      0.79      0.76       185\n",
      "\n"
     ]
    }
   ],
   "source": [
    "check_performance(grid_search,X_train, X_validate, train_labels,validate_labels)"
   ]
  },
  {
   "cell_type": "markdown",
   "metadata": {
    "id": "fyU4lxvDOT8h"
   },
   "source": [
    "#### Pruning the grid seach parameters again"
   ]
  },
  {
   "cell_type": "code",
   "execution_count": 89,
   "metadata": {
    "colab": {
     "base_uri": "https://localhost:8080/"
    },
    "executionInfo": {
     "elapsed": 191492,
     "status": "ok",
     "timestamp": 1617214815072,
     "user": {
      "displayName": "Raghav Gupta",
      "photoUrl": "https://lh3.googleusercontent.com/a-/AOh14GgorRHrSE1zI37pb0V-75_DSV7fl1tftsSDhWzRKw=s64",
      "userId": "06994152693423055583"
     },
     "user_tz": -330
    },
    "id": "Ex5x2WkKOT8i",
    "outputId": "2663bf01-b156-48ef-fb16-9341bb4a6421"
   },
   "outputs": [
    {
     "name": "stdout",
     "output_type": "stream",
     "text": [
      "\n",
      " Running grid search\n",
      "\n",
      "\n",
      " Showing best parameters for the grid search\n",
      "\n",
      "{'max_depth': 2, 'min_samples_leaf': 24, 'min_samples_split': 99}\n",
      "\n",
      " Classification Report for Train dataset\n",
      "\n",
      "              precision    recall  f1-score   support\n",
      "\n",
      "           0       0.86      0.51      0.64       192\n",
      "           1       0.81      0.96      0.88       422\n",
      "\n",
      "    accuracy                           0.82       614\n",
      "   macro avg       0.83      0.73      0.76       614\n",
      "weighted avg       0.83      0.82      0.80       614\n",
      "\n",
      "\n",
      " Classification Report for Validate dataset\n",
      "\n",
      "              precision    recall  f1-score   support\n",
      "\n",
      "           0       0.91      0.48      0.62        61\n",
      "           1       0.79      0.98      0.87       124\n",
      "\n",
      "    accuracy                           0.81       185\n",
      "   macro avg       0.85      0.73      0.75       185\n",
      "weighted avg       0.83      0.81      0.79       185\n",
      "\n"
     ]
    }
   ],
   "source": [
    "param_grid = {\n",
    "    'max_depth': [2,4,5,6],\n",
    "    'min_samples_leaf': [24,25,26 ],\n",
    "    'min_samples_split': [99,100,101]\n",
    "}\n",
    "grid_search = run_gridsearch(dt_model,param_grid,X_train, train_labels,cv_value)\n",
    "check_performance(grid_search,X_train, X_validate, train_labels,validate_labels)"
   ]
  },
  {
   "cell_type": "code",
   "execution_count": null,
   "metadata": {
    "executionInfo": {
     "elapsed": 191263,
     "status": "ok",
     "timestamp": 1617214815075,
     "user": {
      "displayName": "Raghav Gupta",
      "photoUrl": "https://lh3.googleusercontent.com/a-/AOh14GgorRHrSE1zI37pb0V-75_DSV7fl1tftsSDhWzRKw=s64",
      "userId": "06994152693423055583"
     },
     "user_tz": -330
    },
    "id": "bOcqp4_pOT8i"
   },
   "outputs": [],
   "source": []
  },
  {
   "cell_type": "markdown",
   "metadata": {
    "id": "3wPgJfttOT8i"
   },
   "source": [
    "#### Saving the results of best search grid "
   ]
  },
  {
   "cell_type": "code",
   "execution_count": 90,
   "metadata": {
    "executionInfo": {
     "elapsed": 190845,
     "status": "ok",
     "timestamp": 1617214815078,
     "user": {
      "displayName": "Raghav Gupta",
      "photoUrl": "https://lh3.googleusercontent.com/a-/AOh14GgorRHrSE1zI37pb0V-75_DSV7fl1tftsSDhWzRKw=s64",
      "userId": "06994152693423055583"
     },
     "user_tz": -330
    },
    "id": "vNoIuDwrOT8i"
   },
   "outputs": [],
   "source": [
    "best_grid_CART = grid_search.best_estimator_\n",
    "ytrain_predict_CART = best_grid_CART.predict(X_train)\n",
    "ytest_predict_CART = best_grid_CART.predict(X_test)\n"
   ]
  },
  {
   "cell_type": "markdown",
   "metadata": {
    "id": "BTc5mf90OT8j"
   },
   "source": [
    "### Generating New Tree"
   ]
  },
  {
   "cell_type": "code",
   "execution_count": 91,
   "metadata": {
    "executionInfo": {
     "elapsed": 190423,
     "status": "ok",
     "timestamp": 1617214815080,
     "user": {
      "displayName": "Raghav Gupta",
      "photoUrl": "https://lh3.googleusercontent.com/a-/AOh14GgorRHrSE1zI37pb0V-75_DSV7fl1tftsSDhWzRKw=s64",
      "userId": "06994152693423055583"
     },
     "user_tz": -330
    },
    "id": "huvX7lAYOT8j"
   },
   "outputs": [],
   "source": [
    "df2_tree_regularized = open('df2_tree_regularized.dot','w')\n",
    "dot_data = tree.export_graphviz(best_grid_CART, out_file= df2_tree_regularized , feature_names = list(X_train), class_names = list(train_char_label))\n",
    "\n",
    "df2_tree_regularized.close()\n",
    "dot_data"
   ]
  },
  {
   "cell_type": "markdown",
   "metadata": {
    "id": "aShn7Ty2OT8k"
   },
   "source": [
    "### Variable Importance"
   ]
  },
  {
   "cell_type": "code",
   "execution_count": 92,
   "metadata": {
    "colab": {
     "base_uri": "https://localhost:8080/",
     "height": 359
    },
    "executionInfo": {
     "elapsed": 189934,
     "status": "ok",
     "timestamp": 1617214815082,
     "user": {
      "displayName": "Raghav Gupta",
      "photoUrl": "https://lh3.googleusercontent.com/a-/AOh14GgorRHrSE1zI37pb0V-75_DSV7fl1tftsSDhWzRKw=s64",
      "userId": "06994152693423055583"
     },
     "user_tz": -330
    },
    "id": "MPt2vlVkOT8k",
    "outputId": "4e903f84-d79a-4f04-c0a7-7ac4f64a2a1c"
   },
   "outputs": [
    {
     "data": {
      "text/html": [
       "<div>\n",
       "<style scoped>\n",
       "    .dataframe tbody tr th:only-of-type {\n",
       "        vertical-align: middle;\n",
       "    }\n",
       "\n",
       "    .dataframe tbody tr th {\n",
       "        vertical-align: top;\n",
       "    }\n",
       "\n",
       "    .dataframe thead th {\n",
       "        text-align: right;\n",
       "    }\n",
       "</style>\n",
       "<table border=\"1\" class=\"dataframe\">\n",
       "  <thead>\n",
       "    <tr style=\"text-align: right;\">\n",
       "      <th></th>\n",
       "      <th>Important Feature</th>\n",
       "    </tr>\n",
       "  </thead>\n",
       "  <tbody>\n",
       "    <tr>\n",
       "      <th>Credit_History</th>\n",
       "      <td>89.880401</td>\n",
       "    </tr>\n",
       "    <tr>\n",
       "      <th>total_income_by_loanAmt</th>\n",
       "      <td>10.119599</td>\n",
       "    </tr>\n",
       "    <tr>\n",
       "      <th>Gender</th>\n",
       "      <td>0.000000</td>\n",
       "    </tr>\n",
       "    <tr>\n",
       "      <th>Married</th>\n",
       "      <td>0.000000</td>\n",
       "    </tr>\n",
       "    <tr>\n",
       "      <th>Dependents</th>\n",
       "      <td>0.000000</td>\n",
       "    </tr>\n",
       "    <tr>\n",
       "      <th>Education</th>\n",
       "      <td>0.000000</td>\n",
       "    </tr>\n",
       "    <tr>\n",
       "      <th>Self_Employed</th>\n",
       "      <td>0.000000</td>\n",
       "    </tr>\n",
       "    <tr>\n",
       "      <th>Property_Area</th>\n",
       "      <td>0.000000</td>\n",
       "    </tr>\n",
       "    <tr>\n",
       "      <th>EMI</th>\n",
       "      <td>0.000000</td>\n",
       "    </tr>\n",
       "    <tr>\n",
       "      <th>ApplicantIncome_by_loanAmt</th>\n",
       "      <td>0.000000</td>\n",
       "    </tr>\n",
       "  </tbody>\n",
       "</table>\n",
       "</div>"
      ],
      "text/plain": [
       "                            Important Feature\n",
       "Credit_History                      89.880401\n",
       "total_income_by_loanAmt             10.119599\n",
       "Gender                               0.000000\n",
       "Married                              0.000000\n",
       "Dependents                           0.000000\n",
       "Education                            0.000000\n",
       "Self_Employed                        0.000000\n",
       "Property_Area                        0.000000\n",
       "EMI                                  0.000000\n",
       "ApplicantIncome_by_loanAmt           0.000000"
      ]
     },
     "execution_count": 92,
     "metadata": {},
     "output_type": "execute_result"
    }
   ],
   "source": [
    "df2_fi=pd.DataFrame(best_grid_CART.feature_importances_*100, columns = [\"Important Feature\"], index = X_train.columns).sort_values('Important Feature',ascending=False)\n",
    "df2_fi"
   ]
  },
  {
   "cell_type": "code",
   "execution_count": 93,
   "metadata": {
    "colab": {
     "base_uri": "https://localhost:8080/",
     "height": 404
    },
    "executionInfo": {
     "elapsed": 189691,
     "status": "ok",
     "timestamp": 1617214815084,
     "user": {
      "displayName": "Raghav Gupta",
      "photoUrl": "https://lh3.googleusercontent.com/a-/AOh14GgorRHrSE1zI37pb0V-75_DSV7fl1tftsSDhWzRKw=s64",
      "userId": "06994152693423055583"
     },
     "user_tz": -330
    },
    "id": "KnyLyFlaOT8l",
    "outputId": "35122bb6-75f6-4166-9a26-c10c16d46f35"
   },
   "outputs": [
    {
     "data": {
      "image/png": "[encoded data removed]",
      "text/plain": [
       "<Figure size 720x432 with 1 Axes>"
      ]
     },
     "metadata": {
      "needs_background": "light"
     },
     "output_type": "display_data"
    }
   ],
   "source": [
    "plt.figure(figsize=(10,6))\n",
    "plots=sns.barplot(data=df2_fi,x=\"Important Feature\",y=df2_fi.index,palette='rainbow')\n",
    "plt.ylabel('Feature Name')\n",
    "plt.xlabel('Feature Importance in %')\n",
    "plt.title('Feature Importance Plot')\n",
    "\n",
    "# Iterrating over the bars one-by-one \n",
    "for bar in plots.patches: \n",
    "      #print ('bar_width:', format(bar.get_width(), '.2f'),'bar_height:' , bar.get_height(), 'get_x:', bar.get_x() ,'get_y', bar.get_y() )\n",
    "      plots.annotate(format(bar.get_width(), '.2f'), (bar.get_width() , bar.get_y() + bar.get_height()/2),\n",
    "                   ha='center', va='center', \n",
    "                   size=10, xytext=(13, 0), \n",
    "                   textcoords='offset points') \n",
    "plt.show()"
   ]
  },
  {
   "cell_type": "markdown",
   "metadata": {
    "id": "iq1cWdDQOT8m"
   },
   "source": [
    "#### As per this model, attributes like Type, Commission, Channel and Destination have no imortance in predicting the insurance claims"
   ]
  },
  {
   "cell_type": "markdown",
   "metadata": {
    "id": "8QObQPUYOT8n"
   },
   "source": [
    "## Model Evaluation"
   ]
  },
  {
   "cell_type": "markdown",
   "metadata": {
    "id": "WO15wUeaOT8n"
   },
   "source": [
    "### Model Score"
   ]
  },
  {
   "cell_type": "markdown",
   "metadata": {
    "id": "PLkcm9XvOT8o"
   },
   "source": [
    "#### Model score for the Training Data"
   ]
  },
  {
   "cell_type": "code",
   "execution_count": 94,
   "metadata": {
    "colab": {
     "base_uri": "https://localhost:8080/"
    },
    "executionInfo": {
     "elapsed": 188656,
     "status": "ok",
     "timestamp": 1617214815085,
     "user": {
      "displayName": "Raghav Gupta",
      "photoUrl": "https://lh3.googleusercontent.com/a-/AOh14GgorRHrSE1zI37pb0V-75_DSV7fl1tftsSDhWzRKw=s64",
      "userId": "06994152693423055583"
     },
     "user_tz": -330
    },
    "id": "zWWWBS2rOT8o",
    "outputId": "c40bc38b-f9cb-464d-f132-fbdf60e5a45a"
   },
   "outputs": [
    {
     "data": {
      "text/plain": [
       "0.8192182410423453"
      ]
     },
     "execution_count": 94,
     "metadata": {},
     "output_type": "execute_result"
    }
   ],
   "source": [
    "#Train Data Accuracy\n",
    "cart_train_acc=best_grid_CART.score(X_train,train_labels)\n",
    "cart_train_acc"
   ]
  },
  {
   "cell_type": "markdown",
   "metadata": {
    "id": "lo_2igQ2OT8p"
   },
   "source": [
    "#### Model score for the Testing Data"
   ]
  },
  {
   "cell_type": "code",
   "execution_count": 95,
   "metadata": {
    "executionInfo": {
     "elapsed": 188196,
     "status": "ok",
     "timestamp": 1617214815087,
     "user": {
      "displayName": "Raghav Gupta",
      "photoUrl": "https://lh3.googleusercontent.com/a-/AOh14GgorRHrSE1zI37pb0V-75_DSV7fl1tftsSDhWzRKw=s64",
      "userId": "06994152693423055583"
     },
     "user_tz": -330
    },
    "id": "q0yJBMvVOT8p"
   },
   "outputs": [],
   "source": [
    "#Test Data Accuracy\n",
    "# cart_test_acc=best_grid.score(X_test,test_labels)\n",
    "# cart_test_acc"
   ]
  },
  {
   "cell_type": "markdown",
   "metadata": {
    "id": "TacP2-LfOT8q"
   },
   "source": [
    "### Measuring AUC-ROC Curve"
   ]
  },
  {
   "cell_type": "code",
   "execution_count": 96,
   "metadata": {
    "executionInfo": {
     "elapsed": 187770,
     "status": "ok",
     "timestamp": 1617214815089,
     "user": {
      "displayName": "Raghav Gupta",
      "photoUrl": "https://lh3.googleusercontent.com/a-/AOh14GgorRHrSE1zI37pb0V-75_DSV7fl1tftsSDhWzRKw=s64",
      "userId": "06994152693423055583"
     },
     "user_tz": -330
    },
    "id": "cd9qmRdTOT8q"
   },
   "outputs": [],
   "source": [
    "from sklearn.metrics import roc_auc_score\n",
    "from sklearn.metrics import roc_curve"
   ]
  },
  {
   "cell_type": "code",
   "execution_count": 97,
   "metadata": {
    "executionInfo": {
     "elapsed": 187525,
     "status": "ok",
     "timestamp": 1617214815091,
     "user": {
      "displayName": "Raghav Gupta",
      "photoUrl": "https://lh3.googleusercontent.com/a-/AOh14GgorRHrSE1zI37pb0V-75_DSV7fl1tftsSDhWzRKw=s64",
      "userId": "06994152693423055583"
     },
     "user_tz": -330
    },
    "id": "CZ7mu5_ROT8r"
   },
   "outputs": [],
   "source": [
    "# creating user define function for calculating AUC and plotting the ROC curve\n",
    "def calc_AUC_ROC_curve(probs,labels):\n",
    "    # keep probabilities for the positive outcome only\n",
    "    probs = probs[:, 1]\n",
    "    # calculate AUC   \n",
    "    auc = roc_auc_score(labels, probs)\n",
    "    print('AUC: %.3f' % auc)\n",
    "    # calculate roc curve   \n",
    "    fpr, tpr, thresholds = roc_curve(labels, probs)\n",
    "    plt.plot([0, 1], [0, 1], linestyle='--')\n",
    "    # plot the roc curve for the model\n",
    "    plt.plot(fpr, tpr, marker='.')\n",
    "    plt.title('ROC Curve')\n",
    "    plt.xlabel('False Positive Rate')\n",
    "    plt.ylabel('True Positive Rate')\n",
    "    # show the plot\n",
    "    plt.show()\n",
    "    return auc,fpr, tpr, thresholds"
   ]
  },
  {
   "cell_type": "markdown",
   "metadata": {
    "id": "OElyJIf0OT8r"
   },
   "source": [
    "#### AUC and ROC for the training data"
   ]
  },
  {
   "cell_type": "code",
   "execution_count": 98,
   "metadata": {
    "colab": {
     "base_uri": "https://localhost:8080/",
     "height": 312
    },
    "executionInfo": {
     "elapsed": 187061,
     "status": "ok",
     "timestamp": 1617214815092,
     "user": {
      "displayName": "Raghav Gupta",
      "photoUrl": "https://lh3.googleusercontent.com/a-/AOh14GgorRHrSE1zI37pb0V-75_DSV7fl1tftsSDhWzRKw=s64",
      "userId": "06994152693423055583"
     },
     "user_tz": -330
    },
    "id": "WNP_XtHzOT8s",
    "outputId": "92766db4-c318-4920-e2d1-e956a200fc59"
   },
   "outputs": [
    {
     "name": "stdout",
     "output_type": "stream",
     "text": [
      "AUC: 0.738\n"
     ]
    },
    {
     "data": {
      "image/png": "[encoded data removed]",
      "text/plain": [
       "<Figure size 432x288 with 1 Axes>"
      ]
     },
     "metadata": {
      "needs_background": "light"
     },
     "output_type": "display_data"
    }
   ],
   "source": [
    "probs = best_grid_CART.predict_proba(X_train)\n",
    "cart_train_auc,cart_train_fpr, cart_train_tpr, cart_train_thresholds=calc_AUC_ROC_curve(probs,train_labels)"
   ]
  },
  {
   "cell_type": "markdown",
   "metadata": {
    "id": "LKtxInBWOT8s"
   },
   "source": [
    "#### AUC and ROC for the test data"
   ]
  },
  {
   "cell_type": "code",
   "execution_count": 99,
   "metadata": {
    "executionInfo": {
     "elapsed": 186625,
     "status": "ok",
     "timestamp": 1617214815098,
     "user": {
      "displayName": "Raghav Gupta",
      "photoUrl": "https://lh3.googleusercontent.com/a-/AOh14GgorRHrSE1zI37pb0V-75_DSV7fl1tftsSDhWzRKw=s64",
      "userId": "06994152693423055583"
     },
     "user_tz": -330
    },
    "id": "lby99218OT8u"
   },
   "outputs": [],
   "source": [
    "# probs = best_grid_CART.predict_proba(X_test)\n",
    "# cart_test_auc,cart_test_fpr, cart_test_tpr, cart_test_thresholds=calc_AUC_ROC_curve(probs,test_labels)"
   ]
  },
  {
   "cell_type": "markdown",
   "metadata": {
    "id": "_x6t7bC9OT8u"
   },
   "source": [
    "### Confusion Matrix for the Training data"
   ]
  },
  {
   "cell_type": "code",
   "execution_count": 100,
   "metadata": {
    "executionInfo": {
     "elapsed": 186177,
     "status": "ok",
     "timestamp": 1617214815101,
     "user": {
      "displayName": "Raghav Gupta",
      "photoUrl": "https://lh3.googleusercontent.com/a-/AOh14GgorRHrSE1zI37pb0V-75_DSV7fl1tftsSDhWzRKw=s64",
      "userId": "06994152693423055583"
     },
     "user_tz": -330
    },
    "id": "1tBTxgZ6OT8v"
   },
   "outputs": [],
   "source": [
    "from sklearn.metrics import classification_report,confusion_matrix"
   ]
  },
  {
   "cell_type": "code",
   "execution_count": 101,
   "metadata": {
    "colab": {
     "base_uri": "https://localhost:8080/",
     "height": 295
    },
    "executionInfo": {
     "elapsed": 185926,
     "status": "ok",
     "timestamp": 1617214815102,
     "user": {
      "displayName": "Raghav Gupta",
      "photoUrl": "https://lh3.googleusercontent.com/a-/AOh14GgorRHrSE1zI37pb0V-75_DSV7fl1tftsSDhWzRKw=s64",
      "userId": "06994152693423055583"
     },
     "user_tz": -330
    },
    "id": "2sxMG8p0OT8v",
    "outputId": "a4adbbc8-cae2-43fd-9294-0692903cb6ea"
   },
   "outputs": [
    {
     "data": {
      "image/png": "[encoded data removed]",
      "text/plain": [
       "<Figure size 432x288 with 1 Axes>"
      ]
     },
     "metadata": {
      "needs_background": "light"
     },
     "output_type": "display_data"
    }
   ],
   "source": [
    "sns.heatmap(confusion_matrix(train_labels, ytrain_predict_CART), annot =True, cmap='YlGnBu', fmt='d', cbar =False).set(Title='Confusion Matrix of Training Data',xlabel='Predicted Label', ylabel='Actual Label');"
   ]
  },
  {
   "cell_type": "markdown",
   "metadata": {
    "id": "gJeYqmjJOT8w"
   },
   "source": [
    "#### Classification Report for Training data"
   ]
  },
  {
   "cell_type": "code",
   "execution_count": 102,
   "metadata": {
    "colab": {
     "base_uri": "https://localhost:8080/"
    },
    "executionInfo": {
     "elapsed": 185568,
     "status": "ok",
     "timestamp": 1617214815105,
     "user": {
      "displayName": "Raghav Gupta",
      "photoUrl": "https://lh3.googleusercontent.com/a-/AOh14GgorRHrSE1zI37pb0V-75_DSV7fl1tftsSDhWzRKw=s64",
      "userId": "06994152693423055583"
     },
     "user_tz": -330
    },
    "id": "KftiZLlCOT8w",
    "outputId": "5ace3a3f-3f48-4c92-c014-4645bcf7e841"
   },
   "outputs": [
    {
     "name": "stdout",
     "output_type": "stream",
     "text": [
      "              precision    recall  f1-score   support\n",
      "\n",
      "           0       0.86      0.51      0.64       192\n",
      "           1       0.81      0.96      0.88       422\n",
      "\n",
      "    accuracy                           0.82       614\n",
      "   macro avg       0.83      0.73      0.76       614\n",
      "weighted avg       0.83      0.82      0.80       614\n",
      "\n"
     ]
    }
   ],
   "source": [
    "print (classification_report(train_labels,ytrain_predict_CART))"
   ]
  },
  {
   "cell_type": "code",
   "execution_count": 103,
   "metadata": {
    "colab": {
     "base_uri": "https://localhost:8080/"
    },
    "executionInfo": {
     "elapsed": 185312,
     "status": "ok",
     "timestamp": 1617214815109,
     "user": {
      "displayName": "Raghav Gupta",
      "photoUrl": "https://lh3.googleusercontent.com/a-/AOh14GgorRHrSE1zI37pb0V-75_DSV7fl1tftsSDhWzRKw=s64",
      "userId": "06994152693423055583"
     },
     "user_tz": -330
    },
    "id": "FCDoDj-COT8x",
    "outputId": "7b6453fb-526a-4f60-8be5-e0d89a0ff146"
   },
   "outputs": [
    {
     "name": "stdout",
     "output_type": "stream",
     "text": [
      "cart_train_precision  0.81\n",
      "cart_train_recall  0.96\n",
      "cart_train_f1  0.88\n"
     ]
    }
   ],
   "source": [
    "cart_metrics=classification_report(train_labels, ytrain_predict_CART,output_dict=True)\n",
    "df2_metrics=pd.DataFrame(cart_metrics).transpose()\n",
    "cart_train_f1=round(df2_metrics.loc[\"1\"][2],2)\n",
    "cart_train_recall=round(df2_metrics.loc[\"1\"][1],2)\n",
    "cart_train_precision=round(df2_metrics.loc[\"1\"][0],2)\n",
    "print ('cart_train_precision ',cart_train_precision)\n",
    "print ('cart_train_recall ',cart_train_recall)\n",
    "print ('cart_train_f1 ',cart_train_f1)"
   ]
  },
  {
   "cell_type": "markdown",
   "metadata": {
    "id": "7O-6vR_OOT8x"
   },
   "source": [
    "### Confusion Matrix for the Testing data"
   ]
  },
  {
   "cell_type": "code",
   "execution_count": 104,
   "metadata": {
    "executionInfo": {
     "elapsed": 184961,
     "status": "ok",
     "timestamp": 1617214815112,
     "user": {
      "displayName": "Raghav Gupta",
      "photoUrl": "https://lh3.googleusercontent.com/a-/AOh14GgorRHrSE1zI37pb0V-75_DSV7fl1tftsSDhWzRKw=s64",
      "userId": "06994152693423055583"
     },
     "user_tz": -330
    },
    "id": "5wb5vBcgOT8y"
   },
   "outputs": [],
   "source": [
    "# sns.heatmap(confusion_matrix(test_labels, ytest_predict_CART), annot =True, cmap='YlGnBu', fmt='d', cbar =False).set(Title='Confusion Matrix of Testing Data',xlabel='Predicted Label', ylabel='Actual Label');"
   ]
  },
  {
   "cell_type": "markdown",
   "metadata": {
    "id": "Eg6vkufiOT8y"
   },
   "source": [
    "#### Classification Report for Testing data"
   ]
  },
  {
   "cell_type": "code",
   "execution_count": 105,
   "metadata": {
    "executionInfo": {
     "elapsed": 184496,
     "status": "ok",
     "timestamp": 1617214815117,
     "user": {
      "displayName": "Raghav Gupta",
      "photoUrl": "https://lh3.googleusercontent.com/a-/AOh14GgorRHrSE1zI37pb0V-75_DSV7fl1tftsSDhWzRKw=s64",
      "userId": "06994152693423055583"
     },
     "user_tz": -330
    },
    "id": "0Muvt7qNOT8y"
   },
   "outputs": [],
   "source": [
    "# print (classification_report(test_labels,ytest_predict_CART))"
   ]
  },
  {
   "cell_type": "code",
   "execution_count": 106,
   "metadata": {
    "executionInfo": {
     "elapsed": 184246,
     "status": "ok",
     "timestamp": 1617214815118,
     "user": {
      "displayName": "Raghav Gupta",
      "photoUrl": "https://lh3.googleusercontent.com/a-/AOh14GgorRHrSE1zI37pb0V-75_DSV7fl1tftsSDhWzRKw=s64",
      "userId": "06994152693423055583"
     },
     "user_tz": -330
    },
    "id": "vCbLPBMfOT8y"
   },
   "outputs": [],
   "source": [
    "# cart_metrics=classification_report(test_labels, ytest_predict_CART,output_dict=True)\n",
    "# df2_metrics=pd.DataFrame(cart_metrics).transpose()\n",
    "# cart_test_precision=round(df2_metrics.loc[\"1\"][0],2)\n",
    "# cart_test_recall=round(df2_metrics.loc[\"1\"][1],2)\n",
    "# cart_test_f1=round(df2_metrics.loc[\"1\"][2],2)\n",
    "# print ('cart_test_precision ',cart_test_precision)\n",
    "# print ('cart_test_recall ',cart_test_recall)\n",
    "# print ('cart_test_f1 ',cart_test_f1)"
   ]
  },
  {
   "cell_type": "markdown",
   "metadata": {
    "id": "ESK9UcE0OT8z"
   },
   "source": [
    "### CART Conclusion"
   ]
  },
  {
   "cell_type": "markdown",
   "metadata": {
    "id": "lWb-156sOT8z"
   },
   "source": []
  },
  {
   "cell_type": "markdown",
   "metadata": {
    "id": "ndCqIi8sOT8z"
   },
   "source": [
    "# Ensemble RandomForest Classifier"
   ]
  },
  {
   "cell_type": "code",
   "execution_count": 111,
   "metadata": {
    "executionInfo": {
     "elapsed": 183449,
     "status": "ok",
     "timestamp": 1617214815120,
     "user": {
      "displayName": "Raghav Gupta",
      "photoUrl": "https://lh3.googleusercontent.com/a-/AOh14GgorRHrSE1zI37pb0V-75_DSV7fl1tftsSDhWzRKw=s64",
      "userId": "06994152693423055583"
     },
     "user_tz": -330
    },
    "id": "NQrTL6cmOT80"
   },
   "outputs": [],
   "source": [
    "from sklearn.ensemble import RandomForestClassifier"
   ]
  },
  {
   "cell_type": "code",
   "execution_count": 112,
   "metadata": {
    "executionInfo": {
     "elapsed": 183211,
     "status": "ok",
     "timestamp": 1617214815121,
     "user": {
      "displayName": "Raghav Gupta",
      "photoUrl": "https://lh3.googleusercontent.com/a-/AOh14GgorRHrSE1zI37pb0V-75_DSV7fl1tftsSDhWzRKw=s64",
      "userId": "06994152693423055583"
     },
     "user_tz": -330
    },
    "id": "s31Qh7ayOT80"
   },
   "outputs": [],
   "source": [
    "rfcl = RandomForestClassifier(random_state=1)"
   ]
  },
  {
   "cell_type": "code",
   "execution_count": 113,
   "metadata": {
    "colab": {
     "base_uri": "https://localhost:8080/"
    },
    "executionInfo": {
     "elapsed": 210551,
     "status": "ok",
     "timestamp": 1617214842741,
     "user": {
      "displayName": "Raghav Gupta",
      "photoUrl": "https://lh3.googleusercontent.com/a-/AOh14GgorRHrSE1zI37pb0V-75_DSV7fl1tftsSDhWzRKw=s64",
      "userId": "06994152693423055583"
     },
     "user_tz": -330
    },
    "id": "_Vcb3sVqOT81",
    "outputId": "5feee125-655b-416b-f5e4-da5f057925fc"
   },
   "outputs": [
    {
     "name": "stdout",
     "output_type": "stream",
     "text": [
      "\n",
      " Running grid search\n",
      "\n",
      "\n",
      " Showing best parameters for the grid search\n",
      "\n",
      "{'max_depth': 6, 'max_features': 10, 'min_samples_leaf': 36, 'min_samples_split': 170, 'n_estimators': 501}\n",
      "\n",
      " Classification Report for Train dataset\n",
      "\n",
      "              precision    recall  f1-score   support\n",
      "\n",
      "           0       0.92      0.43      0.58       192\n",
      "           1       0.79      0.98      0.88       422\n",
      "\n",
      "    accuracy                           0.81       614\n",
      "   macro avg       0.86      0.71      0.73       614\n",
      "weighted avg       0.83      0.81      0.78       614\n",
      "\n",
      "\n",
      " Classification Report for Validate dataset\n",
      "\n",
      "              precision    recall  f1-score   support\n",
      "\n",
      "           0       0.92      0.39      0.55        61\n",
      "           1       0.77      0.98      0.86       124\n",
      "\n",
      "    accuracy                           0.79       185\n",
      "   macro avg       0.85      0.69      0.71       185\n",
      "weighted avg       0.82      0.79      0.76       185\n",
      "\n"
     ]
    }
   ],
   "source": [
    "cv_value=3\n",
    "param_grid = {\n",
    "    'max_depth': [6, 10],\n",
    "    'max_features': [5, 10],\n",
    "    'min_samples_leaf': [36, 50],\n",
    "    'min_samples_split': [140, 170],\n",
    "    'n_estimators': [501]\n",
    "}\n",
    "\n",
    "grid_search = run_gridsearch(rfcl,param_grid,X_train, train_labels,cv_value)\n",
    "\n",
    "check_performance(grid_search,X_train, X_validate, train_labels,validate_labels)"
   ]
  },
  {
   "cell_type": "code",
   "execution_count": 114,
   "metadata": {
    "colab": {
     "base_uri": "https://localhost:8080/"
    },
    "executionInfo": {
     "elapsed": 238091,
     "status": "ok",
     "timestamp": 1617214870526,
     "user": {
      "displayName": "Raghav Gupta",
      "photoUrl": "https://lh3.googleusercontent.com/a-/AOh14GgorRHrSE1zI37pb0V-75_DSV7fl1tftsSDhWzRKw=s64",
      "userId": "06994152693423055583"
     },
     "user_tz": -330
    },
    "id": "AY1PFFgWOT81",
    "outputId": "2ad32a68-a515-4acc-b173-3beb63a4d1f2"
   },
   "outputs": [
    {
     "name": "stdout",
     "output_type": "stream",
     "text": [
      "\n",
      " Running grid search\n",
      "\n",
      "\n",
      " Showing best parameters for the grid search\n",
      "\n",
      "{'max_depth': 6, 'max_features': 7, 'min_samples_leaf': 36, 'min_samples_split': 130, 'n_estimators': 501}\n",
      "\n",
      " Classification Report for Train dataset\n",
      "\n",
      "              precision    recall  f1-score   support\n",
      "\n",
      "           0       0.92      0.43      0.58       192\n",
      "           1       0.79      0.98      0.88       422\n",
      "\n",
      "    accuracy                           0.81       614\n",
      "   macro avg       0.86      0.71      0.73       614\n",
      "weighted avg       0.83      0.81      0.78       614\n",
      "\n",
      "\n",
      " Classification Report for Validate dataset\n",
      "\n",
      "              precision    recall  f1-score   support\n",
      "\n",
      "           0       0.92      0.39      0.55        61\n",
      "           1       0.77      0.98      0.86       124\n",
      "\n",
      "    accuracy                           0.79       185\n",
      "   macro avg       0.85      0.69      0.71       185\n",
      "weighted avg       0.82      0.79      0.76       185\n",
      "\n"
     ]
    }
   ],
   "source": [
    "param_grid = {\n",
    "    'max_depth': [6,7],\n",
    "    'max_features': [6, 7],\n",
    "    'min_samples_leaf': [36,46],\n",
    "    'min_samples_split': [130,135],\n",
    "    'n_estimators': [501]\n",
    "}\n",
    "grid_search = run_gridsearch(rfcl,param_grid,X_train, train_labels,cv_value)\n",
    "check_performance(grid_search,X_train, X_validate, train_labels,validate_labels)"
   ]
  },
  {
   "cell_type": "code",
   "execution_count": 115,
   "metadata": {
    "colab": {
     "base_uri": "https://localhost:8080/"
    },
    "executionInfo": {
     "elapsed": 289708,
     "status": "ok",
     "timestamp": 1617214922371,
     "user": {
      "displayName": "Raghav Gupta",
      "photoUrl": "https://lh3.googleusercontent.com/a-/AOh14GgorRHrSE1zI37pb0V-75_DSV7fl1tftsSDhWzRKw=s64",
      "userId": "06994152693423055583"
     },
     "user_tz": -330
    },
    "id": "CwPJvjkAOT81",
    "outputId": "5e4cc5c8-9e86-4a81-fdb9-9f071a816eb7"
   },
   "outputs": [
    {
     "name": "stdout",
     "output_type": "stream",
     "text": [
      "\n",
      " Running grid search\n",
      "\n",
      "\n",
      " Showing best parameters for the grid search\n",
      "\n",
      "{'max_depth': 4, 'max_features': 5, 'min_samples_leaf': 2, 'min_samples_split': 35, 'n_estimators': 500, 'oob_score': True}\n",
      "\n",
      " Classification Report for Train dataset\n",
      "\n",
      "              precision    recall  f1-score   support\n",
      "\n",
      "           0       0.89      0.49      0.64       192\n",
      "           1       0.81      0.97      0.88       422\n",
      "\n",
      "    accuracy                           0.82       614\n",
      "   macro avg       0.85      0.73      0.76       614\n",
      "weighted avg       0.83      0.82      0.81       614\n",
      "\n",
      "\n",
      " Classification Report for Validate dataset\n",
      "\n",
      "              precision    recall  f1-score   support\n",
      "\n",
      "           0       0.91      0.48      0.62        61\n",
      "           1       0.79      0.98      0.87       124\n",
      "\n",
      "    accuracy                           0.81       185\n",
      "   macro avg       0.85      0.73      0.75       185\n",
      "weighted avg       0.83      0.81      0.79       185\n",
      "\n"
     ]
    }
   ],
   "source": [
    "param_grid = {\n",
    "    'max_depth': [4,5,6],\n",
    "    'max_features': [4,5],\n",
    "    'min_samples_leaf': [2,4],\n",
    "    'min_samples_split': [30,35],\n",
    "    'oob_score': [True],\n",
    "    'n_estimators': [500]\n",
    "}\n",
    "grid_search = run_gridsearch(rfcl,param_grid,X_train, train_labels,cv_value)\n",
    "check_performance(grid_search,X_train, X_validate, train_labels,validate_labels)"
   ]
  },
  {
   "cell_type": "markdown",
   "metadata": {
    "id": "xmt-Yv2-OT82"
   },
   "source": [
    "After several trials, we are not getting any better results from the model. So we are stopping here"
   ]
  },
  {
   "cell_type": "markdown",
   "metadata": {
    "id": "6LM9qD1VOT82"
   },
   "source": [
    "#### Saving the results of best search grid "
   ]
  },
  {
   "cell_type": "code",
   "execution_count": 116,
   "metadata": {
    "executionInfo": {
     "elapsed": 289110,
     "status": "ok",
     "timestamp": 1617214922374,
     "user": {
      "displayName": "Raghav Gupta",
      "photoUrl": "https://lh3.googleusercontent.com/a-/AOh14GgorRHrSE1zI37pb0V-75_DSV7fl1tftsSDhWzRKw=s64",
      "userId": "06994152693423055583"
     },
     "user_tz": -330
    },
    "id": "yzrfeEE5OT83"
   },
   "outputs": [],
   "source": [
    "best_grid_RF = grid_search.best_estimator_\n",
    "ytrain_predict_RF = best_grid_RF.predict(X_train)\n",
    "ytest_predict_RF = best_grid_RF.predict(X_test)\n"
   ]
  },
  {
   "cell_type": "code",
   "execution_count": 117,
   "metadata": {
    "colab": {
     "base_uri": "https://localhost:8080/"
    },
    "executionInfo": {
     "elapsed": 288854,
     "status": "ok",
     "timestamp": 1617214922376,
     "user": {
      "displayName": "Raghav Gupta",
      "photoUrl": "https://lh3.googleusercontent.com/a-/AOh14GgorRHrSE1zI37pb0V-75_DSV7fl1tftsSDhWzRKw=s64",
      "userId": "06994152693423055583"
     },
     "user_tz": -330
    },
    "id": "0bWCgX6HOT83",
    "outputId": "e55fcab4-0b94-49a5-9a1f-cd77ab13a78c"
   },
   "outputs": [
    {
     "data": {
      "text/plain": [
       "array([1, 1, 1, 1, 1, 1, 1, 0, 1, 1, 1, 0, 1, 0, 1, 1, 1, 1, 1, 1, 1, 1,\n",
       "       1, 1, 1, 0, 1, 1, 1, 1, 1, 1, 1, 1, 1, 0, 1, 1, 1, 1, 1, 1, 1, 1,\n",
       "       1, 1, 1, 1, 1, 1, 1, 1, 1, 1, 1, 0, 1, 1, 0, 1, 1, 1, 1, 0, 1, 1,\n",
       "       0, 0, 1, 0, 1, 1, 1, 0, 1, 1, 1, 1, 1, 1, 0, 1, 0, 1, 0, 1, 1, 1,\n",
       "       1, 0, 1, 1, 1, 1, 0, 1, 1, 1, 1, 1, 1, 0, 1, 1, 1, 0, 0, 1, 1, 1,\n",
       "       1, 1, 1, 1, 1, 1, 0, 0, 0, 0, 1, 1, 1, 0, 0, 1, 0, 1, 1, 1, 1, 0,\n",
       "       1, 1, 1, 1, 1, 1, 1, 1, 0, 1, 0, 1, 1, 1, 1, 0, 1, 1, 1, 1, 1, 0,\n",
       "       1, 1, 1, 1, 1, 1, 1, 0, 1, 1, 1, 0, 0, 1, 0, 1, 1, 1, 1, 0, 0, 1,\n",
       "       1, 1, 1, 1, 1, 1, 1, 1, 1, 1, 1, 1, 1, 1, 1, 1, 0, 0, 1, 1, 0, 1,\n",
       "       0, 1, 1, 1, 1, 1, 1, 1, 1, 1, 1, 1, 1, 0, 1, 1, 1, 1, 1, 1, 1, 1,\n",
       "       1, 1, 1, 1, 0, 1, 1, 1, 1, 0, 1, 1, 1, 1, 1, 0, 0, 1, 1, 1, 1, 0,\n",
       "       1, 0, 1, 0, 1, 1, 1, 1, 0, 1, 1, 1, 1, 0, 1, 1, 1, 1, 1, 1, 1, 1,\n",
       "       0, 1, 0, 1, 0, 1, 1, 1, 1, 0, 0, 1, 1, 1, 0, 1, 1, 1, 1, 1, 1, 1,\n",
       "       1, 1, 1, 1, 1, 1, 1, 0, 1, 1, 1, 1, 1, 1, 1, 0, 1, 1, 1, 0, 1, 1,\n",
       "       1, 1, 1, 0, 1, 1, 1, 1, 1, 0, 1, 1, 1, 0, 1, 1, 1, 0, 1, 1, 1, 1,\n",
       "       1, 1, 1, 1, 1, 1, 1, 1, 1, 0, 1, 1, 1, 1, 1, 1, 0, 1, 1, 0, 1, 1,\n",
       "       1, 1, 0, 1, 1, 1, 1, 1, 1, 1, 1, 1, 1, 1, 1], dtype=int8)"
      ]
     },
     "execution_count": 117,
     "metadata": {
      "tags": []
     },
     "output_type": "execute_result"
    }
   ],
   "source": [
    "ytest_predict_RF"
   ]
  },
  {
   "cell_type": "code",
   "execution_count": 118,
   "metadata": {
    "colab": {
     "base_uri": "https://localhost:8080/"
    },
    "executionInfo": {
     "elapsed": 288611,
     "status": "ok",
     "timestamp": 1617214922378,
     "user": {
      "displayName": "Raghav Gupta",
      "photoUrl": "https://lh3.googleusercontent.com/a-/AOh14GgorRHrSE1zI37pb0V-75_DSV7fl1tftsSDhWzRKw=s64",
      "userId": "06994152693423055583"
     },
     "user_tz": -330
    },
    "id": "PX-KlnVDOT84",
    "outputId": "efaff95d-a33e-4571-f6c0-f330ba8c6d59"
   },
   "outputs": [
    {
     "data": {
      "text/plain": [
       "(367,)"
      ]
     },
     "execution_count": 118,
     "metadata": {
      "tags": []
     },
     "output_type": "execute_result"
    }
   ],
   "source": [
    "ytest_predict_RF.shape"
   ]
  },
  {
   "cell_type": "code",
   "execution_count": 119,
   "metadata": {
    "executionInfo": {
     "elapsed": 288379,
     "status": "ok",
     "timestamp": 1617214922380,
     "user": {
      "displayName": "Raghav Gupta",
      "photoUrl": "https://lh3.googleusercontent.com/a-/AOh14GgorRHrSE1zI37pb0V-75_DSV7fl1tftsSDhWzRKw=s64",
      "userId": "06994152693423055583"
     },
     "user_tz": -330
    },
    "id": "nL3dgCK9OT84"
   },
   "outputs": [],
   "source": [
    "df_test_bkp[\"Loan_Status\"] = ytest_predict_RF"
   ]
  },
  {
   "cell_type": "code",
   "execution_count": 120,
   "metadata": {
    "executionInfo": {
     "elapsed": 288281,
     "status": "ok",
     "timestamp": 1617214922383,
     "user": {
      "displayName": "Raghav Gupta",
      "photoUrl": "https://lh3.googleusercontent.com/a-/AOh14GgorRHrSE1zI37pb0V-75_DSV7fl1tftsSDhWzRKw=s64",
      "userId": "06994152693423055583"
     },
     "user_tz": -330
    },
    "id": "PeS3gnxEOT85"
   },
   "outputs": [],
   "source": [
    "df_test_bkp.Loan_Status = df_test_bkp.Loan_Status.replace(to_replace = 0, value ='N')\n",
    "df_test_bkp.Loan_Status = df_test_bkp.Loan_Status.replace(to_replace = 1, value ='Y')"
   ]
  },
  {
   "cell_type": "code",
   "execution_count": 121,
   "metadata": {
    "executionInfo": {
     "elapsed": 288033,
     "status": "ok",
     "timestamp": 1617214922384,
     "user": {
      "displayName": "Raghav Gupta",
      "photoUrl": "https://lh3.googleusercontent.com/a-/AOh14GgorRHrSE1zI37pb0V-75_DSV7fl1tftsSDhWzRKw=s64",
      "userId": "06994152693423055583"
     },
     "user_tz": -330
    },
    "id": "Ft4GWYJJOT85"
   },
   "outputs": [],
   "source": [
    "df_test_bkp[[\"Loan_ID\",\"Loan_Status\"]].to_csv('Practice_Hackathon_Loan_Raghav_submission2.csv',index=False)"
   ]
  },
  {
   "cell_type": "markdown",
   "metadata": {
    "id": "n7cAw5HFOT86"
   },
   "source": [
    "### Variable Importance"
   ]
  },
  {
   "cell_type": "code",
   "execution_count": 122,
   "metadata": {
    "colab": {
     "base_uri": "https://localhost:8080/",
     "height": 359
    },
    "executionInfo": {
     "elapsed": 287566,
     "status": "ok",
     "timestamp": 1617214922386,
     "user": {
      "displayName": "Raghav Gupta",
      "photoUrl": "https://lh3.googleusercontent.com/a-/AOh14GgorRHrSE1zI37pb0V-75_DSV7fl1tftsSDhWzRKw=s64",
      "userId": "06994152693423055583"
     },
     "user_tz": -330
    },
    "id": "Ilf1xSxnOT86",
    "outputId": "068951e7-6f47-47bb-eda7-c7d4da30fde5"
   },
   "outputs": [
    {
     "data": {
      "text/html": [
       "<div>\n",
       "<style scoped>\n",
       "    .dataframe tbody tr th:only-of-type {\n",
       "        vertical-align: middle;\n",
       "    }\n",
       "\n",
       "    .dataframe tbody tr th {\n",
       "        vertical-align: top;\n",
       "    }\n",
       "\n",
       "    .dataframe thead th {\n",
       "        text-align: right;\n",
       "    }\n",
       "</style>\n",
       "<table border=\"1\" class=\"dataframe\">\n",
       "  <thead>\n",
       "    <tr style=\"text-align: right;\">\n",
       "      <th></th>\n",
       "      <th>Important Feature</th>\n",
       "    </tr>\n",
       "  </thead>\n",
       "  <tbody>\n",
       "    <tr>\n",
       "      <th>Credit_History</th>\n",
       "      <td>71.056987</td>\n",
       "    </tr>\n",
       "    <tr>\n",
       "      <th>total_income_by_loanAmt</th>\n",
       "      <td>14.000802</td>\n",
       "    </tr>\n",
       "    <tr>\n",
       "      <th>ApplicantIncome_by_loanAmt</th>\n",
       "      <td>5.747069</td>\n",
       "    </tr>\n",
       "    <tr>\n",
       "      <th>EMI</th>\n",
       "      <td>4.733626</td>\n",
       "    </tr>\n",
       "    <tr>\n",
       "      <th>Property_Area</th>\n",
       "      <td>1.986969</td>\n",
       "    </tr>\n",
       "    <tr>\n",
       "      <th>Married</th>\n",
       "      <td>1.249537</td>\n",
       "    </tr>\n",
       "    <tr>\n",
       "      <th>Dependents</th>\n",
       "      <td>0.611901</td>\n",
       "    </tr>\n",
       "    <tr>\n",
       "      <th>Education</th>\n",
       "      <td>0.449443</td>\n",
       "    </tr>\n",
       "    <tr>\n",
       "      <th>Gender</th>\n",
       "      <td>0.122393</td>\n",
       "    </tr>\n",
       "    <tr>\n",
       "      <th>Self_Employed</th>\n",
       "      <td>0.041273</td>\n",
       "    </tr>\n",
       "  </tbody>\n",
       "</table>\n",
       "</div>"
      ],
      "text/plain": [
       "                            Important Feature\n",
       "Credit_History                      71.056987\n",
       "total_income_by_loanAmt             14.000802\n",
       "ApplicantIncome_by_loanAmt           5.747069\n",
       "EMI                                  4.733626\n",
       "Property_Area                        1.986969\n",
       "Married                              1.249537\n",
       "Dependents                           0.611901\n",
       "Education                            0.449443\n",
       "Gender                               0.122393\n",
       "Self_Employed                        0.041273"
      ]
     },
     "execution_count": 122,
     "metadata": {
      "tags": []
     },
     "output_type": "execute_result"
    }
   ],
   "source": [
    "df2_fi=pd.DataFrame(best_grid_RF.feature_importances_*100, columns = [\"Important Feature\"], index = X_train.columns).sort_values('Important Feature',ascending=False)\n",
    "df2_fi"
   ]
  },
  {
   "cell_type": "code",
   "execution_count": 123,
   "metadata": {
    "colab": {
     "base_uri": "https://localhost:8080/",
     "height": 404
    },
    "executionInfo": {
     "elapsed": 287254,
     "status": "ok",
     "timestamp": 1617214922387,
     "user": {
      "displayName": "Raghav Gupta",
      "photoUrl": "https://lh3.googleusercontent.com/a-/AOh14GgorRHrSE1zI37pb0V-75_DSV7fl1tftsSDhWzRKw=s64",
      "userId": "06994152693423055583"
     },
     "user_tz": -330
    },
    "id": "psT1iLUUOT87",
    "outputId": "b7ae081d-c085-43fd-a630-c3e990db8b5e"
   },
   "outputs": [
    {
     "data": {
      "image/png": "[encoded data removed]",
      "text/plain": [
       "<Figure size 720x432 with 1 Axes>"
      ]
     },
     "metadata": {
      "needs_background": "light",
      "tags": []
     },
     "output_type": "display_data"
    }
   ],
   "source": [
    "plt.figure(figsize=(10,6))\n",
    "plots=sns.barplot(data=df2_fi,x=\"Important Feature\",y=df2_fi.index,palette='rainbow')\n",
    "plt.ylabel('Feature Name')\n",
    "plt.xlabel('Feature Importance in %')\n",
    "plt.title('Feature Importance Plot as per RF')\n",
    "\n",
    "# Iterrating over the bars one-by-one \n",
    "for bar in plots.patches: \n",
    "      #print ('bar_width:', format(bar.get_width(), '.2f'),'bar_height:' , bar.get_height(), 'get_x:', bar.get_x() ,'get_y', bar.get_y() )\n",
    "      plots.annotate(format(bar.get_width(), '.2f'), (bar.get_width() , bar.get_y() + bar.get_height()/2),\n",
    "                   ha='center', va='center', \n",
    "                   size=10, xytext=(13, 0), \n",
    "                   textcoords='offset points') \n",
    "plt.show()"
   ]
  },
  {
   "cell_type": "markdown",
   "metadata": {
    "id": "-J3BjZU8OT88"
   },
   "source": [
    "#### As per this model, attributes like Type, Commission, Channel and Destination have no imortance in predicting the insurance claims"
   ]
  },
  {
   "cell_type": "markdown",
   "metadata": {
    "id": "3eoyA6hYOT88"
   },
   "source": [
    "## Model Evaluation"
   ]
  },
  {
   "cell_type": "markdown",
   "metadata": {
    "id": "5oeuM5JPOT89"
   },
   "source": [
    "### Model Score"
   ]
  },
  {
   "cell_type": "markdown",
   "metadata": {
    "id": "yNt3xcE9OT89"
   },
   "source": [
    "#### Model score for the Training Data"
   ]
  },
  {
   "cell_type": "code",
   "execution_count": 124,
   "metadata": {
    "colab": {
     "base_uri": "https://localhost:8080/"
    },
    "executionInfo": {
     "elapsed": 286222,
     "status": "ok",
     "timestamp": 1617214922388,
     "user": {
      "displayName": "Raghav Gupta",
      "photoUrl": "https://lh3.googleusercontent.com/a-/AOh14GgorRHrSE1zI37pb0V-75_DSV7fl1tftsSDhWzRKw=s64",
      "userId": "06994152693423055583"
     },
     "user_tz": -330
    },
    "id": "SGGJQAtsOT89",
    "outputId": "45027d80-44c8-464a-fcea-d5d962bfec3b"
   },
   "outputs": [
    {
     "data": {
      "text/plain": [
       "0.8224755700325733"
      ]
     },
     "execution_count": 124,
     "metadata": {
      "tags": []
     },
     "output_type": "execute_result"
    }
   ],
   "source": [
    "#Train Data Accuracy\n",
    "rf_train_acc=best_grid_RF.score(X_train,train_labels)\n",
    "rf_train_acc"
   ]
  },
  {
   "cell_type": "markdown",
   "metadata": {
    "id": "qLBfO8UAOT8-"
   },
   "source": [
    "#### Model score for the Testing Data"
   ]
  },
  {
   "cell_type": "code",
   "execution_count": 125,
   "metadata": {
    "executionInfo": {
     "elapsed": 285756,
     "status": "ok",
     "timestamp": 1617214922389,
     "user": {
      "displayName": "Raghav Gupta",
      "photoUrl": "https://lh3.googleusercontent.com/a-/AOh14GgorRHrSE1zI37pb0V-75_DSV7fl1tftsSDhWzRKw=s64",
      "userId": "06994152693423055583"
     },
     "user_tz": -330
    },
    "id": "OQ6_rX4mOT8_"
   },
   "outputs": [],
   "source": [
    "#Test Data Accuracy\n",
    "# rf_test_acc=best_grid.score(X_test,test_labels)\n",
    "# rf_test_acc"
   ]
  },
  {
   "cell_type": "markdown",
   "metadata": {
    "id": "HDsnV2xoOT8_"
   },
   "source": [
    "#### Out of Bag Score for Model"
   ]
  },
  {
   "cell_type": "code",
   "execution_count": 126,
   "metadata": {
    "colab": {
     "base_uri": "https://localhost:8080/"
    },
    "executionInfo": {
     "elapsed": 285229,
     "status": "ok",
     "timestamp": 1617214922390,
     "user": {
      "displayName": "Raghav Gupta",
      "photoUrl": "https://lh3.googleusercontent.com/a-/AOh14GgorRHrSE1zI37pb0V-75_DSV7fl1tftsSDhWzRKw=s64",
      "userId": "06994152693423055583"
     },
     "user_tz": -330
    },
    "id": "AO9HoHPROT9A",
    "outputId": "90f9d23e-6f42-425c-e492-859774816279"
   },
   "outputs": [
    {
     "name": "stdout",
     "output_type": "stream",
     "text": [
      "0.8175895765472313\n"
     ]
    }
   ],
   "source": [
    "print(best_grid_RF.oob_score_)"
   ]
  },
  {
   "cell_type": "markdown",
   "metadata": {
    "id": "24EcQtphOT9B"
   },
   "source": [
    "#### Error rate"
   ]
  },
  {
   "cell_type": "code",
   "execution_count": 127,
   "metadata": {
    "colab": {
     "base_uri": "https://localhost:8080/"
    },
    "executionInfo": {
     "elapsed": 284911,
     "status": "ok",
     "timestamp": 1617214922391,
     "user": {
      "displayName": "Raghav Gupta",
      "photoUrl": "https://lh3.googleusercontent.com/a-/AOh14GgorRHrSE1zI37pb0V-75_DSV7fl1tftsSDhWzRKw=s64",
      "userId": "06994152693423055583"
     },
     "user_tz": -330
    },
    "id": "kl5OgbwGOT9B",
    "outputId": "84cd2059-e91a-4cca-bb94-3f8ce2055c3f"
   },
   "outputs": [
    {
     "data": {
      "text/plain": [
       "18.24104234527687"
      ]
     },
     "execution_count": 127,
     "metadata": {
      "tags": []
     },
     "output_type": "execute_result"
    }
   ],
   "source": [
    "## What is the error rate\n",
    "(1-best_grid_RF.oob_score_)*100"
   ]
  },
  {
   "cell_type": "markdown",
   "metadata": {
    "id": "tT-6RsOIOT9C"
   },
   "source": [
    "### Measuring AUC-ROC Curve"
   ]
  },
  {
   "cell_type": "markdown",
   "metadata": {
    "id": "9jSPeKcuOT9C"
   },
   "source": [
    "#### AUC and ROC for the training data"
   ]
  },
  {
   "cell_type": "code",
   "execution_count": 128,
   "metadata": {
    "colab": {
     "base_uri": "https://localhost:8080/",
     "height": 312
    },
    "executionInfo": {
     "elapsed": 285172,
     "status": "ok",
     "timestamp": 1617214923394,
     "user": {
      "displayName": "Raghav Gupta",
      "photoUrl": "https://lh3.googleusercontent.com/a-/AOh14GgorRHrSE1zI37pb0V-75_DSV7fl1tftsSDhWzRKw=s64",
      "userId": "06994152693423055583"
     },
     "user_tz": -330
    },
    "id": "qKtbRKGoOT9D",
    "outputId": "6316d6a9-9df5-4462-8b6f-5dbbca0b8c9b"
   },
   "outputs": [
    {
     "name": "stdout",
     "output_type": "stream",
     "text": [
      "AUC: 0.868\n"
     ]
    },
    {
     "data": {
      "image/png": "[encoded data removed]",
      "text/plain": [
       "<Figure size 432x288 with 1 Axes>"
      ]
     },
     "metadata": {
      "needs_background": "light",
      "tags": []
     },
     "output_type": "display_data"
    }
   ],
   "source": [
    "probs = best_grid_RF.predict_proba(X_train)\n",
    "rf_train_auc,rf_train_fpr, rf_train_tpr,rf_train_threshholds=calc_AUC_ROC_curve(probs,train_labels)"
   ]
  },
  {
   "cell_type": "markdown",
   "metadata": {
    "id": "V30xPv2FOT9D"
   },
   "source": [
    "#### AUC and ROC for the test data"
   ]
  },
  {
   "cell_type": "code",
   "execution_count": 129,
   "metadata": {
    "executionInfo": {
     "elapsed": 284744,
     "status": "ok",
     "timestamp": 1617214923396,
     "user": {
      "displayName": "Raghav Gupta",
      "photoUrl": "https://lh3.googleusercontent.com/a-/AOh14GgorRHrSE1zI37pb0V-75_DSV7fl1tftsSDhWzRKw=s64",
      "userId": "06994152693423055583"
     },
     "user_tz": -330
    },
    "id": "TWKp7gwPOT9E"
   },
   "outputs": [],
   "source": [
    "# probs = best_grid.predict_proba(X_test)\n",
    "# rf_test_auc,rf_test_fpr, rf_test_tpr,rf_test_thresholds=calc_AUC_ROC_curve(probs,test_labels)"
   ]
  },
  {
   "cell_type": "markdown",
   "metadata": {
    "id": "KU31GTE2OT9E"
   },
   "source": [
    "### Confusion Matrix for the Training data"
   ]
  },
  {
   "cell_type": "code",
   "execution_count": 130,
   "metadata": {
    "executionInfo": {
     "elapsed": 284328,
     "status": "ok",
     "timestamp": 1617214923398,
     "user": {
      "displayName": "Raghav Gupta",
      "photoUrl": "https://lh3.googleusercontent.com/a-/AOh14GgorRHrSE1zI37pb0V-75_DSV7fl1tftsSDhWzRKw=s64",
      "userId": "06994152693423055583"
     },
     "user_tz": -330
    },
    "id": "q0hM0QsvOT9E"
   },
   "outputs": [],
   "source": [
    "from sklearn.metrics import classification_report,confusion_matrix"
   ]
  },
  {
   "cell_type": "code",
   "execution_count": 131,
   "metadata": {
    "colab": {
     "base_uri": "https://localhost:8080/",
     "height": 295
    },
    "executionInfo": {
     "elapsed": 284085,
     "status": "ok",
     "timestamp": 1617214923401,
     "user": {
      "displayName": "Raghav Gupta",
      "photoUrl": "https://lh3.googleusercontent.com/a-/AOh14GgorRHrSE1zI37pb0V-75_DSV7fl1tftsSDhWzRKw=s64",
      "userId": "06994152693423055583"
     },
     "user_tz": -330
    },
    "id": "wDx2h0eVOT9F",
    "outputId": "bce1203e-e7a6-4c04-b378-c18f151e3581"
   },
   "outputs": [
    {
     "data": {
      "image/png": "[encoded data removed]",
      "text/plain": [
       "<Figure size 432x288 with 1 Axes>"
      ]
     },
     "metadata": {
      "needs_background": "light",
      "tags": []
     },
     "output_type": "display_data"
    }
   ],
   "source": [
    "sns.heatmap(confusion_matrix(train_labels, ytrain_predict_RF), annot =True, cmap='YlGnBu', fmt='d', cbar =False).set(Title='Confusion Matrix of Training Data',xlabel='Predicted Label', ylabel='Actual Label');"
   ]
  },
  {
   "cell_type": "markdown",
   "metadata": {
    "id": "r83vPJKKOT9F"
   },
   "source": [
    "#### Classification Report for Training data"
   ]
  },
  {
   "cell_type": "code",
   "execution_count": 132,
   "metadata": {
    "colab": {
     "base_uri": "https://localhost:8080/"
    },
    "executionInfo": {
     "elapsed": 283611,
     "status": "ok",
     "timestamp": 1617214923403,
     "user": {
      "displayName": "Raghav Gupta",
      "photoUrl": "https://lh3.googleusercontent.com/a-/AOh14GgorRHrSE1zI37pb0V-75_DSV7fl1tftsSDhWzRKw=s64",
      "userId": "06994152693423055583"
     },
     "user_tz": -330
    },
    "id": "frLxG0JlOT9G",
    "outputId": "9ffc60ac-a64e-4fa6-877a-0305a8e98a26"
   },
   "outputs": [
    {
     "name": "stdout",
     "output_type": "stream",
     "text": [
      "              precision    recall  f1-score   support\n",
      "\n",
      "           0       0.89      0.49      0.64       192\n",
      "           1       0.81      0.97      0.88       422\n",
      "\n",
      "    accuracy                           0.82       614\n",
      "   macro avg       0.85      0.73      0.76       614\n",
      "weighted avg       0.83      0.82      0.81       614\n",
      "\n"
     ]
    }
   ],
   "source": [
    "print (classification_report(train_labels,ytrain_predict_RF))"
   ]
  },
  {
   "cell_type": "code",
   "execution_count": 133,
   "metadata": {
    "colab": {
     "base_uri": "https://localhost:8080/"
    },
    "executionInfo": {
     "elapsed": 283385,
     "status": "ok",
     "timestamp": 1617214923405,
     "user": {
      "displayName": "Raghav Gupta",
      "photoUrl": "https://lh3.googleusercontent.com/a-/AOh14GgorRHrSE1zI37pb0V-75_DSV7fl1tftsSDhWzRKw=s64",
      "userId": "06994152693423055583"
     },
     "user_tz": -330
    },
    "id": "18bJm4Q6OT9H",
    "outputId": "0c9844bf-e103-406b-9f95-c2738f3dd0de"
   },
   "outputs": [
    {
     "name": "stdout",
     "output_type": "stream",
     "text": [
      "rf_train_precision  0.81\n",
      "rf_train_recall  0.97\n",
      "rf_train_f1  0.88\n"
     ]
    }
   ],
   "source": [
    "rf_metrics=classification_report(train_labels, ytrain_predict_RF,output_dict=True)\n",
    "df2_metrics=pd.DataFrame(rf_metrics).transpose()\n",
    "rf_train_precision=round(df2_metrics.loc[\"1\"][0],2)\n",
    "rf_train_recall=round(df2_metrics.loc[\"1\"][1],2)\n",
    "rf_train_f1=round(df2_metrics.loc[\"1\"][2],2)\n",
    "print ('rf_train_precision ',rf_train_precision)\n",
    "print ('rf_train_recall ',rf_train_recall)\n",
    "print ('rf_train_f1 ',rf_train_f1)"
   ]
  },
  {
   "cell_type": "markdown",
   "metadata": {
    "id": "jfu0djTjOT9H"
   },
   "source": [
    "### Confusion Matrix for the Testing data"
   ]
  },
  {
   "cell_type": "code",
   "execution_count": 134,
   "metadata": {
    "executionInfo": {
     "elapsed": 282927,
     "status": "ok",
     "timestamp": 1617214923407,
     "user": {
      "displayName": "Raghav Gupta",
      "photoUrl": "https://lh3.googleusercontent.com/a-/AOh14GgorRHrSE1zI37pb0V-75_DSV7fl1tftsSDhWzRKw=s64",
      "userId": "06994152693423055583"
     },
     "user_tz": -330
    },
    "id": "SwinIqrjOT9I"
   },
   "outputs": [],
   "source": [
    "# sns.heatmap(confusion_matrix(test_labels, ytest_predict_RF), annot =True, cmap='YlGnBu', fmt='d', cbar =False).set(Title='Confusion Matrix of Testing Data',xlabel='Predicted Label', ylabel='Actual Label');"
   ]
  },
  {
   "cell_type": "markdown",
   "metadata": {
    "id": "yFsxKdmWOT9K"
   },
   "source": [
    "#### Classification Report for Testing data"
   ]
  },
  {
   "cell_type": "code",
   "execution_count": 135,
   "metadata": {
    "executionInfo": {
     "elapsed": 282426,
     "status": "ok",
     "timestamp": 1617214923411,
     "user": {
      "displayName": "Raghav Gupta",
      "photoUrl": "https://lh3.googleusercontent.com/a-/AOh14GgorRHrSE1zI37pb0V-75_DSV7fl1tftsSDhWzRKw=s64",
      "userId": "06994152693423055583"
     },
     "user_tz": -330
    },
    "id": "L-D3ZbRwOT9K"
   },
   "outputs": [],
   "source": [
    "# print (classification_report(test_labels,ytest_predict_RF))"
   ]
  },
  {
   "cell_type": "code",
   "execution_count": 136,
   "metadata": {
    "executionInfo": {
     "elapsed": 282189,
     "status": "ok",
     "timestamp": 1617214923413,
     "user": {
      "displayName": "Raghav Gupta",
      "photoUrl": "https://lh3.googleusercontent.com/a-/AOh14GgorRHrSE1zI37pb0V-75_DSV7fl1tftsSDhWzRKw=s64",
      "userId": "06994152693423055583"
     },
     "user_tz": -330
    },
    "id": "1PAaNTlROT9L"
   },
   "outputs": [],
   "source": [
    "# rf_metrics=classification_report(test_labels, ytest_predict_RF,output_dict=True)\n",
    "# df2_metrics=pd.DataFrame(rf_metrics).transpose()\n",
    "# rf_test_precision=round(df2_metrics.loc[\"1\"][0],2)\n",
    "# rf_test_recall=round(df2_metrics.loc[\"1\"][1],2)\n",
    "# rf_test_f1=round(df2_metrics.loc[\"1\"][2],2)\n",
    "# print ('rf_test_precision ',rf_test_precision)\n",
    "# print ('rf_test_recall ',rf_test_recall)\n",
    "# print ('rf_test_f1 ',rf_test_f1)"
   ]
  },
  {
   "cell_type": "markdown",
   "metadata": {
    "id": "EYhAzb4aOT9L"
   },
   "source": [
    "### Random Forest Conclusion"
   ]
  },
  {
   "cell_type": "markdown",
   "metadata": {
    "id": "_p0q-OYoOT9M"
   },
   "source": [
    "## MLP Classifier (Artificial Neural Network)"
   ]
  },
  {
   "cell_type": "code",
   "execution_count": 137,
   "metadata": {
    "executionInfo": {
     "elapsed": 281467,
     "status": "ok",
     "timestamp": 1617214923415,
     "user": {
      "displayName": "Raghav Gupta",
      "photoUrl": "https://lh3.googleusercontent.com/a-/AOh14GgorRHrSE1zI37pb0V-75_DSV7fl1tftsSDhWzRKw=s64",
      "userId": "06994152693423055583"
     },
     "user_tz": -330
    },
    "id": "LMG8iGdROT9M"
   },
   "outputs": [],
   "source": [
    "from sklearn.neural_network import MLPClassifier"
   ]
  },
  {
   "cell_type": "code",
   "execution_count": 138,
   "metadata": {
    "executionInfo": {
     "elapsed": 281157,
     "status": "ok",
     "timestamp": 1617214923419,
     "user": {
      "displayName": "Raghav Gupta",
      "photoUrl": "https://lh3.googleusercontent.com/a-/AOh14GgorRHrSE1zI37pb0V-75_DSV7fl1tftsSDhWzRKw=s64",
      "userId": "06994152693423055583"
     },
     "user_tz": -330
    },
    "id": "Q0cXSWuoOT9M"
   },
   "outputs": [],
   "source": [
    "from sklearn.preprocessing import StandardScaler"
   ]
  },
  {
   "cell_type": "markdown",
   "metadata": {
    "id": "C-1w08UnOT9N"
   },
   "source": [
    "### Scaling the test and train data for Neural Networks"
   ]
  },
  {
   "cell_type": "code",
   "execution_count": 139,
   "metadata": {
    "executionInfo": {
     "elapsed": 280768,
     "status": "ok",
     "timestamp": 1617214923421,
     "user": {
      "displayName": "Raghav Gupta",
      "photoUrl": "https://lh3.googleusercontent.com/a-/AOh14GgorRHrSE1zI37pb0V-75_DSV7fl1tftsSDhWzRKw=s64",
      "userId": "06994152693423055583"
     },
     "user_tz": -330
    },
    "id": "PPefAXfeOT9N"
   },
   "outputs": [],
   "source": [
    "sc = StandardScaler() \n",
    "X_trains = sc.fit_transform(X_train) \n",
    "X_tests = sc.transform (X_test)\n",
    "X_validates = sc.transform (X_validate)"
   ]
  },
  {
   "cell_type": "code",
   "execution_count": 140,
   "metadata": {
    "colab": {
     "base_uri": "https://localhost:8080/"
    },
    "executionInfo": {
     "elapsed": 280481,
     "status": "ok",
     "timestamp": 1617214923424,
     "user": {
      "displayName": "Raghav Gupta",
      "photoUrl": "https://lh3.googleusercontent.com/a-/AOh14GgorRHrSE1zI37pb0V-75_DSV7fl1tftsSDhWzRKw=s64",
      "userId": "06994152693423055583"
     },
     "user_tz": -330
    },
    "id": "HqXIxgvBOT9O",
    "outputId": "4daaff53-f996-4b00-c6bc-0aa8be12fdcf"
   },
   "outputs": [
    {
     "data": {
      "text/plain": [
       "array([[ 0.47234264, -1.37208932, -0.73780632, ..., -0.23130483,\n",
       "        -0.14581136,  0.1812328 ],\n",
       "       [ 0.47234264,  0.72881553,  0.25346957, ..., -0.23130483,\n",
       "        -0.09563382, -0.10686491],\n",
       "       [ 0.47234264,  0.72881553, -0.73780632, ..., -0.56852074,\n",
       "        -0.15220137,  0.17421965],\n",
       "       ...,\n",
       "       [ 0.47234264,  0.72881553,  0.25346957, ...,  0.44856597,\n",
       "        -0.48662871, -0.2204524 ],\n",
       "       [ 0.47234264,  0.72881553,  1.24474546, ...,  0.08959419,\n",
       "        -0.28234764,  0.03138163],\n",
       "       [-2.11710719, -1.37208932, -0.73780632, ..., -0.20410999,\n",
       "        -0.44403459, -0.14607288]])"
      ]
     },
     "execution_count": 140,
     "metadata": {
      "tags": []
     },
     "output_type": "execute_result"
    }
   ],
   "source": [
    "X_trains"
   ]
  },
  {
   "cell_type": "code",
   "execution_count": 141,
   "metadata": {
    "colab": {
     "base_uri": "https://localhost:8080/"
    },
    "executionInfo": {
     "elapsed": 280349,
     "status": "ok",
     "timestamp": 1617214923425,
     "user": {
      "displayName": "Raghav Gupta",
      "photoUrl": "https://lh3.googleusercontent.com/a-/AOh14GgorRHrSE1zI37pb0V-75_DSV7fl1tftsSDhWzRKw=s64",
      "userId": "06994152693423055583"
     },
     "user_tz": -330
    },
    "id": "jcoDqi6LOT9O",
    "outputId": "5dfc1acd-99bc-446d-be1b-b0935985f6a8"
   },
   "outputs": [
    {
     "data": {
      "text/plain": [
       "array([[ 0.47234264,  0.72881553, -0.73780632, ..., -0.32920622,\n",
       "         0.02151623,  0.36487802],\n",
       "       [ 0.47234264,  0.72881553,  0.25346957, ..., -0.24218276,\n",
       "        -0.39470132, -0.43869491],\n",
       "       [ 0.47234264,  0.72881553,  1.24474546, ...,  0.20381248,\n",
       "        -0.49091355, -0.44959581],\n",
       "       ...,\n",
       "       [ 0.47234264, -1.37208932, -0.73780632, ..., -0.24218276,\n",
       "        -0.25420684, -0.39847002],\n",
       "       [ 0.47234264,  0.72881553, -0.73780632, ..., -0.06813584,\n",
       "        -0.11672792, -0.22801321],\n",
       "       [ 0.47234264, -1.37208932, -0.73780632, ...,  0.13854489,\n",
       "         1.13295429,  1.58470252]])"
      ]
     },
     "execution_count": 141,
     "metadata": {
      "tags": []
     },
     "output_type": "execute_result"
    }
   ],
   "source": [
    "X_tests"
   ]
  },
  {
   "cell_type": "code",
   "execution_count": 142,
   "metadata": {
    "colab": {
     "base_uri": "https://localhost:8080/"
    },
    "executionInfo": {
     "elapsed": 280071,
     "status": "ok",
     "timestamp": 1617214923426,
     "user": {
      "displayName": "Raghav Gupta",
      "photoUrl": "https://lh3.googleusercontent.com/a-/AOh14GgorRHrSE1zI37pb0V-75_DSV7fl1tftsSDhWzRKw=s64",
      "userId": "06994152693423055583"
     },
     "user_tz": -330
    },
    "id": "lf0E-yvEOT9P",
    "outputId": "da97b2c0-1caa-455b-8027-77683795ba07"
   },
   "outputs": [
    {
     "data": {
      "text/plain": [
       "array([[ 0.47234264, -1.37208932,  0.25346957, ...,  0.13854489,\n",
       "         0.16477908,  0.52211174],\n",
       "       [-2.11710719,  0.72881553, -0.73780632, ..., -0.37271795,\n",
       "        -0.4010452 , -0.28822556],\n",
       "       [ 0.47234264, -1.37208932, -0.73780632, ..., -0.6718611 ,\n",
       "         0.3428219 , -0.03424252],\n",
       "       ...,\n",
       "       [ 0.47234264,  0.72881553, -0.73780632, ..., -0.51957005,\n",
       "        -0.50928753, -0.21768923],\n",
       "       [ 0.47234264,  0.72881553, -0.73780632, ...,  0.24732422,\n",
       "        -0.5568387 , -1.01157197],\n",
       "       [ 0.47234264,  0.72881553, -0.73780632, ...,  0.01344866,\n",
       "        -0.39560962, -0.52547332]])"
      ]
     },
     "execution_count": 142,
     "metadata": {
      "tags": []
     },
     "output_type": "execute_result"
    }
   ],
   "source": [
    "X_validates"
   ]
  },
  {
   "cell_type": "markdown",
   "metadata": {
    "id": "LYdKTVkQOT9Q"
   },
   "source": [
    "### Running the grid search for Neural Network"
   ]
  },
  {
   "cell_type": "code",
   "execution_count": 143,
   "metadata": {
    "executionInfo": {
     "elapsed": 279624,
     "status": "ok",
     "timestamp": 1617214923427,
     "user": {
      "displayName": "Raghav Gupta",
      "photoUrl": "https://lh3.googleusercontent.com/a-/AOh14GgorRHrSE1zI37pb0V-75_DSV7fl1tftsSDhWzRKw=s64",
      "userId": "06994152693423055583"
     },
     "user_tz": -330
    },
    "id": "QaQjvCILOT9Q"
   },
   "outputs": [],
   "source": [
    "ann = MLPClassifier(random_state=1)\n",
    "cv_value=3\n"
   ]
  },
  {
   "cell_type": "code",
   "execution_count": 144,
   "metadata": {
    "colab": {
     "base_uri": "https://localhost:8080/"
    },
    "executionInfo": {
     "elapsed": 283288,
     "status": "ok",
     "timestamp": 1617214927319,
     "user": {
      "displayName": "Raghav Gupta",
      "photoUrl": "https://lh3.googleusercontent.com/a-/AOh14GgorRHrSE1zI37pb0V-75_DSV7fl1tftsSDhWzRKw=s64",
      "userId": "06994152693423055583"
     },
     "user_tz": -330
    },
    "id": "65IlB_CIOT9R",
    "outputId": "5fdf0930-26ee-446a-d642-1ab6169ac624"
   },
   "outputs": [
    {
     "name": "stdout",
     "output_type": "stream",
     "text": [
      "\n",
      " Running grid search\n",
      "\n",
      "Iteration 1, loss = 0.63333764\n",
      "Iteration 2, loss = 0.59266726\n",
      "Iteration 3, loss = 0.56467819\n",
      "Iteration 4, loss = 0.54431705\n",
      "Iteration 5, loss = 0.52589065\n",
      "Iteration 6, loss = 0.51094859\n",
      "Iteration 7, loss = 0.49872312\n",
      "Iteration 8, loss = 0.48986105\n",
      "Iteration 9, loss = 0.48397031\n",
      "Iteration 10, loss = 0.47877181\n",
      "Iteration 11, loss = 0.47423211\n",
      "Iteration 12, loss = 0.47067049\n",
      "Iteration 13, loss = 0.46718464\n",
      "Iteration 14, loss = 0.46520710\n",
      "Iteration 15, loss = 0.46341962\n",
      "Iteration 16, loss = 0.46201985\n",
      "Iteration 17, loss = 0.46076288\n",
      "Iteration 18, loss = 0.45990270\n",
      "Training loss did not improve more than tol=0.010000 for 10 consecutive epochs. Stopping.\n",
      "\n",
      " Showing best parameters for the grid search\n",
      "\n",
      "{'activation': 'relu', 'hidden_layer_sizes': 500, 'max_iter': 10000, 'solver': 'adam', 'tol': 0.01, 'verbose': True}\n",
      "\n",
      " Classification Report for Train dataset\n",
      "\n",
      "              precision    recall  f1-score   support\n",
      "\n",
      "           0       0.92      0.43      0.58       192\n",
      "           1       0.79      0.98      0.88       422\n",
      "\n",
      "    accuracy                           0.81       614\n",
      "   macro avg       0.86      0.71      0.73       614\n",
      "weighted avg       0.83      0.81      0.78       614\n",
      "\n",
      "\n",
      " Classification Report for Validate dataset\n",
      "\n",
      "              precision    recall  f1-score   support\n",
      "\n",
      "           0       0.92      0.39      0.55        61\n",
      "           1       0.77      0.98      0.86       124\n",
      "\n",
      "    accuracy                           0.79       185\n",
      "   macro avg       0.85      0.69      0.71       185\n",
      "weighted avg       0.82      0.79      0.76       185\n",
      "\n"
     ]
    }
   ],
   "source": [
    "# second submission\n",
    "param_grid = {\n",
    "    'hidden_layer_sizes': [(100,100,100),500],\n",
    "    'activation': [ 'relu'],  #'logistic',\n",
    "    'solver': ['adam'], # 'sgd', \n",
    "    'tol': [0.01,0.001],\n",
    "    'max_iter' : [10000],\n",
    "    'verbose':[True]\n",
    "}\n",
    "\n",
    "grid_search = run_gridsearch(ann,param_grid,X_trains, train_labels,cv_value)\n",
    "\n",
    "check_performance(grid_search,X_trains, X_validates, train_labels,validate_labels)\n",
    "\n"
   ]
  },
  {
   "cell_type": "markdown",
   "metadata": {
    "id": "wSsnhNvgOT9R"
   },
   "source": [
    "#### Saving the results of best search grid "
   ]
  },
  {
   "cell_type": "code",
   "execution_count": 144,
   "metadata": {
    "executionInfo": {
     "elapsed": 282799,
     "status": "ok",
     "timestamp": 1617214927324,
     "user": {
      "displayName": "Raghav Gupta",
      "photoUrl": "https://lh3.googleusercontent.com/a-/AOh14GgorRHrSE1zI37pb0V-75_DSV7fl1tftsSDhWzRKw=s64",
      "userId": "06994152693423055583"
     },
     "user_tz": -330
    },
    "id": "a3lbitFJRful"
   },
   "outputs": [],
   "source": []
  },
  {
   "cell_type": "code",
   "execution_count": 145,
   "metadata": {
    "executionInfo": {
     "elapsed": 282613,
     "status": "ok",
     "timestamp": 1617214927328,
     "user": {
      "displayName": "Raghav Gupta",
      "photoUrl": "https://lh3.googleusercontent.com/a-/AOh14GgorRHrSE1zI37pb0V-75_DSV7fl1tftsSDhWzRKw=s64",
      "userId": "06994152693423055583"
     },
     "user_tz": -330
    },
    "id": "ohAC1UMyOT9S"
   },
   "outputs": [],
   "source": [
    "best_grid_NN = grid_search.best_estimator_\n",
    "ytrain_predict_ANN = best_grid_NN.predict(X_trains)\n",
    "ytest_predict_ANN = best_grid_NN.predict(X_tests)\n"
   ]
  },
  {
   "cell_type": "code",
   "execution_count": 146,
   "metadata": {
    "executionInfo": {
     "elapsed": 282410,
     "status": "ok",
     "timestamp": 1617214927333,
     "user": {
      "displayName": "Raghav Gupta",
      "photoUrl": "https://lh3.googleusercontent.com/a-/AOh14GgorRHrSE1zI37pb0V-75_DSV7fl1tftsSDhWzRKw=s64",
      "userId": "06994152693423055583"
     },
     "user_tz": -330
    },
    "id": "pUOG2rnjOT9S"
   },
   "outputs": [],
   "source": [
    "df_test_bkp[\"Loan_Status_NN1\"] = ytest_predict_ANN"
   ]
  },
  {
   "cell_type": "code",
   "execution_count": 147,
   "metadata": {
    "executionInfo": {
     "elapsed": 282161,
     "status": "ok",
     "timestamp": 1617214927335,
     "user": {
      "displayName": "Raghav Gupta",
      "photoUrl": "https://lh3.googleusercontent.com/a-/AOh14GgorRHrSE1zI37pb0V-75_DSV7fl1tftsSDhWzRKw=s64",
      "userId": "06994152693423055583"
     },
     "user_tz": -330
    },
    "id": "J-HeoCjxOT9T"
   },
   "outputs": [],
   "source": [
    "df_test_bkp.Loan_Status_NN1 = df_test_bkp.Loan_Status_NN1.replace(to_replace = 0, value ='N')\n",
    "df_test_bkp.Loan_Status_NN1 = df_test_bkp.Loan_Status_NN1.replace(to_replace = 1, value ='Y')"
   ]
  },
  {
   "cell_type": "code",
   "execution_count": 148,
   "metadata": {
    "executionInfo": {
     "elapsed": 282055,
     "status": "ok",
     "timestamp": 1617214927336,
     "user": {
      "displayName": "Raghav Gupta",
      "photoUrl": "https://lh3.googleusercontent.com/a-/AOh14GgorRHrSE1zI37pb0V-75_DSV7fl1tftsSDhWzRKw=s64",
      "userId": "06994152693423055583"
     },
     "user_tz": -330
    },
    "id": "rUXM9F8ROT9T"
   },
   "outputs": [],
   "source": [
    "#df_test_bkp[df_test_bkp[\"Loan_Status_NN1\"]-df_test_bkp[\"Loan_Status\"] != 0]"
   ]
  },
  {
   "cell_type": "code",
   "execution_count": 149,
   "metadata": {
    "executionInfo": {
     "elapsed": 281792,
     "status": "ok",
     "timestamp": 1617214927337,
     "user": {
      "displayName": "Raghav Gupta",
      "photoUrl": "https://lh3.googleusercontent.com/a-/AOh14GgorRHrSE1zI37pb0V-75_DSV7fl1tftsSDhWzRKw=s64",
      "userId": "06994152693423055583"
     },
     "user_tz": -330
    },
    "id": "uAA4phEEOT9T"
   },
   "outputs": [],
   "source": [
    "df_test_bkp[[\"Loan_ID\",\"Loan_Status_NN1\"]].to_csv('Practice_Hackathon_Loan_Raghav_submission2.csv',index=False)"
   ]
  },
  {
   "cell_type": "code",
   "execution_count": 150,
   "metadata": {
    "executionInfo": {
     "elapsed": 281538,
     "status": "ok",
     "timestamp": 1617214927338,
     "user": {
      "displayName": "Raghav Gupta",
      "photoUrl": "https://lh3.googleusercontent.com/a-/AOh14GgorRHrSE1zI37pb0V-75_DSV7fl1tftsSDhWzRKw=s64",
      "userId": "06994152693423055583"
     },
     "user_tz": -330
    },
    "id": "soJssBWfOT9U"
   },
   "outputs": [],
   "source": [
    "# df_test_bkp.to_excel('Practice_Hackathon_Attrition_Raghav_submission_comparison.xlsx',index=False)"
   ]
  },
  {
   "cell_type": "markdown",
   "metadata": {
    "id": "16rAeZigOT9U"
   },
   "source": [
    "## Model Evaluation"
   ]
  },
  {
   "cell_type": "markdown",
   "metadata": {
    "id": "AXDtU67zOT9U"
   },
   "source": [
    "### Model Score"
   ]
  },
  {
   "cell_type": "markdown",
   "metadata": {
    "id": "KJAPfIJVOT9V"
   },
   "source": [
    "#### Model score for the Training Data"
   ]
  },
  {
   "cell_type": "code",
   "execution_count": 151,
   "metadata": {
    "colab": {
     "base_uri": "https://localhost:8080/"
    },
    "executionInfo": {
     "elapsed": 280592,
     "status": "ok",
     "timestamp": 1617214927342,
     "user": {
      "displayName": "Raghav Gupta",
      "photoUrl": "https://lh3.googleusercontent.com/a-/AOh14GgorRHrSE1zI37pb0V-75_DSV7fl1tftsSDhWzRKw=s64",
      "userId": "06994152693423055583"
     },
     "user_tz": -330
    },
    "id": "kGEEpWRrOT9V",
    "outputId": "2656d70f-0418-4c4a-d0e0-02ade15ee2f2"
   },
   "outputs": [
    {
     "data": {
      "text/plain": [
       "0.8094462540716613"
      ]
     },
     "execution_count": 151,
     "metadata": {
      "tags": []
     },
     "output_type": "execute_result"
    }
   ],
   "source": [
    "#Train Data Accuracy\n",
    "nn_train_acc=best_grid_NN.score(X_trains,train_labels)\n",
    "nn_train_acc"
   ]
  },
  {
   "cell_type": "markdown",
   "metadata": {
    "id": "FgDjZXoVOT9W"
   },
   "source": [
    "#### Model score for the Testing Data"
   ]
  },
  {
   "cell_type": "code",
   "execution_count": 152,
   "metadata": {
    "executionInfo": {
     "elapsed": 280140,
     "status": "ok",
     "timestamp": 1617214927344,
     "user": {
      "displayName": "Raghav Gupta",
      "photoUrl": "https://lh3.googleusercontent.com/a-/AOh14GgorRHrSE1zI37pb0V-75_DSV7fl1tftsSDhWzRKw=s64",
      "userId": "06994152693423055583"
     },
     "user_tz": -330
    },
    "id": "a_VTKD2ZOT9W"
   },
   "outputs": [],
   "source": [
    "#Test Data Accuracy\n",
    "# nn_test_acc=best_grid.score(X_tests,test_labels)\n",
    "# nn_test_acc"
   ]
  },
  {
   "cell_type": "markdown",
   "metadata": {
    "id": "KQodDjyjOT9X"
   },
   "source": [
    "### Measuring AUC-ROC Curve"
   ]
  },
  {
   "cell_type": "markdown",
   "metadata": {
    "id": "fqz_XVR7OT9X"
   },
   "source": [
    "#### AUC and ROC for the training data"
   ]
  },
  {
   "cell_type": "code",
   "execution_count": 153,
   "metadata": {
    "colab": {
     "base_uri": "https://localhost:8080/",
     "height": 312
    },
    "executionInfo": {
     "elapsed": 279440,
     "status": "ok",
     "timestamp": 1617214927351,
     "user": {
      "displayName": "Raghav Gupta",
      "photoUrl": "https://lh3.googleusercontent.com/a-/AOh14GgorRHrSE1zI37pb0V-75_DSV7fl1tftsSDhWzRKw=s64",
      "userId": "06994152693423055583"
     },
     "user_tz": -330
    },
    "id": "j5BeQ7RTOT9Y",
    "outputId": "f8f06ceb-6702-4abf-d80d-5d8bd0ce17df"
   },
   "outputs": [
    {
     "name": "stdout",
     "output_type": "stream",
     "text": [
      "AUC: 0.793\n"
     ]
    },
    {
     "data": {
      "image/png": "[encoded data removed]",
      "text/plain": [
       "<Figure size 432x288 with 1 Axes>"
      ]
     },
     "metadata": {
      "needs_background": "light",
      "tags": []
     },
     "output_type": "display_data"
    }
   ],
   "source": [
    "probs = best_grid_NN.predict_proba(X_trains)\n",
    "nn_train_auc,nn_train_fpr, nn_train_tpr,nn_train_threshholds=calc_AUC_ROC_curve(probs,train_labels)"
   ]
  },
  {
   "cell_type": "markdown",
   "metadata": {
    "id": "pmEI1sF0OT9Y"
   },
   "source": [
    "#### AUC and ROC for the test data"
   ]
  },
  {
   "cell_type": "code",
   "execution_count": 154,
   "metadata": {
    "executionInfo": {
     "elapsed": 278909,
     "status": "ok",
     "timestamp": 1617214927354,
     "user": {
      "displayName": "Raghav Gupta",
      "photoUrl": "https://lh3.googleusercontent.com/a-/AOh14GgorRHrSE1zI37pb0V-75_DSV7fl1tftsSDhWzRKw=s64",
      "userId": "06994152693423055583"
     },
     "user_tz": -330
    },
    "id": "1ewdh6q9OT9Z"
   },
   "outputs": [],
   "source": [
    "# probs = best_grid.predict_proba(X_tests)\n",
    "# nn_test_auc,nn_test_fpr, nn_test_tpr,nn_test_threshholds=calc_AUC_ROC_curve(probs,test_labels)"
   ]
  },
  {
   "cell_type": "markdown",
   "metadata": {
    "id": "jEV0UacPOT9Z"
   },
   "source": [
    "### Confusion Matrix for the Training data"
   ]
  },
  {
   "cell_type": "code",
   "execution_count": 155,
   "metadata": {
    "colab": {
     "base_uri": "https://localhost:8080/",
     "height": 295
    },
    "executionInfo": {
     "elapsed": 279004,
     "status": "ok",
     "timestamp": 1617214927950,
     "user": {
      "displayName": "Raghav Gupta",
      "photoUrl": "https://lh3.googleusercontent.com/a-/AOh14GgorRHrSE1zI37pb0V-75_DSV7fl1tftsSDhWzRKw=s64",
      "userId": "06994152693423055583"
     },
     "user_tz": -330
    },
    "id": "jh-opytzOT9Z",
    "outputId": "b1fa6384-a5a2-426d-d56d-fa3911893758"
   },
   "outputs": [
    {
     "data": {
      "image/png": "[encoded data removed]",
      "text/plain": [
       "<Figure size 432x288 with 1 Axes>"
      ]
     },
     "metadata": {
      "needs_background": "light",
      "tags": []
     },
     "output_type": "display_data"
    }
   ],
   "source": [
    "sns.heatmap(confusion_matrix(train_labels, ytrain_predict_ANN), annot =True, cmap='YlGnBu', fmt='d', cbar =False).set(Title='Confusion Matrix of Training Data',xlabel='Predicted Label', ylabel='Actual Label');"
   ]
  },
  {
   "cell_type": "markdown",
   "metadata": {
    "id": "ambIm_TDOT9a"
   },
   "source": [
    "#### Classification Report for Training data"
   ]
  },
  {
   "cell_type": "code",
   "execution_count": 156,
   "metadata": {
    "colab": {
     "base_uri": "https://localhost:8080/"
    },
    "executionInfo": {
     "elapsed": 278532,
     "status": "ok",
     "timestamp": 1617214927964,
     "user": {
      "displayName": "Raghav Gupta",
      "photoUrl": "https://lh3.googleusercontent.com/a-/AOh14GgorRHrSE1zI37pb0V-75_DSV7fl1tftsSDhWzRKw=s64",
      "userId": "06994152693423055583"
     },
     "user_tz": -330
    },
    "id": "-R4Q8q_MOT9a",
    "outputId": "8cba866c-7f00-4b16-b3ff-b8782b331dd0"
   },
   "outputs": [
    {
     "name": "stdout",
     "output_type": "stream",
     "text": [
      "              precision    recall  f1-score   support\n",
      "\n",
      "           0       0.92      0.43      0.58       192\n",
      "           1       0.79      0.98      0.88       422\n",
      "\n",
      "    accuracy                           0.81       614\n",
      "   macro avg       0.86      0.71      0.73       614\n",
      "weighted avg       0.83      0.81      0.78       614\n",
      "\n"
     ]
    }
   ],
   "source": [
    "print (classification_report(train_labels,ytrain_predict_ANN))"
   ]
  },
  {
   "cell_type": "code",
   "execution_count": 157,
   "metadata": {
    "colab": {
     "base_uri": "https://localhost:8080/"
    },
    "executionInfo": {
     "elapsed": 278298,
     "status": "ok",
     "timestamp": 1617214927973,
     "user": {
      "displayName": "Raghav Gupta",
      "photoUrl": "https://lh3.googleusercontent.com/a-/AOh14GgorRHrSE1zI37pb0V-75_DSV7fl1tftsSDhWzRKw=s64",
      "userId": "06994152693423055583"
     },
     "user_tz": -330
    },
    "id": "K3ELqrbxOT9b",
    "outputId": "240c512c-a0f0-4c10-f5f2-61107b5908a5"
   },
   "outputs": [
    {
     "name": "stdout",
     "output_type": "stream",
     "text": [
      "nn_train_precision  0.79\n",
      "nn_train_recall  0.98\n",
      "nn_train_f1  0.88\n"
     ]
    }
   ],
   "source": [
    "nn_metrics=classification_report(train_labels, ytrain_predict_ANN,output_dict=True)\n",
    "df2_metrics=pd.DataFrame(nn_metrics).transpose()\n",
    "nn_train_precision=round(df2_metrics.loc[\"1\"][0],2)\n",
    "nn_train_recall=round(df2_metrics.loc[\"1\"][1],2)\n",
    "nn_train_f1=round(df2_metrics.loc[\"1\"][2],2)\n",
    "print ('nn_train_precision ',nn_train_precision)\n",
    "print ('nn_train_recall ',nn_train_recall)\n",
    "print ('nn_train_f1 ',nn_train_f1)"
   ]
  },
  {
   "cell_type": "markdown",
   "metadata": {
    "id": "gc9jSQM-OT9b"
   },
   "source": [
    "### Confusion Matrix for the Testing data"
   ]
  },
  {
   "cell_type": "code",
   "execution_count": 158,
   "metadata": {
    "executionInfo": {
     "elapsed": 277830,
     "status": "ok",
     "timestamp": 1617214927974,
     "user": {
      "displayName": "Raghav Gupta",
      "photoUrl": "https://lh3.googleusercontent.com/a-/AOh14GgorRHrSE1zI37pb0V-75_DSV7fl1tftsSDhWzRKw=s64",
      "userId": "06994152693423055583"
     },
     "user_tz": -330
    },
    "id": "F5UPT79pOT9b"
   },
   "outputs": [],
   "source": [
    "# sns.heatmap(confusion_matrix(test_labels, ytest_predict_ANN), annot =True, cmap='YlGnBu', fmt='d', cbar =False).set(Title='Confusion Matrix of Testing Data',xlabel='Predicted Label', ylabel='Actual Label');"
   ]
  },
  {
   "cell_type": "markdown",
   "metadata": {
    "id": "Dc99dr3YOT9c"
   },
   "source": [
    "#### Classification Report for Testing data"
   ]
  },
  {
   "cell_type": "code",
   "execution_count": 159,
   "metadata": {
    "executionInfo": {
     "elapsed": 277254,
     "status": "ok",
     "timestamp": 1617214927977,
     "user": {
      "displayName": "Raghav Gupta",
      "photoUrl": "https://lh3.googleusercontent.com/a-/AOh14GgorRHrSE1zI37pb0V-75_DSV7fl1tftsSDhWzRKw=s64",
      "userId": "06994152693423055583"
     },
     "user_tz": -330
    },
    "id": "HWMACLT0OT9c"
   },
   "outputs": [],
   "source": [
    "# print (classification_report(test_labels,ytest_predict_ANN))"
   ]
  },
  {
   "cell_type": "code",
   "execution_count": 160,
   "metadata": {
    "executionInfo": {
     "elapsed": 277005,
     "status": "ok",
     "timestamp": 1617214927979,
     "user": {
      "displayName": "Raghav Gupta",
      "photoUrl": "https://lh3.googleusercontent.com/a-/AOh14GgorRHrSE1zI37pb0V-75_DSV7fl1tftsSDhWzRKw=s64",
      "userId": "06994152693423055583"
     },
     "user_tz": -330
    },
    "id": "6RhYZ4jcOT9c"
   },
   "outputs": [],
   "source": [
    "# nn_metrics=classification_report(test_labels, ytest_predict_ANN,output_dict=True)\n",
    "# df2_metrics=pd.DataFrame(nn_metrics).transpose()\n",
    "# nn_test_precision=round(df2_metrics.loc[\"1\"][0],2)\n",
    "# nn_test_recall=round(df2_metrics.loc[\"1\"][1],2)\n",
    "# nn_test_f1=round(df2_metrics.loc[\"1\"][2],2)\n",
    "# print ('nn_test_precision ',nn_test_precision)\n",
    "# print ('nn_test_recall ',nn_test_recall)\n",
    "# print ('nn_test_f1 ',nn_test_f1)"
   ]
  },
  {
   "cell_type": "markdown",
   "metadata": {
    "id": "RWakJ5afOT9d"
   },
   "source": [
    "### XG Boost Model"
   ]
  },
  {
   "cell_type": "code",
   "execution_count": 107,
   "metadata": {
    "executionInfo": {
     "elapsed": 276526,
     "status": "ok",
     "timestamp": 1617214927982,
     "user": {
      "displayName": "Raghav Gupta",
      "photoUrl": "https://lh3.googleusercontent.com/a-/AOh14GgorRHrSE1zI37pb0V-75_DSV7fl1tftsSDhWzRKw=s64",
      "userId": "06994152693423055583"
     },
     "user_tz": -330
    },
    "id": "CKCm83PJOT9d"
   },
   "outputs": [],
   "source": [
    "import xgboost as xgb\n",
    "from xgboost.sklearn import XGBClassifier"
   ]
  },
  {
   "cell_type": "markdown",
   "metadata": {
    "id": "Ch7c53PuOT9d"
   },
   "source": [
    "## General Approach for Parameter Tuning"
   ]
  },
  {
   "cell_type": "markdown",
   "metadata": {
    "id": "bfTJ-btXOT9e"
   },
   "source": [
    "\n",
    "We will use an approach similar to that of GBM here. The various steps to be performed are:\n",
    "\n",
    "1. Choose a relatively high learning rate. Generally a learning rate of 0.1 works but somewhere between 0.05 to 0.3 should work for different problems. Determine the optimum number of trees for this learning rate. XGBoost has a very useful function called as “cv” which performs cross-validation at each boosting iteration and thus returns the optimum number of trees required.\n",
    "\n",
    "2. Tune tree-specific parameters ( max_depth, min_child_weight, gamma, subsample, colsample_bytree) for decided learning rate and number of trees. Note that we can choose different parameters to define a tree.\n",
    "\n",
    "3. Tune regularization parameters (lambda, alpha) for xgboost which can help reduce model complexity and enhance performance.\n",
    "\n",
    "4. Lower the learning rate and decide the optimal parameters ."
   ]
  },
  {
   "cell_type": "code",
   "execution_count": 108,
   "metadata": {
    "executionInfo": {
     "elapsed": 275821,
     "status": "ok",
     "timestamp": 1617214927985,
     "user": {
      "displayName": "Raghav Gupta",
      "photoUrl": "https://lh3.googleusercontent.com/a-/AOh14GgorRHrSE1zI37pb0V-75_DSV7fl1tftsSDhWzRKw=s64",
      "userId": "06994152693423055583"
     },
     "user_tz": -330
    },
    "id": "IHLq7lhYOT9e"
   },
   "outputs": [],
   "source": [
    "xgb1 = XGBClassifier(\n",
    " learning_rate =0.1,\n",
    " n_estimators=1000,\n",
    " max_depth=5,\n",
    " min_child_weight=1,\n",
    " gamma=0,\n",
    " subsample=0.8,\n",
    " colsample_bytree=0.8,\n",
    " objective= 'binary:logistic',\n",
    " nthread=4,\n",
    " scale_pos_weight=1,\n",
    " seed=27)\n"
   ]
  },
  {
   "cell_type": "code",
   "execution_count": 109,
   "metadata": {
    "colab": {
     "base_uri": "https://localhost:8080/"
    },
    "executionInfo": {
     "elapsed": 277182,
     "status": "ok",
     "timestamp": 1617214929643,
     "user": {
      "displayName": "Raghav Gupta",
      "photoUrl": "https://lh3.googleusercontent.com/a-/AOh14GgorRHrSE1zI37pb0V-75_DSV7fl1tftsSDhWzRKw=s64",
      "userId": "06994152693423055583"
     },
     "user_tz": -330
    },
    "id": "uufyK_f-SrAi",
    "outputId": "df4b0783-4a40-4de5-e6be-e4cb71a19a02"
   },
   "outputs": [
    {
     "name": "stderr",
     "output_type": "stream",
     "text": [
      "C:\\Users\\Raghav Gupta\\anaconda3\\lib\\site-packages\\xgboost\\sklearn.py:888: UserWarning: The use of label encoder in XGBClassifier is deprecated and will be removed in a future release. To remove this warning, do the following: 1) Pass option use_label_encoder=False when constructing XGBClassifier object; and 2) Encode your labels (y) as integers starting with 0, i.e. 0, 1, 2, ..., [num_class - 1].\n",
      "  warnings.warn(label_encoder_deprecation_msg, UserWarning)\n"
     ]
    },
    {
     "name": "stdout",
     "output_type": "stream",
     "text": [
      "[16:29:13] WARNING: ..\\src\\learner.cc:1061: Starting in XGBoost 1.3.0, the default evaluation metric used with the objective 'binary:logistic' was changed from 'error' to 'logloss'. Explicitly set eval_metric if you'd like to restore the old behavior.\n"
     ]
    },
    {
     "data": {
      "text/plain": [
       "XGBClassifier(base_score=0.5, booster='gbtree', colsample_bylevel=1,\n",
       "              colsample_bynode=1, colsample_bytree=0.8, gamma=0, gpu_id=-1,\n",
       "              importance_type='gain', interaction_constraints='',\n",
       "              learning_rate=0.1, max_delta_step=0, max_depth=5,\n",
       "              min_child_weight=1, missing=nan, monotone_constraints='()',\n",
       "              n_estimators=1000, n_jobs=4, nthread=4, num_parallel_tree=1,\n",
       "              random_state=27, reg_alpha=0, reg_lambda=1, scale_pos_weight=1,\n",
       "              seed=27, subsample=0.8, tree_method='exact',\n",
       "              validate_parameters=1, verbosity=None)"
      ]
     },
     "execution_count": 109,
     "metadata": {},
     "output_type": "execute_result"
    }
   ],
   "source": [
    "xgb1.fit( X_train, train_labels)"
   ]
  },
  {
   "cell_type": "code",
   "execution_count": 110,
   "metadata": {
    "colab": {
     "base_uri": "https://localhost:8080/"
    },
    "executionInfo": {
     "elapsed": 277051,
     "status": "ok",
     "timestamp": 1617214929648,
     "user": {
      "displayName": "Raghav Gupta",
      "photoUrl": "https://lh3.googleusercontent.com/a-/AOh14GgorRHrSE1zI37pb0V-75_DSV7fl1tftsSDhWzRKw=s64",
      "userId": "06994152693423055583"
     },
     "user_tz": -330
    },
    "id": "ZZjGiBo8S3XW",
    "outputId": "6a97b5d5-8020-4960-b73d-3826a58bb0c1"
   },
   "outputs": [
    {
     "data": {
      "text/plain": [
       "1.0"
      ]
     },
     "execution_count": 110,
     "metadata": {},
     "output_type": "execute_result"
    }
   ],
   "source": [
    "xgb1.score(X_train,train_labels)"
   ]
  },
  {
   "cell_type": "code",
   "execution_count": 111,
   "metadata": {
    "colab": {
     "base_uri": "https://localhost:8080/"
    },
    "executionInfo": {
     "elapsed": 2242,
     "status": "ok",
     "timestamp": 1617216536539,
     "user": {
      "displayName": "Raghav Gupta",
      "photoUrl": "https://lh3.googleusercontent.com/a-/AOh14GgorRHrSE1zI37pb0V-75_DSV7fl1tftsSDhWzRKw=s64",
      "userId": "06994152693423055583"
     },
     "user_tz": -330
    },
    "id": "oaPZPSodTSxE",
    "outputId": "61e2e82c-169a-4300-e0d0-c74f30df5135"
   },
   "outputs": [
    {
     "data": {
      "text/plain": [
       "1.0"
      ]
     },
     "execution_count": 111,
     "metadata": {},
     "output_type": "execute_result"
    }
   ],
   "source": [
    "xgb1.score(X_validate,validate_labels)"
   ]
  },
  {
   "cell_type": "code",
   "execution_count": 112,
   "metadata": {
    "executionInfo": {
     "elapsed": 1054,
     "status": "ok",
     "timestamp": 1617218747041,
     "user": {
      "displayName": "Raghav Gupta",
      "photoUrl": "https://lh3.googleusercontent.com/a-/AOh14GgorRHrSE1zI37pb0V-75_DSV7fl1tftsSDhWzRKw=s64",
      "userId": "06994152693423055583"
     },
     "user_tz": -330
    },
    "id": "3ehuElXanfEf"
   },
   "outputs": [],
   "source": [
    "def modelfit(alg, X_train, train_labels,useTrainCV=True, cv_folds=5, early_stopping_rounds=50):\n",
    "    \n",
    "    if useTrainCV:\n",
    "        xgb_param = alg.get_xgb_params()\n",
    "        xgtrain = xgb.DMatrix(X_train.values, label=train_labels.values)\n",
    "        cvresult = xgb.cv(xgb_param, xgtrain, num_boost_round=alg.get_params()['n_estimators'], nfold=cv_folds,\n",
    "          metrics='auc', early_stopping_rounds=early_stopping_rounds,verbose_eval=None)\n",
    "        alg.set_params(n_estimators=cvresult.shape[0])\n",
    "        print (\"n_estimators:\", cvresult.shape[0])\n",
    "\n",
    "    #Fit the algorithm on the data\n",
    "    alg.fit(X_train, train_labels,eval_metric='auc')\n",
    "        \n",
    "    #Predict training set:\n",
    "    ytrain_predict = alg.predict(X_train)\n",
    "    probs = alg.predict_proba(X_train)[:,1]\n",
    "           \n",
    "    #Print model report:\n",
    "    print (\"\\nModel Report\")\n",
    "    print(\"\\n Classification Report for Train dataset\\n\")\n",
    "    print(classification_report(train_labels,ytrain_predict))\n",
    "    \n",
    "    # calculate AUC   \n",
    "    auc = roc_auc_score(train_labels, probs)\n",
    "    print('AUC Score (Train): %.3f' % auc)\n",
    "\n",
    "                       \n",
    "    # feat_imp = pd.Series(alg.booster().get_fscore()).sort_values(ascending=False)\n",
    "    # feat_imp.plot(kind='bar', title='Feature Importances')\n",
    "    # plt.ylabel('Feature Importance Score')"
   ]
  },
  {
   "cell_type": "code",
   "execution_count": 113,
   "metadata": {
    "colab": {
     "base_uri": "https://localhost:8080/"
    },
    "executionInfo": {
     "elapsed": 1894,
     "status": "ok",
     "timestamp": 1617218749367,
     "user": {
      "displayName": "Raghav Gupta",
      "photoUrl": "https://lh3.googleusercontent.com/a-/AOh14GgorRHrSE1zI37pb0V-75_DSV7fl1tftsSDhWzRKw=s64",
      "userId": "06994152693423055583"
     },
     "user_tz": -330
    },
    "id": "dBvl85m9Tk1y",
    "outputId": "4ccb84a2-54cc-481d-949d-21cc177c0a8f"
   },
   "outputs": [
    {
     "name": "stdout",
     "output_type": "stream",
     "text": [
      "n_estimators: 62\n",
      "\n",
      "Model Report\n",
      "\n",
      " Classification Report for Train dataset\n",
      "\n",
      "              precision    recall  f1-score   support\n",
      "\n",
      "           0       0.96      0.70      0.81       192\n",
      "           1       0.88      0.99      0.93       422\n",
      "\n",
      "    accuracy                           0.90       614\n",
      "   macro avg       0.92      0.84      0.87       614\n",
      "weighted avg       0.90      0.90      0.89       614\n",
      "\n",
      "AUC Score (Train): 0.980\n"
     ]
    }
   ],
   "source": [
    "#check_performance(xgb1,X_train, X_validate, train_labels,validate_labels)\n",
    "modelfit(xgb1, X_train, train_labels)"
   ]
  },
  {
   "cell_type": "markdown",
   "metadata": {
    "id": "hdDXDAbjzgZo"
   },
   "source": [
    "## Step 2: Tune max_depth and min_child_weight"
   ]
  },
  {
   "cell_type": "code",
   "execution_count": 114,
   "metadata": {
    "colab": {
     "base_uri": "https://localhost:8080/"
    },
    "executionInfo": {
     "elapsed": 6579,
     "status": "ok",
     "timestamp": 1617219286944,
     "user": {
      "displayName": "Raghav Gupta",
      "photoUrl": "https://lh3.googleusercontent.com/a-/AOh14GgorRHrSE1zI37pb0V-75_DSV7fl1tftsSDhWzRKw=s64",
      "userId": "06994152693423055583"
     },
     "user_tz": -330
    },
    "id": "4USF-IBQUSrq",
    "outputId": "361eb0db-ab12-467d-d929-80de4994d212"
   },
   "outputs": [
    {
     "name": "stdout",
     "output_type": "stream",
     "text": [
      "[16:30:17] WARNING: ..\\src\\learner.cc:1061: Starting in XGBoost 1.3.0, the default evaluation metric used with the objective 'binary:logistic' was changed from 'error' to 'logloss'. Explicitly set eval_metric if you'd like to restore the old behavior.\n"
     ]
    },
    {
     "name": "stderr",
     "output_type": "stream",
     "text": [
      "C:\\Users\\Raghav Gupta\\anaconda3\\lib\\site-packages\\xgboost\\sklearn.py:888: UserWarning: The use of label encoder in XGBClassifier is deprecated and will be removed in a future release. To remove this warning, do the following: 1) Pass option use_label_encoder=False when constructing XGBClassifier object; and 2) Encode your labels (y) as integers starting with 0, i.e. 0, 1, 2, ..., [num_class - 1].\n",
      "  warnings.warn(label_encoder_deprecation_msg, UserWarning)\n"
     ]
    },
    {
     "data": {
      "text/plain": [
       "({'max_depth': 11, 'min_child_weight': 3}, 0.7895272305953421)"
      ]
     },
     "execution_count": 114,
     "metadata": {},
     "output_type": "execute_result"
    }
   ],
   "source": [
    "param_test1 = {\n",
    " 'max_depth':range(3,15,2),\n",
    " 'min_child_weight':range(1,6,2)\n",
    "}\n",
    "gsearch1 = GridSearchCV(estimator = XGBClassifier( learning_rate =0.1, n_estimators=46, max_depth=5,\n",
    " min_child_weight=1, gamma=0, subsample=0.8, colsample_bytree=0.8,\n",
    " objective= 'binary:logistic', nthread=4, scale_pos_weight=1, seed=27), \n",
    "param_grid = param_test1, scoring='roc_auc',n_jobs=4, cv=5)\n",
    "gsearch1.fit(X_train,train_labels)\n",
    "gsearch1.best_params_, gsearch1.best_score_"
   ]
  },
  {
   "cell_type": "code",
   "execution_count": 117,
   "metadata": {
    "colab": {
     "base_uri": "https://localhost:8080/"
    },
    "executionInfo": {
     "elapsed": 6684,
     "status": "ok",
     "timestamp": 1617219522854,
     "user": {
      "displayName": "Raghav Gupta",
      "photoUrl": "https://lh3.googleusercontent.com/a-/AOh14GgorRHrSE1zI37pb0V-75_DSV7fl1tftsSDhWzRKw=s64",
      "userId": "06994152693423055583"
     },
     "user_tz": -330
    },
    "id": "Tx9YIXdQyOeg",
    "outputId": "03a400cd-7999-4be0-934b-1bf1c1f651fc"
   },
   "outputs": [
    {
     "name": "stdout",
     "output_type": "stream",
     "text": [
      "[16:31:55] WARNING: ..\\src\\learner.cc:1061: Starting in XGBoost 1.3.0, the default evaluation metric used with the objective 'binary:logistic' was changed from 'error' to 'logloss'. Explicitly set eval_metric if you'd like to restore the old behavior.\n"
     ]
    },
    {
     "name": "stderr",
     "output_type": "stream",
     "text": [
      "C:\\Users\\Raghav Gupta\\anaconda3\\lib\\site-packages\\xgboost\\sklearn.py:888: UserWarning: The use of label encoder in XGBClassifier is deprecated and will be removed in a future release. To remove this warning, do the following: 1) Pass option use_label_encoder=False when constructing XGBClassifier object; and 2) Encode your labels (y) as integers starting with 0, i.e. 0, 1, 2, ..., [num_class - 1].\n",
      "  warnings.warn(label_encoder_deprecation_msg, UserWarning)\n"
     ]
    },
    {
     "data": {
      "text/plain": [
       "({'max_depth': 11, 'min_child_weight': 3}, 0.7895272305953421)"
      ]
     },
     "execution_count": 117,
     "metadata": {},
     "output_type": "execute_result"
    }
   ],
   "source": [
    "aram_test1 = {\n",
    " 'max_depth':[10,11,12],\n",
    " 'min_child_weight':[2,3,4]\n",
    "}\n",
    "gsearch1 = GridSearchCV(estimator = XGBClassifier( learning_rate =0.1, n_estimators=46, max_depth=5,\n",
    " min_child_weight=1, gamma=0, subsample=0.8, colsample_bytree=0.8,\n",
    " objective= 'binary:logistic', nthread=4, scale_pos_weight=1, seed=27), \n",
    "param_grid = param_test1, scoring='roc_auc',n_jobs=4, cv=5)\n",
    "gsearch1.fit(X_train,train_labels)\n",
    "gsearch1.best_params_, gsearch1.best_score_"
   ]
  },
  {
   "cell_type": "markdown",
   "metadata": {
    "id": "Xbb6ckuEzXdY"
   },
   "source": [
    "## Step 3: Tune gamma"
   ]
  },
  {
   "cell_type": "code",
   "execution_count": 118,
   "metadata": {
    "colab": {
     "base_uri": "https://localhost:8080/"
    },
    "executionInfo": {
     "elapsed": 5009,
     "status": "ok",
     "timestamp": 1617219852384,
     "user": {
      "displayName": "Raghav Gupta",
      "photoUrl": "https://lh3.googleusercontent.com/a-/AOh14GgorRHrSE1zI37pb0V-75_DSV7fl1tftsSDhWzRKw=s64",
      "userId": "06994152693423055583"
     },
     "user_tz": -330
    },
    "id": "bD1t2Z9zz0gH",
    "outputId": "9cdb835a-4e39-4c62-e815-cd0788c6a32d"
   },
   "outputs": [
    {
     "name": "stdout",
     "output_type": "stream",
     "text": [
      "[16:31:58] WARNING: ..\\src\\learner.cc:1061: Starting in XGBoost 1.3.0, the default evaluation metric used with the objective 'binary:logistic' was changed from 'error' to 'logloss'. Explicitly set eval_metric if you'd like to restore the old behavior.\n"
     ]
    },
    {
     "name": "stderr",
     "output_type": "stream",
     "text": [
      "C:\\Users\\Raghav Gupta\\anaconda3\\lib\\site-packages\\xgboost\\sklearn.py:888: UserWarning: The use of label encoder in XGBClassifier is deprecated and will be removed in a future release. To remove this warning, do the following: 1) Pass option use_label_encoder=False when constructing XGBClassifier object; and 2) Encode your labels (y) as integers starting with 0, i.e. 0, 1, 2, ..., [num_class - 1].\n",
      "  warnings.warn(label_encoder_deprecation_msg, UserWarning)\n"
     ]
    },
    {
     "data": {
      "text/plain": [
       "({'gamma': 0.0}, 0.7895272305953421)"
      ]
     },
     "execution_count": 118,
     "metadata": {},
     "output_type": "execute_result"
    }
   ],
   "source": [
    "param_test3 = {\n",
    " 'gamma':[i/10.0 for i in range(0,5)]\n",
    "}\n",
    "gsearch1 = GridSearchCV(estimator = XGBClassifier( learning_rate =0.1, n_estimators=46, max_depth=11,\n",
    " min_child_weight=3, gamma=0, subsample=0.8, colsample_bytree=0.8,\n",
    " objective= 'binary:logistic', nthread=4, scale_pos_weight=1, seed=27), \n",
    "param_grid = param_test3, scoring='roc_auc',n_jobs=4, cv=5)\n",
    "gsearch1.fit(X_train,train_labels)\n",
    "gsearch1.best_params_, gsearch1.best_score_"
   ]
  },
  {
   "cell_type": "code",
   "execution_count": 119,
   "metadata": {
    "colab": {
     "base_uri": "https://localhost:8080/"
    },
    "executionInfo": {
     "elapsed": 1739,
     "status": "ok",
     "timestamp": 1617220036230,
     "user": {
      "displayName": "Raghav Gupta",
      "photoUrl": "https://lh3.googleusercontent.com/a-/AOh14GgorRHrSE1zI37pb0V-75_DSV7fl1tftsSDhWzRKw=s64",
      "userId": "06994152693423055583"
     },
     "user_tz": -330
    },
    "id": "jfKiQm-E0kdo",
    "outputId": "b943709a-b012-4f88-8e9f-3f2552aaae52"
   },
   "outputs": [
    {
     "name": "stdout",
     "output_type": "stream",
     "text": [
      "n_estimators: 84\n",
      "\n",
      "Model Report\n",
      "\n",
      " Classification Report for Train dataset\n",
      "\n",
      "              precision    recall  f1-score   support\n",
      "\n",
      "           0       0.95      0.83      0.89       192\n",
      "           1       0.93      0.98      0.95       422\n",
      "\n",
      "    accuracy                           0.93       614\n",
      "   macro avg       0.94      0.91      0.92       614\n",
      "weighted avg       0.93      0.93      0.93       614\n",
      "\n",
      "AUC Score (Train): 0.989\n"
     ]
    }
   ],
   "source": [
    "xgb2 = XGBClassifier(\n",
    " learning_rate =0.1,\n",
    " n_estimators=1000,\n",
    " max_depth=11,\n",
    " min_child_weight=3,\n",
    " gamma=0,\n",
    " subsample=0.8,\n",
    " colsample_bytree=0.8,\n",
    " objective= 'binary:logistic',\n",
    " nthread=4,\n",
    " scale_pos_weight=1,\n",
    " seed=27)\n",
    "modelfit(xgb2, X_train,train_labels)"
   ]
  },
  {
   "cell_type": "markdown",
   "metadata": {
    "id": "rj0MBz9qzNVm"
   },
   "source": []
  },
  {
   "cell_type": "markdown",
   "metadata": {
    "id": "LmPUAJ_k1pFx"
   },
   "source": [
    "## Step 4: Tune subsample and colsample_bytree"
   ]
  },
  {
   "cell_type": "code",
   "execution_count": 120,
   "metadata": {
    "colab": {
     "base_uri": "https://localhost:8080/"
    },
    "executionInfo": {
     "elapsed": 14348,
     "status": "ok",
     "timestamp": 1617220479358,
     "user": {
      "displayName": "Raghav Gupta",
      "photoUrl": "https://lh3.googleusercontent.com/a-/AOh14GgorRHrSE1zI37pb0V-75_DSV7fl1tftsSDhWzRKw=s64",
      "userId": "06994152693423055583"
     },
     "user_tz": -330
    },
    "id": "ln0OHHL11qFC",
    "outputId": "4a953a9c-b1d4-4604-ffb6-cbc6cad20ee8"
   },
   "outputs": [
    {
     "name": "stderr",
     "output_type": "stream",
     "text": [
      "C:\\Users\\Raghav Gupta\\anaconda3\\lib\\site-packages\\xgboost\\sklearn.py:888: UserWarning: The use of label encoder in XGBClassifier is deprecated and will be removed in a future release. To remove this warning, do the following: 1) Pass option use_label_encoder=False when constructing XGBClassifier object; and 2) Encode your labels (y) as integers starting with 0, i.e. 0, 1, 2, ..., [num_class - 1].\n",
      "  warnings.warn(label_encoder_deprecation_msg, UserWarning)\n"
     ]
    },
    {
     "name": "stdout",
     "output_type": "stream",
     "text": [
      "[16:32:08] WARNING: ..\\src\\learner.cc:1061: Starting in XGBoost 1.3.0, the default evaluation metric used with the objective 'binary:logistic' was changed from 'error' to 'logloss'. Explicitly set eval_metric if you'd like to restore the old behavior.\n"
     ]
    },
    {
     "data": {
      "text/plain": [
       "({'colsample_bytree': 0.6, 'subsample': 0.9}, 0.7873522418414058)"
      ]
     },
     "execution_count": 120,
     "metadata": {},
     "output_type": "execute_result"
    }
   ],
   "source": [
    "param_test4 = {\n",
    " 'subsample':[i/10.0 for i in range(6,10)],\n",
    " 'colsample_bytree':[i/10.0 for i in range(6,10)]\n",
    "}\n",
    "gsearch4 = GridSearchCV(estimator = XGBClassifier( learning_rate =0.1, n_estimators=120, max_depth=11,\n",
    " min_child_weight=3, gamma=0, subsample=0.8, colsample_bytree=0.8,\n",
    " objective= 'binary:logistic', nthread=4, scale_pos_weight=1, seed=27), \n",
    "param_grid = param_test4, scoring='roc_auc',n_jobs=4, cv=5)\n",
    "gsearch4.fit(X_train,train_labels)\n",
    "gsearch4.best_params_, gsearch4.best_score_"
   ]
  },
  {
   "cell_type": "code",
   "execution_count": 121,
   "metadata": {
    "colab": {
     "base_uri": "https://localhost:8080/"
    },
    "executionInfo": {
     "elapsed": 2831,
     "status": "ok",
     "timestamp": 1617220599820,
     "user": {
      "displayName": "Raghav Gupta",
      "photoUrl": "https://lh3.googleusercontent.com/a-/AOh14GgorRHrSE1zI37pb0V-75_DSV7fl1tftsSDhWzRKw=s64",
      "userId": "06994152693423055583"
     },
     "user_tz": -330
    },
    "id": "RB-YrWhl2C_i",
    "outputId": "328defe6-c3a3-491c-a7bb-2bbe2992b11a"
   },
   "outputs": [
    {
     "name": "stderr",
     "output_type": "stream",
     "text": [
      "C:\\Users\\Raghav Gupta\\anaconda3\\lib\\site-packages\\xgboost\\sklearn.py:888: UserWarning: The use of label encoder in XGBClassifier is deprecated and will be removed in a future release. To remove this warning, do the following: 1) Pass option use_label_encoder=False when constructing XGBClassifier object; and 2) Encode your labels (y) as integers starting with 0, i.e. 0, 1, 2, ..., [num_class - 1].\n",
      "  warnings.warn(label_encoder_deprecation_msg, UserWarning)\n"
     ]
    },
    {
     "name": "stdout",
     "output_type": "stream",
     "text": [
      "[16:32:09] WARNING: ..\\src\\learner.cc:1061: Starting in XGBoost 1.3.0, the default evaluation metric used with the objective 'binary:logistic' was changed from 'error' to 'logloss'. Explicitly set eval_metric if you'd like to restore the old behavior.\n"
     ]
    },
    {
     "data": {
      "text/plain": [
       "({'colsample_bytree': 1, 'subsample': 0.8}, 0.7829134298793742)"
      ]
     },
     "execution_count": 121,
     "metadata": {},
     "output_type": "execute_result"
    }
   ],
   "source": [
    "param_test4 = {\n",
    " 'subsample':[0.8],\n",
    " 'colsample_bytree':[0.9, 1,1.1]\n",
    "}\n",
    "gsearch4 = GridSearchCV(estimator = XGBClassifier( learning_rate =0.1, n_estimators=120, max_depth=11,\n",
    " min_child_weight=3, gamma=0, subsample=0.8, colsample_bytree=0.8,\n",
    " objective= 'binary:logistic', nthread=4, scale_pos_weight=1, seed=27), \n",
    "param_grid = param_test4, scoring='roc_auc',n_jobs=4, cv=5)\n",
    "gsearch4.fit(X_train,train_labels)\n",
    "gsearch4.best_params_, gsearch4.best_score_"
   ]
  },
  {
   "cell_type": "code",
   "execution_count": 122,
   "metadata": {
    "colab": {
     "base_uri": "https://localhost:8080/"
    },
    "executionInfo": {
     "elapsed": 6489,
     "status": "ok",
     "timestamp": 1617220769648,
     "user": {
      "displayName": "Raghav Gupta",
      "photoUrl": "https://lh3.googleusercontent.com/a-/AOh14GgorRHrSE1zI37pb0V-75_DSV7fl1tftsSDhWzRKw=s64",
      "userId": "06994152693423055583"
     },
     "user_tz": -330
    },
    "id": "wWL15ENg27O6",
    "outputId": "1724869f-dcbf-4a5d-c1d4-0b4ddfdbbb2c"
   },
   "outputs": [
    {
     "name": "stderr",
     "output_type": "stream",
     "text": [
      "C:\\Users\\Raghav Gupta\\anaconda3\\lib\\site-packages\\xgboost\\sklearn.py:888: UserWarning: The use of label encoder in XGBClassifier is deprecated and will be removed in a future release. To remove this warning, do the following: 1) Pass option use_label_encoder=False when constructing XGBClassifier object; and 2) Encode your labels (y) as integers starting with 0, i.e. 0, 1, 2, ..., [num_class - 1].\n",
      "  warnings.warn(label_encoder_deprecation_msg, UserWarning)\n"
     ]
    },
    {
     "name": "stdout",
     "output_type": "stream",
     "text": [
      "[16:32:13] WARNING: ..\\src\\learner.cc:1061: Starting in XGBoost 1.3.0, the default evaluation metric used with the objective 'binary:logistic' was changed from 'error' to 'logloss'. Explicitly set eval_metric if you'd like to restore the old behavior.\n"
     ]
    },
    {
     "data": {
      "text/plain": [
       "({'colsample_bytree': 1.0, 'subsample': 0.8}, 0.7829134298793742)"
      ]
     },
     "execution_count": 122,
     "metadata": {},
     "output_type": "execute_result"
    }
   ],
   "source": [
    "param_test5 = {\n",
    " 'subsample':[i/100.0 for i in range(75,90,5)],\n",
    " 'colsample_bytree':[i/100.0 for i in range(95,110,5)]\n",
    "}\n",
    "gsearch5 = GridSearchCV(estimator = XGBClassifier( learning_rate =0.1, n_estimators=120, max_depth=11,\n",
    " min_child_weight=3, gamma=0, subsample=0.8, colsample_bytree=0.8,\n",
    " objective= 'binary:logistic', nthread=4, scale_pos_weight=1, seed=27), \n",
    "param_grid = param_test5, scoring='roc_auc',n_jobs=4, cv=5)\n",
    "gsearch5.fit(X_train,train_labels)\n",
    "gsearch5.best_params_, gsearch5.best_score_"
   ]
  },
  {
   "cell_type": "code",
   "execution_count": null,
   "metadata": {
    "id": "-0aRH4UY3n2G"
   },
   "outputs": [],
   "source": []
  },
  {
   "cell_type": "markdown",
   "metadata": {
    "id": "8Nmz3U664h4x"
   },
   "source": [
    "## Step 5: Tuning Regularization Parameters"
   ]
  },
  {
   "cell_type": "code",
   "execution_count": 123,
   "metadata": {
    "colab": {
     "base_uri": "https://localhost:8080/"
    },
    "executionInfo": {
     "elapsed": 5120,
     "status": "ok",
     "timestamp": 1617221164399,
     "user": {
      "displayName": "Raghav Gupta",
      "photoUrl": "https://lh3.googleusercontent.com/a-/AOh14GgorRHrSE1zI37pb0V-75_DSV7fl1tftsSDhWzRKw=s64",
      "userId": "06994152693423055583"
     },
     "user_tz": -330
    },
    "id": "Qh7zbVd74jPk",
    "outputId": "e14e326c-32d1-4512-bbeb-ed07c0042589"
   },
   "outputs": [
    {
     "name": "stderr",
     "output_type": "stream",
     "text": [
      "C:\\Users\\Raghav Gupta\\anaconda3\\lib\\site-packages\\xgboost\\sklearn.py:888: UserWarning: The use of label encoder in XGBClassifier is deprecated and will be removed in a future release. To remove this warning, do the following: 1) Pass option use_label_encoder=False when constructing XGBClassifier object; and 2) Encode your labels (y) as integers starting with 0, i.e. 0, 1, 2, ..., [num_class - 1].\n",
      "  warnings.warn(label_encoder_deprecation_msg, UserWarning)\n"
     ]
    },
    {
     "name": "stdout",
     "output_type": "stream",
     "text": [
      "[16:32:16] WARNING: ..\\src\\learner.cc:1061: Starting in XGBoost 1.3.0, the default evaluation metric used with the objective 'binary:logistic' was changed from 'error' to 'logloss'. Explicitly set eval_metric if you'd like to restore the old behavior.\n"
     ]
    },
    {
     "data": {
      "text/plain": [
       "({'reg_alpha': 1e-05}, 0.7829134298793742)"
      ]
     },
     "execution_count": 123,
     "metadata": {},
     "output_type": "execute_result"
    }
   ],
   "source": [
    "param_test6 = {\n",
    " 'reg_alpha':[1e-5, 1e-2, 0.1, 1, 100]\n",
    "}\n",
    "gsearch6 = GridSearchCV(estimator = XGBClassifier( learning_rate =0.1, n_estimators=120, max_depth=11,\n",
    " min_child_weight=3, gamma=0, subsample=0.8, colsample_bytree=1.0,\n",
    " objective= 'binary:logistic', nthread=4, scale_pos_weight=1, seed=27), \n",
    "param_grid = param_test6, scoring='roc_auc',n_jobs=4, cv=5)\n",
    "gsearch6.fit(X_train,train_labels)\n",
    "gsearch6.best_params_, gsearch6.best_score_"
   ]
  },
  {
   "cell_type": "code",
   "execution_count": 124,
   "metadata": {
    "colab": {
     "base_uri": "https://localhost:8080/"
    },
    "executionInfo": {
     "elapsed": 5407,
     "status": "ok",
     "timestamp": 1617221221490,
     "user": {
      "displayName": "Raghav Gupta",
      "photoUrl": "https://lh3.googleusercontent.com/a-/AOh14GgorRHrSE1zI37pb0V-75_DSV7fl1tftsSDhWzRKw=s64",
      "userId": "06994152693423055583"
     },
     "user_tz": -330
    },
    "id": "iwAQi-do4xNS",
    "outputId": "0f61bf98-0b48-4d33-d722-c6ae50d1dcb8"
   },
   "outputs": [
    {
     "name": "stderr",
     "output_type": "stream",
     "text": [
      "C:\\Users\\Raghav Gupta\\anaconda3\\lib\\site-packages\\xgboost\\sklearn.py:888: UserWarning: The use of label encoder in XGBClassifier is deprecated and will be removed in a future release. To remove this warning, do the following: 1) Pass option use_label_encoder=False when constructing XGBClassifier object; and 2) Encode your labels (y) as integers starting with 0, i.e. 0, 1, 2, ..., [num_class - 1].\n",
      "  warnings.warn(label_encoder_deprecation_msg, UserWarning)\n"
     ]
    },
    {
     "name": "stdout",
     "output_type": "stream",
     "text": [
      "[16:32:19] WARNING: ..\\src\\learner.cc:1061: Starting in XGBoost 1.3.0, the default evaluation metric used with the objective 'binary:logistic' was changed from 'error' to 'logloss'. Explicitly set eval_metric if you'd like to restore the old behavior.\n"
     ]
    },
    {
     "data": {
      "text/plain": [
       "({'reg_alpha': 0}, 0.7829134298793742)"
      ]
     },
     "execution_count": 124,
     "metadata": {},
     "output_type": "execute_result"
    }
   ],
   "source": [
    "param_test7 = {\n",
    " 'reg_alpha':[0, 0.00001, 0.00002, 0.00003, 0.00004]\n",
    "}\n",
    "gsearch7 = GridSearchCV(estimator = XGBClassifier( learning_rate =0.1, n_estimators=120, max_depth=11,\n",
    " min_child_weight=3, gamma=0, subsample=0.8, colsample_bytree=1.0,\n",
    " objective= 'binary:logistic', nthread=4, scale_pos_weight=1, seed=27), \n",
    "param_grid = param_test7, scoring='roc_auc',n_jobs=4, cv=5)\n",
    "gsearch7.fit(X_train,train_labels)\n",
    "gsearch7.best_params_, gsearch5.best_score_"
   ]
  },
  {
   "cell_type": "code",
   "execution_count": 125,
   "metadata": {
    "colab": {
     "base_uri": "https://localhost:8080/"
    },
    "executionInfo": {
     "elapsed": 1959,
     "status": "ok",
     "timestamp": 1617221330395,
     "user": {
      "displayName": "Raghav Gupta",
      "photoUrl": "https://lh3.googleusercontent.com/a-/AOh14GgorRHrSE1zI37pb0V-75_DSV7fl1tftsSDhWzRKw=s64",
      "userId": "06994152693423055583"
     },
     "user_tz": -330
    },
    "id": "dIaCyLMu5WbN",
    "outputId": "ba14f50b-858a-4be5-af7e-4212b883b5b6"
   },
   "outputs": [
    {
     "name": "stdout",
     "output_type": "stream",
     "text": [
      "n_estimators: 94\n",
      "\n",
      "Model Report\n",
      "\n",
      " Classification Report for Train dataset\n",
      "\n",
      "              precision    recall  f1-score   support\n",
      "\n",
      "           0       0.95      0.86      0.90       192\n",
      "           1       0.94      0.98      0.96       422\n",
      "\n",
      "    accuracy                           0.94       614\n",
      "   macro avg       0.95      0.92      0.93       614\n",
      "weighted avg       0.94      0.94      0.94       614\n",
      "\n",
      "AUC Score (Train): 0.992\n"
     ]
    }
   ],
   "source": [
    "xgb3 = XGBClassifier(\n",
    " learning_rate =0.1,\n",
    " n_estimators=1000,\n",
    " max_depth=11,\n",
    " min_child_weight=3,\n",
    " gamma=0,\n",
    " subsample=0.8,\n",
    " colsample_bytree=1.0,\n",
    " reg_alpha=0,\n",
    " objective= 'binary:logistic',\n",
    " nthread=4,\n",
    " scale_pos_weight=1,\n",
    " seed=27)\n",
    "modelfit(xgb3, X_train,train_labels)"
   ]
  },
  {
   "cell_type": "markdown",
   "metadata": {
    "id": "iO8Kjw1B6B5S"
   },
   "source": [
    "## Step 6: Reducing Learning Rate"
   ]
  },
  {
   "cell_type": "code",
   "execution_count": 126,
   "metadata": {
    "colab": {
     "base_uri": "https://localhost:8080/"
    },
    "executionInfo": {
     "elapsed": 52346,
     "status": "ok",
     "timestamp": 1617221915098,
     "user": {
      "displayName": "Raghav Gupta",
      "photoUrl": "https://lh3.googleusercontent.com/a-/AOh14GgorRHrSE1zI37pb0V-75_DSV7fl1tftsSDhWzRKw=s64",
      "userId": "06994152693423055583"
     },
     "user_tz": -330
    },
    "id": "kZCn9GQl5x2c",
    "outputId": "ee662cb4-0d24-40ec-d693-9051d286845a"
   },
   "outputs": [
    {
     "name": "stderr",
     "output_type": "stream",
     "text": [
      "C:\\Users\\Raghav Gupta\\anaconda3\\lib\\site-packages\\xgboost\\sklearn.py:888: UserWarning: The use of label encoder in XGBClassifier is deprecated and will be removed in a future release. To remove this warning, do the following: 1) Pass option use_label_encoder=False when constructing XGBClassifier object; and 2) Encode your labels (y) as integers starting with 0, i.e. 0, 1, 2, ..., [num_class - 1].\n",
      "  warnings.warn(label_encoder_deprecation_msg, UserWarning)\n"
     ]
    },
    {
     "name": "stdout",
     "output_type": "stream",
     "text": [
      "[16:32:54] WARNING: ..\\src\\learner.cc:1061: Starting in XGBoost 1.3.0, the default evaluation metric used with the objective 'binary:logistic' was changed from 'error' to 'logloss'. Explicitly set eval_metric if you'd like to restore the old behavior.\n"
     ]
    },
    {
     "data": {
      "text/plain": [
       "({'learning_rate': 0.06, 'n_estimators': 150}, 0.7918921549726503)"
      ]
     },
     "execution_count": 126,
     "metadata": {},
     "output_type": "execute_result"
    }
   ],
   "source": [
    "param_test8 = {\n",
    " 'learning_rate':[0.01, 0.04, 0.06, 0.08, 0.01],\n",
    " 'n_estimators' :[90, 100, 110, 120, 130, 140, 150, 500]\n",
    "}\n",
    "gsearch8 = GridSearchCV(estimator = XGBClassifier( learning_rate =0.1, n_estimators=120, max_depth=11,\n",
    " min_child_weight=3, gamma=0, subsample=0.8, colsample_bytree=1.0,\n",
    " objective= 'binary:logistic', nthread=4, scale_pos_weight=1, seed=27), \n",
    "param_grid = param_test8, scoring='roc_auc',n_jobs=4, cv=5)\n",
    "gsearch8.fit(X_train,train_labels)\n",
    "gsearch8.best_params_, gsearch8.best_score_"
   ]
  },
  {
   "cell_type": "code",
   "execution_count": 128,
   "metadata": {
    "colab": {
     "base_uri": "https://localhost:8080/"
    },
    "executionInfo": {
     "elapsed": 977,
     "status": "ok",
     "timestamp": 1617222180502,
     "user": {
      "displayName": "Raghav Gupta",
      "photoUrl": "https://lh3.googleusercontent.com/a-/AOh14GgorRHrSE1zI37pb0V-75_DSV7fl1tftsSDhWzRKw=s64",
      "userId": "06994152693423055583"
     },
     "user_tz": -330
    },
    "id": "URVZXjnZ6DUz",
    "outputId": "fc80b674-7ba2-4cfd-f870-b2de990c365a"
   },
   "outputs": [
    {
     "name": "stdout",
     "output_type": "stream",
     "text": [
      "\n",
      " Classification Report for Train dataset\n",
      "\n",
      "              precision    recall  f1-score   support\n",
      "\n",
      "           0       0.96      0.85      0.90       192\n",
      "           1       0.93      0.98      0.96       422\n",
      "\n",
      "    accuracy                           0.94       614\n",
      "   macro avg       0.95      0.92      0.93       614\n",
      "weighted avg       0.94      0.94      0.94       614\n",
      "\n",
      "\n",
      " Classification Report for Validate dataset\n",
      "\n",
      "              precision    recall  f1-score   support\n",
      "\n",
      "           0       0.98      0.89      0.93        61\n",
      "           1       0.95      0.99      0.97       124\n",
      "\n",
      "    accuracy                           0.96       185\n",
      "   macro avg       0.96      0.94      0.95       185\n",
      "weighted avg       0.96      0.96      0.96       185\n",
      "\n"
     ]
    }
   ],
   "source": [
    "check_performance(gsearch8,X_train, X_validate, train_labels,validate_labels)\n",
    "best_grid_XGB = gsearch8.best_estimator_\n",
    "ytrain_predict_XGB = best_grid_XGB.predict(X_train)\n",
    "ytest_predict_XGB = best_grid_XGB.predict(X_test)\n"
   ]
  },
  {
   "cell_type": "code",
   "execution_count": 129,
   "metadata": {
    "executionInfo": {
     "elapsed": 1263,
     "status": "ok",
     "timestamp": 1617222799777,
     "user": {
      "displayName": "Raghav Gupta",
      "photoUrl": "https://lh3.googleusercontent.com/a-/AOh14GgorRHrSE1zI37pb0V-75_DSV7fl1tftsSDhWzRKw=s64",
      "userId": "06994152693423055583"
     },
     "user_tz": -330
    },
    "id": "ruYZhgxR8lH7"
   },
   "outputs": [],
   "source": [
    "df_test_bkp[\"Loan_Status\"] = ytest_predict_XGB"
   ]
  },
  {
   "cell_type": "code",
   "execution_count": 130,
   "metadata": {
    "executionInfo": {
     "elapsed": 2048,
     "status": "ok",
     "timestamp": 1617222806446,
     "user": {
      "displayName": "Raghav Gupta",
      "photoUrl": "https://lh3.googleusercontent.com/a-/AOh14GgorRHrSE1zI37pb0V-75_DSV7fl1tftsSDhWzRKw=s64",
      "userId": "06994152693423055583"
     },
     "user_tz": -330
    },
    "id": "zfbx1vKq_Ysl"
   },
   "outputs": [],
   "source": [
    "df_test_bkp.Loan_Status = df_test_bkp.Loan_Status.replace(to_replace = 0, value ='N')\n",
    "df_test_bkp.Loan_Status = df_test_bkp.Loan_Status.replace(to_replace = 1, value ='Y')"
   ]
  },
  {
   "cell_type": "code",
   "execution_count": 131,
   "metadata": {
    "executionInfo": {
     "elapsed": 723,
     "status": "ok",
     "timestamp": 1617222807009,
     "user": {
      "displayName": "Raghav Gupta",
      "photoUrl": "https://lh3.googleusercontent.com/a-/AOh14GgorRHrSE1zI37pb0V-75_DSV7fl1tftsSDhWzRKw=s64",
      "userId": "06994152693423055583"
     },
     "user_tz": -330
    },
    "id": "n8Fey61q9dov"
   },
   "outputs": [],
   "source": [
    "df_test_bkp[[\"Loan_ID\",\"Loan_Status\"]].to_csv('Practice_Hackathon_Loan_Raghav_submission4.csv',index=False)"
   ]
  },
  {
   "cell_type": "code",
   "execution_count": 132,
   "metadata": {
    "colab": {
     "base_uri": "https://localhost:8080/",
     "height": 17
    },
    "executionInfo": {
     "elapsed": 981,
     "status": "ok",
     "timestamp": 1617222808413,
     "user": {
      "displayName": "Raghav Gupta",
      "photoUrl": "https://lh3.googleusercontent.com/a-/AOh14GgorRHrSE1zI37pb0V-75_DSV7fl1tftsSDhWzRKw=s64",
      "userId": "06994152693423055583"
     },
     "user_tz": -330
    },
    "id": "Pv8OEVWd_B4f",
    "outputId": "fe960c89-24f5-4486-e545-56bdb769e0d8"
   },
   "outputs": [],
   "source": [
    "# files.download('Practice_Hackathon_Loan_Raghav_submission4.csv')"
   ]
  },
  {
   "cell_type": "code",
   "execution_count": null,
   "metadata": {
    "id": "Jhlm_Ec29l6q"
   },
   "outputs": [],
   "source": []
  }
 ],
 "metadata": {
  "accelerator": "GPU",
  "colab": {
   "collapsed_sections": [],
   "name": "Raghav_Gupta_Loan.ipynb",
   "provenance": []
  },
  "kernelspec": {
   "display_name": "Python 3",
   "language": "python",
   "name": "python3"
  },
  "language_info": {
   "codemirror_mode": {
    "name": "ipython",
    "version": 3
   },
   "file_extension": ".py",
   "mimetype": "text/x-python",
   "name": "python",
   "nbconvert_exporter": "python",
   "pygments_lexer": "ipython3",
   "version": "3.8.3"
  },
  "toc": {
   "base_numbering": 1,
   "nav_menu": {},
   "number_sections": true,
   "sideBar": true,
   "skip_h1_title": false,
   "title_cell": "Table of Contents",
   "title_sidebar": "Contents",
   "toc_cell": false,
   "toc_position": {},
   "toc_section_display": true,
   "toc_window_display": false
  },
  "varInspector": {
   "cols": {
    "lenName": 16,
    "lenType": 16,
    "lenVar": 40
   },
   "kernels_config": {
    "python": {
     "delete_cmd_postfix": "",
     "delete_cmd_prefix": "del ",
     "library": "var_list.py",
     "varRefreshCmd": "print(var_dic_list())"
    },
    "r": {
     "delete_cmd_postfix": ") ",
     "delete_cmd_prefix": "rm(",
     "library": "var_list.r",
     "varRefreshCmd": "cat(var_dic_list()) "
    }
   },
   "types_to_exclude": [
    "module",
    "function",
    "builtin_function_or_method",
    "instance",
    "_Feature"
   ],
   "window_display": false
  }
 },
 "nbformat": 4,
 "nbformat_minor": 1
}
